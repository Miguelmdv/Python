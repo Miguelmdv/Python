{
 "cells": [
  {
   "cell_type": "code",
   "execution_count": 4,
   "metadata": {},
   "outputs": [
    {
     "data": {
      "text/plain": [
       "7"
      ]
     },
     "execution_count": 4,
     "metadata": {},
     "output_type": "execute_result"
    }
   ],
   "source": [
    "from Libs import fund_col\n",
    "\n",
    "fund_col.fund(4)"
   ]
  },
  {
   "cell_type": "code",
   "execution_count": 5,
   "metadata": {},
   "outputs": [
    {
     "data": {
      "text/plain": [
       "datetime.datetime(2023, 6, 14, 15, 22, 45, 823845)"
      ]
     },
     "execution_count": 5,
     "metadata": {},
     "output_type": "execute_result"
    }
   ],
   "source": [
    "import datetime\n",
    "datetime.datetime.now()"
   ]
  },
  {
   "attachments": {},
   "cell_type": "markdown",
   "metadata": {},
   "source": [
    "### Ejercicio 1"
   ]
  },
  {
   "cell_type": "code",
   "execution_count": 6,
   "metadata": {},
   "outputs": [
    {
     "name": "stdout",
     "output_type": "stream",
     "text": [
      "[10, 15, 20]\n"
     ]
    }
   ],
   "source": [
    "import random\n",
    "count=0\n",
    "nums =[]\n",
    "while count < 3:\n",
    "    num = random.randint(0,100)\n",
    "    if num % 5 == 0:\n",
    "        nums.append(num)\n",
    "        count+=1\n",
    "print(nums)"
   ]
  },
  {
   "attachments": {},
   "cell_type": "markdown",
   "metadata": {},
   "source": [
    "### Ejercicio 2"
   ]
  },
  {
   "cell_type": "code",
   "execution_count": 7,
   "metadata": {},
   "outputs": [
    {
     "name": "stdout",
     "output_type": "stream",
     "text": [
      "Future date after 100 days: 2023-09-22 15:22:45.855364\n"
     ]
    }
   ],
   "source": [
    "import datetime as dt\n",
    "\n",
    "curr_time = dt.datetime.now()\n",
    "\n",
    "future_anni = curr_time + dt.timedelta(days=100)\n",
    "\n",
    "print(\"Future date after 100 days:\", str(future_anni))\n",
    "\n"
   ]
  },
  {
   "attachments": {},
   "cell_type": "markdown",
   "metadata": {},
   "source": [
    "### Ejercicio Parejas"
   ]
  },
  {
   "cell_type": "code",
   "execution_count": null,
   "metadata": {},
   "outputs": [],
   "source": [
    "import turtle\n",
    "\n",
    "colors = [\"red\", \"yellow\", \"blue\", \"orange\", \"green\", \"red\"]\n",
    "\n",
    "aiden = turtle.Turtle()\n",
    "turtle.bgcolor(\"black\")\n",
    "\n",
    "for n in range(36):\n",
    "    for i in range(6):\n",
    "        aiden.color(colors[i])\n",
    "        aiden.forward(100)\n",
    "        aiden.left(60)\n",
    "    aiden.right(10)\n",
    "aiden.penup()\n",
    "aiden.color(\"white\")\n",
    "\n",
    "for i in range(36):\n",
    "    aiden.forward(220)\n",
    "    aiden.pendown()\n",
    "    aiden.circle(5)\n",
    "    aiden.penup()\n",
    "    aiden.backward(220)\n",
    "    aiden.right(10)\n",
    "aiden.hideturtle()"
   ]
  }
 ],
 "metadata": {
  "kernelspec": {
   "display_name": "base",
   "language": "python",
   "name": "python3"
  },
  "language_info": {
   "codemirror_mode": {
    "name": "ipython",
    "version": 3
   },
   "file_extension": ".py",
   "mimetype": "text/x-python",
   "name": "python",
   "nbconvert_exporter": "python",
   "pygments_lexer": "ipython3",
   "version": "3.10.9"
  },
  "orig_nbformat": 4
 },
 "nbformat": 4,
 "nbformat_minor": 2
}
