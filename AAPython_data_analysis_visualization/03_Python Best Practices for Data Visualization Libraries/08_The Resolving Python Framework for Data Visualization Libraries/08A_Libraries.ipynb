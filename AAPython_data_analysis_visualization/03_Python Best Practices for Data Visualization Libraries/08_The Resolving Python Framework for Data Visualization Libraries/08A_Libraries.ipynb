{
 "cells": [
  {
   "cell_type": "markdown",
   "id": "693ff741-45f0-42ae-a83b-4008369319f3",
   "metadata": {},
   "source": [
    "# #5 | The Resolving Python Framework for Data Visualization Libraries"
   ]
  },
  {
   "cell_type": "markdown",
   "id": "b5533a25-93d4-4f0b-b589-13e56ce2ddbd",
   "metadata": {},
   "source": [
    "## Possibilities\n",
    "\n",
    "Look at the following example as an aspiration you can achieve if you fully understand and replicate this whole tutorial with your own data."
   ]
  },
  {
   "cell_type": "markdown",
   "id": "9d3a1229-eb38-4397-abc0-f403c05f6b14",
   "metadata": {},
   "source": [
    "Let's load a dataset that contains information from countries (rows) considering sociodemographical and economical variables (columns)."
   ]
  },
  {
   "cell_type": "code",
   "execution_count": null,
   "id": "413ad691-953e-4473-ad48-1ca9e1294ebe",
   "metadata": {},
   "outputs": [],
   "source": [
    "import plotly.express as px\n",
    "\n",
    "df_countries = px.data.gapminder()\n",
    "df_countries"
   ]
  },
  {
   "cell_type": "markdown",
   "id": "89015718-c764-405f-8745-38c03c7d6004",
   "metadata": {},
   "source": [
    "Python contains 3 main libraries for Data Visualization:\n",
    "    \n",
    "1. **Matplotlib** (Mathematical Plotting)\n",
    "2. **Seaborn** (High-Level based on Matplotlib)\n",
    "3. **Plotly** (Animated Plots)\n",
    "\n",
    "I personally love `plotly` because the Visualizations are interactive; you may hover the mouse over the points to get information from it:"
   ]
  },
  {
   "cell_type": "code",
   "execution_count": null,
   "id": "f0253fc4-962d-4010-8f4b-e086df899037",
   "metadata": {},
   "outputs": [],
   "source": [
    "df_countries_2007 = df_countries.query('year == 2007')\n",
    "\n",
    "px.scatter(data_frame=df_countries_2007, x='gdpPercap', y='lifeExp',\n",
    "           color='continent', hover_name='country', size='pop')"
   ]
  },
  {
   "cell_type": "markdown",
   "id": "9eb7e70a-1920-478e-ada8-c75da706af17",
   "metadata": {},
   "source": [
    "You can even animate the plots with a simple parameter. Click on play ↓\n",
    "\n",
    "PS: The following example is taken from the [official plotly library website](https://plotly.com/python/animations/):"
   ]
  },
  {
   "cell_type": "code",
   "execution_count": null,
   "id": "26bd978d-453d-426c-b2ce-870f7282f76b",
   "metadata": {},
   "outputs": [],
   "source": [
    "px.scatter(df_countries, x=\"gdpPercap\", y=\"lifeExp\", animation_frame=\"year\", animation_group=\"country\",\n",
    "           size=\"pop\", color=\"continent\", hover_name=\"country\",\n",
    "           log_x=True, size_max=55, range_x=[100,100000], range_y=[25,90])"
   ]
  },
  {
   "cell_type": "markdown",
   "id": "48856bce-b6a9-44b7-a32b-fc2a50fa71c5",
   "metadata": {},
   "source": [
    "In this article, we'll dig in the details of Data Visualization in Python to solificate the required knowledge in order to come up with awsome visualizations like the ones we saw before."
   ]
  },
  {
   "cell_type": "markdown",
   "id": "0fcd848f-4bc5-4e91-a1c7-d3f63aa13b65",
   "metadata": {},
   "source": [
    "## Matplotlib"
   ]
  },
  {
   "cell_type": "markdown",
   "id": "52b56653-bce3-4a3e-9708-40d4c25a4106",
   "metadata": {},
   "source": [
    "Matplotlib is a library used for Data Visualization.\n",
    "\n",
    "We use the **sublibrary** (module) `pyplot` from `matplotlib` library to access the functions."
   ]
  },
  {
   "cell_type": "code",
   "execution_count": null,
   "id": "fc15a9c5-ded6-4d12-8139-7eec17ae4d81",
   "metadata": {},
   "outputs": [],
   "source": [
    "import matplotlib.pyplot as plt"
   ]
  },
  {
   "cell_type": "markdown",
   "id": "a23de2d3-ec8e-49fe-9988-83597157a73f",
   "metadata": {},
   "source": [
    "Let's make a bar plot:"
   ]
  },
  {
   "cell_type": "code",
   "execution_count": null,
   "id": "f59d9629-15e8-4cf2-a44e-1577d858478f",
   "metadata": {},
   "outputs": [],
   "source": [
    "plt.bar(x=['Real Madrid', 'Barcelona', 'Bayern Munich'],\n",
    "       height=[14, 5, 6]);"
   ]
  },
  {
   "cell_type": "markdown",
   "id": "9b9af32a-18f3-4570-b981-ac5aaaf9b6df",
   "metadata": {},
   "source": [
    "We could have also done a point plot:"
   ]
  },
  {
   "cell_type": "code",
   "execution_count": null,
   "id": "323fa695-4f58-4a8f-a443-5f9a400306ae",
   "metadata": {},
   "outputs": [],
   "source": [
    "plt.scatter(x=['Real Madrid', 'Barcelona', 'Bayern Munich'],\n",
    "            y=[14, 5, 6]);"
   ]
  },
  {
   "cell_type": "markdown",
   "id": "5b50a3ce-deff-4481-bce8-3a07cbfcc482",
   "metadata": {},
   "source": [
    "But it doesn't make sense with the data we have represented."
   ]
  },
  {
   "cell_type": "markdown",
   "id": "3b7f2071-ff74-429e-9a51-9ce31824f59b",
   "metadata": {},
   "source": [
    "## Visualize DataFrame"
   ]
  },
  {
   "cell_type": "markdown",
   "id": "ee525ee3-164b-44ff-aba8-c69eecd5f549",
   "metadata": {},
   "source": [
    "Let's create a DataFrame:"
   ]
  },
  {
   "cell_type": "code",
   "execution_count": null,
   "id": "2ab5fe15-71f7-47ad-9551-11aa6762b775",
   "metadata": {},
   "outputs": [],
   "source": [
    "teams = ['Real Madrid', 'Barcelona', 'Bayern Munich']\n",
    "uefa_champions = [14, 5, 6]\n",
    "\n",
    "import pandas as pd\n",
    "\n",
    "df_champions = pd.DataFrame(data={'Team': teams,\n",
    "                   'UEFA Champions': uefa_champions})\n",
    "df_champions"
   ]
  },
  {
   "cell_type": "markdown",
   "id": "e7d1d359-f02b-4bbb-b0f7-e2ebb42c7da1",
   "metadata": {},
   "source": [
    "And visualize it using..."
   ]
  },
  {
   "cell_type": "markdown",
   "id": "706072df-1441-4ec7-a9a1-f33552b2ba9f",
   "metadata": {},
   "source": [
    "### Matplotlib functions"
   ]
  },
  {
   "cell_type": "code",
   "execution_count": null,
   "id": "17645286-010e-4fde-9be5-c65e4b5b5b9b",
   "metadata": {},
   "outputs": [],
   "source": [
    "plt.bar(x=df_champions['Team'],\n",
    "        height=df_champions['UEFA Champions']);"
   ]
  },
  {
   "cell_type": "markdown",
   "id": "5e3e56fb-3ddb-452c-9ae2-61bd38ead11c",
   "metadata": {},
   "source": [
    "### DataFrame functions"
   ]
  },
  {
   "cell_type": "code",
   "execution_count": null,
   "id": "4032ac68-5416-4ef1-8c84-d7058366b9c3",
   "metadata": {},
   "outputs": [],
   "source": [
    "df_champions.plot.bar(x='Team', y='UEFA Champions');"
   ]
  },
  {
   "cell_type": "markdown",
   "id": "a54c10da-2b62-4ec6-bc0d-d309a251a5ac",
   "metadata": {},
   "source": [
    "## Seaborn"
   ]
  },
  {
   "cell_type": "markdown",
   "id": "e3703e07-00a9-4559-8aaa-a0d008b5c56a",
   "metadata": {},
   "source": [
    "Let's read another dataset: the Football Premier League classification for 2021/2022."
   ]
  },
  {
   "cell_type": "code",
   "execution_count": null,
   "id": "256a3e6a-5d45-4c22-b30a-e6eaea6841f5",
   "metadata": {},
   "outputs": [],
   "source": [
    "df_premier = pd.read_excel(io='premier_league.xlsx')\n",
    "df_premier"
   ]
  },
  {
   "cell_type": "markdown",
   "id": "a6a255a0-d8a5-41b3-8d2a-1bf2e3cdf020",
   "metadata": {},
   "source": [
    "We will visualize a point plot, from now own **scatter plot** to check if there is a relationship between the number of goals scored `F` versus the Points `Pts`."
   ]
  },
  {
   "cell_type": "code",
   "execution_count": null,
   "id": "e5fd706d-34c1-4221-95cf-e0a3fef69b8c",
   "metadata": {},
   "outputs": [],
   "source": [
    "import seaborn as sns\n",
    "\n",
    "sns.scatterplot(x='F', y='Pts', data=df_premier);"
   ]
  },
  {
   "cell_type": "markdown",
   "id": "528ae39e-dfe9-4c4a-a409-4cc68f0e721d",
   "metadata": {},
   "source": [
    "Can we do the same plot with matplotlib `plt` library?"
   ]
  },
  {
   "cell_type": "code",
   "execution_count": null,
   "id": "15af5b5b-89e6-4274-964d-aec69c0a84c5",
   "metadata": {},
   "outputs": [],
   "source": [
    "plt.scatter(x='F', y='Pts', data=df_premier);"
   ]
  },
  {
   "cell_type": "markdown",
   "id": "dcf6e42a-e608-438d-abf8-81f4652212f5",
   "metadata": {},
   "source": [
    "Which are the differences between them?\n",
    "\n",
    "1. The points: `matplotlib` points are bigger than `seaborn`\n",
    "2. The axis labels: `matplotlib` axis labels are non-existent, whereas `seaborn` places the names of the columns"
   ]
  },
  {
   "cell_type": "markdown",
   "id": "fc80f155-fd0a-4a5d-8aff-c689d7d6a868",
   "metadata": {},
   "source": [
    "From which library are the objects returned by the previous functions?"
   ]
  },
  {
   "cell_type": "code",
   "execution_count": null,
   "id": "cab36934-6cdb-4dc4-a4cb-e6a9c08b1bc6",
   "metadata": {},
   "outputs": [],
   "source": [
    "seaborn_plot = sns.scatterplot(x='F', y='Pts', data=df_premier);"
   ]
  },
  {
   "cell_type": "code",
   "execution_count": null,
   "id": "ea458490-7a81-4e7f-a98d-e0680d93a7dc",
   "metadata": {},
   "outputs": [],
   "source": [
    "matplotlib_plot = plt.scatter(x='F', y='Pts', data=df_premier);"
   ]
  },
  {
   "cell_type": "code",
   "execution_count": null,
   "id": "ccbf0cd0-05d7-4306-9203-f4c062e82906",
   "metadata": {},
   "outputs": [],
   "source": [
    "type(seaborn_plot)"
   ]
  },
  {
   "cell_type": "code",
   "execution_count": null,
   "id": "3a96a37d-8299-46b1-9d02-0d0b34753247",
   "metadata": {},
   "outputs": [],
   "source": [
    "type(matplotlib_plot)"
   ]
  },
  {
   "cell_type": "markdown",
   "id": "a1eae843-0dd8-439f-8e7f-4d69f258311b",
   "metadata": {},
   "source": [
    "Why does `seaborn` returns a `matplotlib` object?\n",
    "\n",
    "Quoted from the [seaborn](https://seaborn.pydata.org/) official website:\n",
    "\n",
    "> Seaborn is a Python data visualization library **based on matplotlib**. It provides a **high-level\\* interface** for drawing attractive and informative statistical graphics.\n",
    "\n",
    "\\*High-level means the communication between humans and the computer is easier to understand as compared to low-level where the communication goes through 0s and 1s."
   ]
  },
  {
   "cell_type": "markdown",
   "id": "edbcef59-8d69-4bb7-8a81-458933a8536e",
   "metadata": {},
   "source": [
    "Could you place the names of the teams in the points?"
   ]
  },
  {
   "cell_type": "code",
   "execution_count": null,
   "id": "acbf6c0f-b411-4fd6-9d2b-d93f9d94ba6f",
   "metadata": {},
   "outputs": [],
   "source": [
    "plt.scatter(x='F', y='Pts', data=df_premier)\n",
    "\n",
    "for idx, data in df_premier.iterrows():\n",
    "    plt.text(x=data['F'], y=data['Pts'], s=data['Team'])"
   ]
  },
  {
   "cell_type": "markdown",
   "id": "dac38543-e821-4b45-9eaf-2b7a753a5d59",
   "metadata": {},
   "source": [
    "It's very complicated.\n",
    "\n",
    "Is there an easier way?\n",
    "\n",
    "Yes, you may use an interactive plot with `plotly` library and display the name of the Team as you hover the mouse in a point."
   ]
  },
  {
   "cell_type": "markdown",
   "id": "5ffff348-9daf-4973-99df-0610a04fb831",
   "metadata": {},
   "source": [
    "## Plotly"
   ]
  },
  {
   "cell_type": "markdown",
   "id": "b3c7b32f-ac91-4b61-a05a-9ebcce1d8e98",
   "metadata": {},
   "source": [
    "We use the `express` module within `plotly` library to access the functions of the plots:"
   ]
  },
  {
   "cell_type": "code",
   "execution_count": null,
   "id": "dcac380b-f55c-4c0c-a4c5-9de2bca01d87",
   "metadata": {},
   "outputs": [],
   "source": [
    "import plotly.express as px\n",
    "\n",
    "px.scatter(data_frame=df_premier, x='F', y='Pts', hover_name='Team')\n"
   ]
  },
  {
   "cell_type": "markdown",
   "id": "e2d0e320-6315-4648-afef-5048b9d30663",
   "metadata": {},
   "source": [
    "## Practice"
   ]
  },
  {
   "cell_type": "markdown",
   "id": "7b3e3983-05f7-4e39-a866-a94902902b7a",
   "metadata": {},
   "source": [
    "You'll practice the [Resolving Python Framework](https://www.craft.do/s/G80r1dqrQKrjTb) we have cover in this course by applying functions to the following `DataFrame`:"
   ]
  },
  {
   "cell_type": "code",
   "execution_count": null,
   "id": "2a62b013-2258-4e93-914d-80ccaf9d1d1d",
   "metadata": {},
   "outputs": [],
   "source": [
    "import pandas\n",
    "\n",
    "df_football = pandas.read_csv('russia-world-cup.csv') #!\n",
    "df_football = df_football[['Team', 'Goals Scored']].rename({'Goals Scored': 'goals', 'Team': 'team'}, axis=1).copy()\n",
    "df_football"
   ]
  },
  {
   "cell_type": "markdown",
   "id": "72a3a752-42ca-458b-a169-95773d6e5bc9",
   "metadata": {},
   "source": [
    "We have three main libraries in Python for Data Visualization:\n",
    "    \n",
    "- Matplotlib\n",
    "- Seaborn\n",
    "- Plotly\n",
    "\n",
    "Therefore, you'll create the same type of figure:\n",
    "\n",
    "1. Scatter plot\n",
    "2. Bar plot\n",
    "3. Pie plot\n",
    "4. Line plot\n",
    "\n",
    "With each library.\n",
    "\n",
    "The key reason to develop this exercise is the enhancement of the Mental Model. Therefore, you should use the shortcuts:\n",
    "\n",
    "1. `library.↹` [TAB] to get the list of functions available.\n",
    "2. `function(⇧ + ↹)` [SHIFT] + [TAB] to read the documentation to know the parameters you need to pass.\n",
    "\n",
    "> You may have different written names for the function that produces the same figure across the different libraries. If you start typing the name of the figure, you'll discover it. "
   ]
  },
  {
   "cell_type": "markdown",
   "id": "386fe648-1110-41a7-929a-d215e284971e",
   "metadata": {},
   "source": [
    "### Scatterplots"
   ]
  },
  {
   "cell_type": "markdown",
   "id": "1ff2180b-3c7b-4345-a19c-a6bf84d26b46",
   "metadata": {},
   "source": [
    "#### Matplotlib"
   ]
  },
  {
   "cell_type": "code",
   "execution_count": null,
   "id": "e50d8554-58e9-484b-9273-7ae42f5af318",
   "metadata": {},
   "outputs": [],
   "source": [
    "import matplotlib.pyplot as plt #!"
   ]
  },
  {
   "cell_type": "code",
   "execution_count": null,
   "id": "3e595bda-bc6b-4d4b-9112-f7ecd9519f86",
   "metadata": {},
   "outputs": [],
   "source": [
    "plt."
   ]
  },
  {
   "cell_type": "markdown",
   "id": "0aca0abf-578e-4e33-b2cc-5aea91c679a4",
   "metadata": {},
   "source": [
    "#### Seaborn"
   ]
  },
  {
   "cell_type": "code",
   "execution_count": null,
   "id": "3ce41d05-b60f-4cf7-9e5e-f5d6f1fe41ce",
   "metadata": {},
   "outputs": [],
   "source": [
    "import seaborn as sns #!"
   ]
  },
  {
   "cell_type": "code",
   "execution_count": null,
   "id": "ff0bd5bd-d48e-49da-b465-c2fc99e533fb",
   "metadata": {},
   "outputs": [],
   "source": [
    "sns."
   ]
  },
  {
   "cell_type": "markdown",
   "id": "13df07d2-bc15-4a52-9923-7a06ef7037b2",
   "metadata": {},
   "source": [
    "#### Plotly"
   ]
  },
  {
   "cell_type": "code",
   "execution_count": null,
   "id": "30e8ea8a-25f0-43da-99d7-4773a36cc085",
   "metadata": {},
   "outputs": [],
   "source": [
    "import plotly.express as px"
   ]
  },
  {
   "cell_type": "code",
   "execution_count": null,
   "id": "a7b3f99f-0efa-4703-82dd-1260644bb662",
   "metadata": {},
   "outputs": [],
   "source": [
    "px."
   ]
  },
  {
   "cell_type": "markdown",
   "id": "838e1b8f-7ff6-43a4-9a8c-2b6ff7d49467",
   "metadata": {},
   "source": [
    "### Barplot"
   ]
  },
  {
   "cell_type": "markdown",
   "id": "cffdfecb-fef5-43b8-ac65-6a8f1971fef5",
   "metadata": {},
   "source": [
    "#### Matplotlib"
   ]
  },
  {
   "cell_type": "code",
   "execution_count": null,
   "id": "78c604c8-0f14-4e26-9d1f-83ab8acd4a8c",
   "metadata": {},
   "outputs": [],
   "source": [
    "plt."
   ]
  },
  {
   "cell_type": "markdown",
   "id": "4c36051c-260e-4bc0-93cc-d557eef79a83",
   "metadata": {},
   "source": [
    "#### Seaborn"
   ]
  },
  {
   "cell_type": "code",
   "execution_count": null,
   "id": "4e328b84-7499-4601-b821-fc1c43e328eb",
   "metadata": {},
   "outputs": [],
   "source": [
    "sns."
   ]
  },
  {
   "cell_type": "markdown",
   "id": "3324965c-7b69-4dff-84d0-0dc6821b053a",
   "metadata": {},
   "source": [
    "#### Plotly"
   ]
  },
  {
   "cell_type": "code",
   "execution_count": null,
   "id": "15224fd5-20ec-427e-ac53-bd07aa61c4ff",
   "metadata": {},
   "outputs": [],
   "source": [
    "px."
   ]
  },
  {
   "cell_type": "markdown",
   "id": "c271e240-f054-45c5-8174-25f19ca33979",
   "metadata": {},
   "source": [
    "### Pieplot"
   ]
  },
  {
   "cell_type": "markdown",
   "id": "0a08e468-a43f-4f26-b998-f9c71ef0c491",
   "metadata": {},
   "source": [
    "#### Matplotlib"
   ]
  },
  {
   "cell_type": "code",
   "execution_count": null,
   "id": "bdb322b7-58cd-4955-abdb-b0fb8be01cfa",
   "metadata": {},
   "outputs": [],
   "source": []
  },
  {
   "cell_type": "markdown",
   "id": "4722a8ac-a2df-485a-920e-7c0f7e0c5cf0",
   "metadata": {},
   "source": [
    "\n",
    "#### Seaborn"
   ]
  },
  {
   "cell_type": "code",
   "execution_count": null,
   "id": "4c2abe42-c751-40b7-ae37-4d8e863e6d5a",
   "metadata": {},
   "outputs": [],
   "source": []
  },
  {
   "cell_type": "markdown",
   "id": "fc9f2e48-900a-4512-9e29-850a472b5c93",
   "metadata": {},
   "source": [
    "#### Plotly"
   ]
  },
  {
   "cell_type": "code",
   "execution_count": null,
   "id": "88fd6b8b-b265-4df0-8973-60c05f87a610",
   "metadata": {},
   "outputs": [],
   "source": []
  },
  {
   "cell_type": "markdown",
   "id": "a69760f2-f1fd-4d8e-86d9-35549b0bbebc",
   "metadata": {},
   "source": [
    "### Line plot"
   ]
  },
  {
   "cell_type": "markdown",
   "id": "01923355-8244-4a6d-9f79-061d40d1c778",
   "metadata": {},
   "source": [
    "#### Matplotlib\n",
    "\n",
    "> Look in Google if you don't find the solution by applying the Deduction Method of the Resolving Python Framework"
   ]
  },
  {
   "cell_type": "code",
   "execution_count": null,
   "id": "6712861a-8c74-482e-95a3-ca1803d2ea18",
   "metadata": {},
   "outputs": [],
   "source": []
  },
  {
   "cell_type": "markdown",
   "id": "0b67371d-ec86-4dd9-bbbe-fc5ab18c1d18",
   "metadata": {},
   "source": [
    "#### Seaborn"
   ]
  },
  {
   "cell_type": "code",
   "execution_count": null,
   "id": "824c1122-95d9-4884-81c4-773274550ee1",
   "metadata": {},
   "outputs": [],
   "source": []
  },
  {
   "cell_type": "markdown",
   "id": "c8fab3b6-2e0a-4a68-8588-f73c16e9b0a9",
   "metadata": {},
   "source": [
    "#### Plotly"
   ]
  },
  {
   "cell_type": "code",
   "execution_count": null,
   "id": "bad11504-0330-4d56-97bc-727d4599d746",
   "metadata": {},
   "outputs": [],
   "source": []
  },
  {
   "cell_type": "markdown",
   "id": "48b1b0ed-c7a6-4562-bd93-4a5d3757d430",
   "metadata": {},
   "source": [
    "# Reflect about what you have learnt ✍️\n",
    "\n",
    "*Double click in this cell to reflect about it*\n",
    "\n",
    "Which mistakes have commited have you committed?\n",
    "\n",
    "- [ ] [Write here]\n",
    "\n",
    "How will you solve them now?\n",
    "\n",
    "- [ ] [Write here]\n",
    "\n",
    "What have you learnt that you didn't know before?\n",
    "\n",
    "- [ ] [Write here]\n",
    "\n",
    "What do you value the most from this course?\n",
    "\n",
    "- [ ] [Write here]"
   ]
  }
 ],
 "metadata": {
  "kernelspec": {
   "display_name": "Python 3 (ipykernel)",
   "language": "python",
   "name": "python3"
  },
  "language_info": {
   "codemirror_mode": {
    "name": "ipython",
    "version": 3
   },
   "file_extension": ".py",
   "mimetype": "text/x-python",
   "name": "python",
   "nbconvert_exporter": "python",
   "pygments_lexer": "ipython3",
   "version": "3.9.10"
  },
  "toc-autonumbering": true
 },
 "nbformat": 4,
 "nbformat_minor": 5
}
