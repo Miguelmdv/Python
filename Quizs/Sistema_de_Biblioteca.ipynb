{
 "cells": [
  {
   "attachments": {},
   "cell_type": "markdown",
   "metadata": {},
   "source": [
    "## Clases"
   ]
  },
  {
   "attachments": {},
   "cell_type": "markdown",
   "metadata": {},
   "source": [
    "### Clase Libro"
   ]
  },
  {
   "cell_type": "code",
   "execution_count": 508,
   "metadata": {},
   "outputs": [],
   "source": [
    "class Libro:\n",
    "    def __init__(self, titulo:str, autor:str, id:int):\n",
    "        self.titulo = titulo\n",
    "        self.autor = autor\n",
    "        self.id = id\n",
    "    \n",
    "    def info(self):\n",
    "        print(f\"ID {self.id}: {self.titulo} de {self.autor}\")\n",
    "        \n",
    "    def get_title(self):\n",
    "        return str.title(self.titulo)\n",
    "    \n",
    "    def get_id(self):\n",
    "        return self.id\n",
    "    \n",
    "    def get_autor(self):\n",
    "        return self.autor"
   ]
  },
  {
   "attachments": {},
   "cell_type": "markdown",
   "metadata": {},
   "source": [
    "### Clase Usuario"
   ]
  },
  {
   "cell_type": "code",
   "execution_count": 509,
   "metadata": {},
   "outputs": [],
   "source": [
    "class Usuario:\n",
    "    def __init__(self, nombre:str, libros:list):\n",
    "        self.nombre = nombre\n",
    "        self.libros = libros\n",
    "        \n",
    "    def get_name(self):\n",
    "        return self.nombre\n",
    "    \n",
    "    def get_books(self):\n",
    "        if self.libros == []:\n",
    "            return None\n",
    "        else:\n",
    "            return self.libros\n",
    "        \n",
    "    def sacar_libro(self, libros:list, biblioteca:list):\n",
    "        sacados = []\n",
    "        for libro in libros: \n",
    "            # Formatea el texto para que ignore errores de mayusculas y minusculas en las comparaciones\n",
    "            lib_format = str.title(libro)\n",
    "            if lib_format in self.libros:\n",
    "                print(f\"Ya sacaste el libro: \\\"{libro}\\\", pero aun no lo has devuelto\")\n",
    "            else:\n",
    "                for titulo in biblioteca:\n",
    "                    if lib_format == titulo.get_title():\n",
    "                        sacados.append(lib_format)\n",
    "                        print(\"Se ha sacado exitosamente el libro:\", libro)\n",
    "                        break\n",
    "                \n",
    "                if lib_format not in sacados:\n",
    "                    print(\"No se ha podido encontrar el libro:\", libro)\n",
    "                \n",
    "        if sacados != []:\n",
    "            self.libros += sacados\n",
    "        \n",
    "    \n",
    "    def devolver_libro(self, libros:list):\n",
    "            for libro in libros:\n",
    "                # Formatea el texto para que ignore errores de mayusculas y minusculas en las comparaciones\n",
    "                lib_format = str.title(libro)\n",
    "                if lib_format not in self.libros:\n",
    "                    print(\"No puedes devolver un libro que no tienes\")\n",
    "                else:\n",
    "                    self.libros.pop(self.libros.index(lib_format))\n",
    "                    print(\"Se ha devuelto exitosamente el libro:\", libro)"
   ]
  },
  {
   "attachments": {},
   "cell_type": "markdown",
   "metadata": {},
   "source": [
    "### Clase UsuarioEstudiante"
   ]
  },
  {
   "cell_type": "code",
   "execution_count": 510,
   "metadata": {},
   "outputs": [],
   "source": [
    "class UsuarioEstudiante(Usuario):\n",
    "    def __init__(self, nombre: str, libros: list):\n",
    "        super().__init__(nombre, libros)\n",
    "        \n",
    "    def sacar_libro(self, libros:list, biblioteca:list):\n",
    "        \n",
    "        \"\"\"_summary_\n",
    "\n",
    "        Args:\n",
    "            libros (list): Máximo 3 libros \n",
    "        \"\"\"\n",
    "        \n",
    "        libros_disponibles = 3 - len(self.libros)\n",
    "        \n",
    "        if libros_disponibles > 0 and len(libros) <= libros_disponibles:\n",
    "            super().sacar_libro(libros, biblioteca)\n",
    "        else:\n",
    "            print(f\"Se ha superado el límite permitido de 3 libros, le quedan {libros_disponibles} libros\")"
   ]
  },
  {
   "attachments": {},
   "cell_type": "markdown",
   "metadata": {},
   "source": [
    "### Clase UsuarioProfesor"
   ]
  },
  {
   "cell_type": "code",
   "execution_count": 511,
   "metadata": {},
   "outputs": [],
   "source": [
    "class UsuarioProfesor(Usuario):\n",
    "    def __init__(self, nombre: str, libros: list):\n",
    "        super().__init__(nombre, libros)\n",
    "        \n",
    "    def sacar_libro(self, libros:list, biblioteca:list):\n",
    "        \n",
    "        \"\"\"_summary_\n",
    "\n",
    "        Args:\n",
    "            libros (list): Máximo 6 libros\n",
    "        \"\"\"\n",
    "        \n",
    "        libros_disponibles = 6 - len(self.libros)\n",
    "        \n",
    "        if libros_disponibles > 0 and len(libros) <= libros_disponibles:\n",
    "            super().sacar_libro(libros, biblioteca)\n",
    "        else:\n",
    "            print(f\"Se ha superado el límite permitido de 6 libros, le quedan {libros_disponibles} libros\")"
   ]
  },
  {
   "attachments": {},
   "cell_type": "markdown",
   "metadata": {},
   "source": [
    "## Ejecucion"
   ]
  },
  {
   "attachments": {},
   "cell_type": "markdown",
   "metadata": {},
   "source": [
    "### Crea 2 libros, uno con número de identificación 1, que sea 1984 de George Orwell. Otro libro que sea To Kill a Mockingbird de Harper Lee que tenga el número de identificación 2."
   ]
  },
  {
   "cell_type": "code",
   "execution_count": 512,
   "metadata": {},
   "outputs": [
    {
     "name": "stdout",
     "output_type": "stream",
     "text": [
      "Libros en la biblioteca: \n",
      "\tID 1: 1984 de George Orwell\n",
      "\tID 2: To Kill a Mockingbird de Harper Lee\n"
     ]
    }
   ],
   "source": [
    "libro1 = Libro(\"1984\", \"George Orwell\", 1)\n",
    "libro2 = Libro(\"To Kill a Mockingbird\", \"Harper Lee\", 2)\n",
    "\n",
    "biblioteca = [libro1, libro2]\n",
    "\n",
    "print(\"Libros en la biblioteca: \")\n",
    "\n",
    "for libro in biblioteca:\n",
    "    print(\"\\t\", end=\"\")\n",
    "    libro.info()"
   ]
  },
  {
   "attachments": {},
   "cell_type": "markdown",
   "metadata": {},
   "source": [
    "### Crea 2 Usuarios, uno tipo estudiante llamado Alice y otro tipo profesor llamado Bob."
   ]
  },
  {
   "cell_type": "code",
   "execution_count": 513,
   "metadata": {},
   "outputs": [],
   "source": [
    "alice = UsuarioEstudiante(\"Alice\", [])\n",
    "bob = UsuarioProfesor(\"Bob\", [])"
   ]
  },
  {
   "attachments": {},
   "cell_type": "markdown",
   "metadata": {},
   "source": [
    "### Haz que Alice saque el libro de 1984 y el profesor saque el libro de Harper Lee."
   ]
  },
  {
   "cell_type": "code",
   "execution_count": 514,
   "metadata": {},
   "outputs": [],
   "source": [
    "def que_libros_tiene(estudiante:Usuario):\n",
    "    print(f\"Los libros que tiene {estudiante.get_name()} son: {estudiante.get_books()}\")"
   ]
  },
  {
   "cell_type": "code",
   "execution_count": 515,
   "metadata": {},
   "outputs": [
    {
     "name": "stdout",
     "output_type": "stream",
     "text": [
      "Los libros que tiene Alice son: None\n",
      "Se ha sacado exitosamente el libro: 1984\n",
      "Los libros que tiene Alice son: ['1984']\n",
      "\n",
      "\n",
      "Los libros que tiene Bob son: None\n",
      "Se ha sacado exitosamente el libro: To Kill a Mockingbird\n",
      "Los libros que tiene Bob son: ['To Kill A Mockingbird']\n"
     ]
    }
   ],
   "source": [
    "l1, l2 = \"1984\", \"To Kill a Mockingbird\"\n",
    "\n",
    "que_libros_tiene(alice)\n",
    "alice.sacar_libro([l1], biblioteca)\n",
    "que_libros_tiene(alice)\n",
    "\n",
    "print(\"\\n\")\n",
    "\n",
    "que_libros_tiene(bob)\n",
    "bob.sacar_libro([l2], biblioteca)\n",
    "que_libros_tiene(bob)"
   ]
  },
  {
   "attachments": {},
   "cell_type": "markdown",
   "metadata": {},
   "source": [
    "### Diversas pruebas de ejecucion"
   ]
  },
  {
   "cell_type": "code",
   "execution_count": 516,
   "metadata": {},
   "outputs": [],
   "source": [
    "libro3 = Libro(\"The Final Empire\", \"Brandon Sanderson\", 4)\n",
    "libro4 = Libro(\"Eragon\", \"Christopher Paolini\", 5)\n",
    "biblioteca.append(libro3)\n",
    "biblioteca.append(libro4)\n",
    "\n",
    "l3, l4 = \"The Final Empire\", \"Eragon\""
   ]
  },
  {
   "cell_type": "code",
   "execution_count": 517,
   "metadata": {},
   "outputs": [
    {
     "name": "stdout",
     "output_type": "stream",
     "text": [
      "Ya sacaste el libro: \"1984\", pero aun no lo has devuelto\n",
      "Los libros que tiene Alice son: ['1984']\n",
      "\n",
      "\n",
      "Ya sacaste el libro: \"To Kill a Mockingbird\", pero aun no lo has devuelto\n",
      "Los libros que tiene Bob son: ['To Kill A Mockingbird']\n"
     ]
    }
   ],
   "source": [
    "alice.sacar_libro([l1], biblioteca)\n",
    "que_libros_tiene(alice)\n",
    "\n",
    "print(\"\\n\")\n",
    "\n",
    "bob.sacar_libro([l2], biblioteca)\n",
    "que_libros_tiene(bob)"
   ]
  },
  {
   "cell_type": "code",
   "execution_count": 518,
   "metadata": {},
   "outputs": [
    {
     "name": "stdout",
     "output_type": "stream",
     "text": [
      "Se ha superado el límite permitido de 3 libros, le quedan 2 libros\n",
      "Los libros que tiene Alice son: ['1984']\n"
     ]
    }
   ],
   "source": [
    "alice.sacar_libro([l2, l3, l4], biblioteca)\n",
    "que_libros_tiene(alice)"
   ]
  },
  {
   "cell_type": "code",
   "execution_count": 519,
   "metadata": {},
   "outputs": [
    {
     "name": "stdout",
     "output_type": "stream",
     "text": [
      "Se ha devuelto exitosamente el libro: 1984\n",
      "Los libros que tiene Alice son: None\n"
     ]
    }
   ],
   "source": [
    "alice.devolver_libro([l1])\n",
    "que_libros_tiene(alice)"
   ]
  },
  {
   "cell_type": "code",
   "execution_count": 520,
   "metadata": {},
   "outputs": [
    {
     "name": "stdout",
     "output_type": "stream",
     "text": [
      "Se ha sacado exitosamente el libro: To Kill a Mockingbird\n",
      "Se ha sacado exitosamente el libro: The Final Empire\n",
      "Se ha sacado exitosamente el libro: Eragon\n",
      "Los libros que tiene Alice son: ['To Kill A Mockingbird', 'The Final Empire', 'Eragon']\n"
     ]
    }
   ],
   "source": [
    "alice.sacar_libro([l2, l3, l4], biblioteca)\n",
    "que_libros_tiene(alice)"
   ]
  },
  {
   "cell_type": "code",
   "execution_count": 521,
   "metadata": {},
   "outputs": [
    {
     "name": "stdout",
     "output_type": "stream",
     "text": [
      "Se ha devuelto exitosamente el libro: TO KILL A MOCKINGBIRD\n",
      "Los libros que tiene Alice son: ['The Final Empire', 'Eragon']\n"
     ]
    }
   ],
   "source": [
    "alice.devolver_libro([\"TO KILL A MOCKINGBIRD\"])\n",
    "que_libros_tiene(alice)"
   ]
  },
  {
   "cell_type": "code",
   "execution_count": 522,
   "metadata": {},
   "outputs": [
    {
     "name": "stdout",
     "output_type": "stream",
     "text": [
      "No se ha podido encontrar el libro: 1300\n",
      "Los libros que tiene Bob son: ['To Kill A Mockingbird']\n"
     ]
    }
   ],
   "source": [
    "bob.sacar_libro([\"1300\"], biblioteca)\n",
    "que_libros_tiene(bob)"
   ]
  }
 ],
 "metadata": {
  "kernelspec": {
   "display_name": "base",
   "language": "python",
   "name": "python3"
  },
  "language_info": {
   "codemirror_mode": {
    "name": "ipython",
    "version": 3
   },
   "file_extension": ".py",
   "mimetype": "text/x-python",
   "name": "python",
   "nbconvert_exporter": "python",
   "pygments_lexer": "ipython3",
   "version": "3.10.11"
  },
  "orig_nbformat": 4
 },
 "nbformat": 4,
 "nbformat_minor": 2
}
