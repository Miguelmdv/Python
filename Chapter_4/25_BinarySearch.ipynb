{
 "cells": [
  {
   "attachments": {},
   "cell_type": "markdown",
   "metadata": {},
   "source": [
    "## Busqueda binaria"
   ]
  },
  {
   "cell_type": "code",
   "execution_count": null,
   "metadata": {},
   "outputs": [],
   "source": [
    "def do_experiment(floor, breaking):\n",
    "    return floor >= breaking\n",
    "\n",
    "\n",
    "def find_highest_safe_floor2(height, breaking):\n",
    "    low, high = 1, height\n",
    "    while low < high:\n",
    "        mid = (low+high)//2\n",
    "        print(low, high, mid)\n",
    "        if do_experiment(mid, breaking):\n",
    "            high = mid\n",
    "        else:\n",
    "            low = mid+1\n",
    "    return low-1\n"
   ]
  },
  {
   "attachments": {},
   "cell_type": "markdown",
   "metadata": {},
   "source": [
    "## Ejercicio 1"
   ]
  },
  {
   "cell_type": "code",
   "execution_count": 1,
   "metadata": {},
   "outputs": [
    {
     "name": "stdout",
     "output_type": "stream",
     "text": [
      "Total 6 times are searched\n"
     ]
    }
   ],
   "source": [
    "maximun = int(input(\"Enter the number of maximun\"))\n",
    "number = int(input(\"Enter your guessing number\"))\n",
    "count = 0\n",
    "low, high = 1, maximun\n",
    "while low < high:\n",
    "    mid = (low + high)//2\n",
    "    if mid == number:\n",
    "        count += 1\n",
    "        print(f\"Your number is {number}.\")\n",
    "        break\n",
    "    elif mid > number:\n",
    "        high = mid-1\n",
    "        count += 1\n",
    "    else:\n",
    "        low = mid + 1\n",
    "        count += 1\n",
    "print(f\"Total {count} times are searched\")\n"
   ]
  },
  {
   "attachments": {},
   "cell_type": "markdown",
   "metadata": {},
   "source": [
    "## Ejercicio parejas"
   ]
  },
  {
   "cell_type": "code",
   "execution_count": 31,
   "metadata": {},
   "outputs": [
    {
     "name": "stdout",
     "output_type": "stream",
     "text": [
      "10 80 40\n",
      "10 40 20\n",
      "20 40 30\n",
      "30 should be inserted at position 2\n",
      "{40, 10, 80, 50, 20, 60, 30}\n"
     ]
    }
   ],
   "source": [
    "def search_insert_position(n,x):\n",
    "    low, high = n[0], n[-1]\n",
    "    if x > high:\n",
    "        return len(n)\n",
    "    elif x< low:\n",
    "        return 0\n",
    "    \n",
    "    while low < high:\n",
    "        mid = n[(n.index(low)+n.index(high))//2]\n",
    "        print(low, high, mid)\n",
    "        if mid >= x:\n",
    "            high = n[n.index(mid)]\n",
    "        else:\n",
    "            low = n[n.index(mid)]\n",
    "        if n.index(low)+1 == n.index(high):\n",
    "                return n.index(high)\n",
    "\n",
    "nums = [10,20,30,40,50,60,80]\n",
    "x = int(input(\"Input a number to insert:\"))\n",
    "pos = search_insert_position(nums, x)\n",
    "print(f\"{x} should be inserted at position {pos}\")\n",
    "nums.insert(pos, x)\n",
    "print(nums)"
   ]
  }
 ],
 "metadata": {
  "kernelspec": {
   "display_name": "base",
   "language": "python",
   "name": "python3"
  },
  "language_info": {
   "codemirror_mode": {
    "name": "ipython",
    "version": 3
   },
   "file_extension": ".py",
   "mimetype": "text/x-python",
   "name": "python",
   "nbconvert_exporter": "python",
   "pygments_lexer": "ipython3",
   "version": "3.10.9"
  },
  "orig_nbformat": 4
 },
 "nbformat": 4,
 "nbformat_minor": 2
}
