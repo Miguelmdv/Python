{
 "cells": [
  {
   "attachments": {},
   "cell_type": "markdown",
   "metadata": {},
   "source": [
    "## Ejemplos"
   ]
  },
  {
   "attachments": {},
   "cell_type": "markdown",
   "metadata": {},
   "source": [
    "Find Largest"
   ]
  },
  {
   "cell_type": "code",
   "execution_count": 14,
   "metadata": {},
   "outputs": [
    {
     "name": "stdout",
     "output_type": "stream",
     "text": [
      "[2, 75, 45, 20, 17, 34, 84, 24, 50, 5]\n",
      "84\n"
     ]
    }
   ],
   "source": [
    "def find_largest(nums):\n",
    "    largest = 0\n",
    "    for i in nums:\n",
    "        if i > largest:\n",
    "            largest = i\n",
    "    return largest\n",
    "\n",
    "\n",
    "def rand_list(list):\n",
    "    import random\n",
    "    list = []\n",
    "    for _ in range(10):\n",
    "        while True:\n",
    "            num = random.randrange(1, 100)\n",
    "            if num in list:\n",
    "                continue\n",
    "            else:\n",
    "                list.append(random.randrange(1, 100))\n",
    "                break\n",
    "    return list\n",
    "\n",
    "\n",
    "list = []\n",
    "list = rand_list(list)\n",
    "print(list)\n",
    "print(find_largest(list))\n"
   ]
  },
  {
   "attachments": {},
   "cell_type": "markdown",
   "metadata": {},
   "source": [
    "Egg dropping"
   ]
  },
  {
   "cell_type": "code",
   "execution_count": 106,
   "metadata": {},
   "outputs": [
    {
     "name": "stdout",
     "output_type": "stream",
     "text": [
      "De 5055646 pisos, el huevo se rompió en el piso 1544869\n",
      "El ultimo piso seguro fue el 1544868\n"
     ]
    }
   ],
   "source": [
    "from random import randrange\n",
    "\n",
    "\n",
    "def do_experiment(floor, breaking):\n",
    "    return floor >= breaking\n",
    "\n",
    "\n",
    "def find_safe_floor(height, breaking):\n",
    "    for i in range(1, height):\n",
    "        if do_experiment(i, breaking):\n",
    "            print(f\"De {height-1} pisos, el huevo se rompió en el piso {i}\")\n",
    "            return i-1\n",
    "\n",
    "\n",
    "height = int(input(\"Cuantos pisos tiene el edificio\"))+1\n",
    "breaking = randrange(1, height)\n",
    "print(\"El ultimo piso seguro fue el\", find_safe_floor(height, breaking))\n"
   ]
  },
  {
   "attachments": {},
   "cell_type": "markdown",
   "metadata": {},
   "source": [
    "## Ejercicio Parejas"
   ]
  },
  {
   "cell_type": "code",
   "execution_count": 108,
   "metadata": {},
   "outputs": [
    {
     "name": "stdout",
     "output_type": "stream",
     "text": [
      "En la frase, hola aparece 1 veces.\n"
     ]
    }
   ],
   "source": [
    "def word_count(s, x):\n",
    "    count = 0\n",
    "    for i in s:\n",
    "        if x == i:\n",
    "            count+=1\n",
    "    return count\n",
    "\n",
    "string = input(\"Di una frase: \").split()\n",
    "word = input(\"Que palabra quieres contar: \")\n",
    "count = word_count(string, word)\n",
    "print(f\"En la frase, {word} aparece {count} veces.\")\n",
    "\n"
   ]
  }
 ],
 "metadata": {
  "kernelspec": {
   "display_name": "base",
   "language": "python",
   "name": "python3"
  },
  "language_info": {
   "codemirror_mode": {
    "name": "ipython",
    "version": 3
   },
   "file_extension": ".py",
   "mimetype": "text/x-python",
   "name": "python",
   "nbconvert_exporter": "python",
   "pygments_lexer": "ipython3",
   "version": "3.10.9"
  },
  "orig_nbformat": 4
 },
 "nbformat": 4,
 "nbformat_minor": 2
}
