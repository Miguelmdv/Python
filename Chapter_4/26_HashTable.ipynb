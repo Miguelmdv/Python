{
 "cells": [
  {
   "attachments": {},
   "cell_type": "markdown",
   "metadata": {},
   "source": [
    "## Hash Table"
   ]
  },
  {
   "cell_type": "code",
   "execution_count": 1,
   "metadata": {},
   "outputs": [],
   "source": [
    "class HashTable:\n",
    "    def __init__(self, size):\n",
    "        self.size = size\n",
    "        self.table = {}\n",
    "        for i in range(size):\n",
    "            self.table[i] = []\n",
    "            \n",
    "    def hash(self, key):\n",
    "        return key % self.size\n",
    "    \n",
    "    def get(self, key):\n",
    "        return self.table[self.hash(key)]\n",
    "    \n",
    "    def put(self, key, value):\n",
    "        bucket = self.table[self.hash(key)]\n",
    "        if value not in bucket:\n",
    "            bucket.append(value)"
   ]
  },
  {
   "attachments": {},
   "cell_type": "markdown",
   "metadata": {},
   "source": [
    "### Roman Numerals Converter"
   ]
  },
  {
   "cell_type": "code",
   "execution_count": 2,
   "metadata": {},
   "outputs": [],
   "source": [
    "table = {\"I\":1, \"V\":5, \"X\":10, \"C\":100, \"D\":500, \"M\":1000}\n",
    "def roman_to_int(str):\n",
    "    result =  0\n",
    "    for i in range(len(str)-1):\n",
    "        if table[str[i]] < table[str[i+1]]:\n",
    "            result -= table[str[i]]\n",
    "        else:\n",
    "            result += table[str[i]]\n",
    "    return result + table[str[-1]]"
   ]
  },
  {
   "attachments": {},
   "cell_type": "markdown",
   "metadata": {},
   "source": [
    "## Ejercicios"
   ]
  },
  {
   "attachments": {},
   "cell_type": "markdown",
   "metadata": {},
   "source": [
    "### Ejercicio 1"
   ]
  },
  {
   "cell_type": "code",
   "execution_count": 3,
   "metadata": {},
   "outputs": [
    {
     "name": "stdout",
     "output_type": "stream",
     "text": [
      "1795 3\n"
     ]
    }
   ],
   "source": [
    "table = HashTable(8)\n",
    "book = \"Alice in Wonderland\"\n",
    "key = sum(map(ord, book))\n",
    "print(key, table.hash(key))"
   ]
  },
  {
   "attachments": {},
   "cell_type": "markdown",
   "metadata": {},
   "source": [
    "### Ejercicio 2"
   ]
  },
  {
   "cell_type": "code",
   "execution_count": 14,
   "metadata": {},
   "outputs": [
    {
     "name": "stdout",
     "output_type": "stream",
     "text": [
      "0 []\n",
      "1 []\n",
      "2 []\n",
      "3 ['The Last Leaf']\n",
      "4 ['The Little Prince']\n",
      "5 ['Alice in Wonderland']\n",
      "6 []\n",
      "7 ['Beauty and the Beast']\n",
      "8 ['The Little Mermaid']\n",
      "9 ['The Old Man and the Sea']\n"
     ]
    }
   ],
   "source": [
    "table = HashTable(10)\n",
    "books = [\n",
    "    \"The Little Prince\",\n",
    "    \"The Old Man and the Sea\",\n",
    "    \"The Little Mermaid\",\n",
    "    \"Beauty and the Beast\",\n",
    "    \"The Last Leaf\",\n",
    "    \"Alice in Wonderland\"\n",
    "]\n",
    "for book in books:\n",
    "    key = sum(map(ord, book))\n",
    "    table.put(key, book)\n",
    "for key in table.table.keys():\n",
    "    print(key, table.table[key])"
   ]
  },
  {
   "attachments": {},
   "cell_type": "markdown",
   "metadata": {},
   "source": [
    "### Ejercicio Parejas"
   ]
  },
  {
   "attachments": {},
   "cell_type": "markdown",
   "metadata": {},
   "source": [
    "#### Sin hash table"
   ]
  },
  {
   "cell_type": "code",
   "execution_count": 32,
   "metadata": {},
   "outputs": [
    {
     "name": "stdout",
     "output_type": "stream",
     "text": [
      "0: \n"
     ]
    }
   ],
   "source": [
    "table = {1000:\"M\", 900:\"CM\", 500:\"D\", 400:\"CD\",\n",
    "         100:\"C\", 90:\"XC\", 50:\"L\", 40:\"XL\",\n",
    "         10:\"X\", 9:\"IX\", 5:\"V\", 4:\"XI\", 1:\"I\"}\n",
    "\n",
    "def int_to_roman(n):\n",
    "    result = \"\"\n",
    "    for key in table:\n",
    "        if n == 0:\n",
    "            break\n",
    "        while n >= key:\n",
    "            result += table[key]\n",
    "            n -= key\n",
    "        \n",
    "    return result\n",
    "    \n",
    "    \n",
    "num = int(input(\"Input a number\"))\n",
    "print(f\"{num}: {int_to_roman(num)}\")"
   ]
  },
  {
   "attachments": {},
   "cell_type": "markdown",
   "metadata": {},
   "source": [
    "#### Con Hash table"
   ]
  },
  {
   "cell_type": "code",
   "execution_count": 39,
   "metadata": {},
   "outputs": [
    {
     "name": "stdout",
     "output_type": "stream",
     "text": [
      "100: ['C', 'IX']\n"
     ]
    }
   ],
   "source": [
    "def int_to_roman(n):\n",
    "    table = {1000:\"M\", 900:\"CM\", 500:\"D\", 400:\"CD\",\n",
    "            100:\"C\", 90:\"XC\", 50:\"L\", 40:\"XL\",\n",
    "            10:\"X\", 9:\"IX\", 5:\"V\", 4:\"XI\", 1:\"I\"}\n",
    "\n",
    "    keys = list(table.keys())\n",
    "\n",
    "    hash_table = HashTable(len(table))\n",
    "\n",
    "    for key in keys:\n",
    "        hash_table.put(key, table[key])\n",
    "\n",
    "    result = \"\"\n",
    "    for key in table:\n",
    "        if n == 0:\n",
    "            break\n",
    "        while n >= key:\n",
    "            result += str(hash_table.get(key))\n",
    "            n -= key\n",
    "        \n",
    "    return result\n",
    "    \n",
    "    \n",
    "num = int(input(\"Input a number\"))\n",
    "print(f\"{num}: {int_to_roman(num)}\")"
   ]
  }
 ],
 "metadata": {
  "kernelspec": {
   "display_name": "base",
   "language": "python",
   "name": "python3"
  },
  "language_info": {
   "codemirror_mode": {
    "name": "ipython",
    "version": 3
   },
   "file_extension": ".py",
   "mimetype": "text/x-python",
   "name": "python",
   "nbconvert_exporter": "python",
   "pygments_lexer": "ipython3",
   "version": "3.10.9"
  },
  "orig_nbformat": 4
 },
 "nbformat": 4,
 "nbformat_minor": 2
}
