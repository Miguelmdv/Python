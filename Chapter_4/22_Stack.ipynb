{
 "cells": [
  {
   "attachments": {},
   "cell_type": "markdown",
   "metadata": {},
   "source": [
    "## Clase Stack"
   ]
  },
  {
   "cell_type": "code",
   "execution_count": 8,
   "metadata": {},
   "outputs": [],
   "source": [
    "class Stack:\n",
    "    def __init__(self):\n",
    "        self.stack = []\n",
    "        \n",
    "    def is_empty(self):\n",
    "        return True if len(self.stack) == 0 else False\n",
    "    \n",
    "    def push(self, item):\n",
    "        self.stack.append(item)\n",
    "        \n",
    "    def pop(self):\n",
    "        return None if self.is_empty() else self.stack.pop()\n",
    "    \n",
    "    "
   ]
  },
  {
   "attachments": {},
   "cell_type": "markdown",
   "metadata": {},
   "source": [
    "## Ejercicios"
   ]
  },
  {
   "attachments": {},
   "cell_type": "markdown",
   "metadata": {},
   "source": [
    "### Ejercicio 1"
   ]
  },
  {
   "cell_type": "code",
   "execution_count": 12,
   "metadata": {},
   "outputs": [
    {
     "name": "stdout",
     "output_type": "stream",
     "text": [
      "['banana', 'Apple', 'Strawberry']\n"
     ]
    }
   ],
   "source": [
    "stack = Stack()\n",
    "stack.push(\"banana\")\n",
    "stack.push(\"Apple\")\n",
    "stack.push(\"Tomato\")\n",
    "stack.pop()\n",
    "stack.push(\"Strawberry\")\n",
    "stack.push(\"Grapes\")\n",
    "stack.pop()\n",
    "print(stack.stack)"
   ]
  },
  {
   "attachments": {},
   "cell_type": "markdown",
   "metadata": {},
   "source": [
    "### Ejercicio 2"
   ]
  },
  {
   "cell_type": "code",
   "execution_count": 17,
   "metadata": {},
   "outputs": [
    {
     "name": "stdout",
     "output_type": "stream",
     "text": [
      "[10, 30, 50, 70, 90]\n"
     ]
    }
   ],
   "source": [
    "stack = Stack()\n",
    "items = [10*i for i in range(1,10)]\n",
    "for item in items:\n",
    "    stack.push(item)\n",
    "    if (item // 10)%2 == 0:\n",
    "        stack.pop()\n",
    "print(stack.stack)"
   ]
  },
  {
   "attachments": {},
   "cell_type": "markdown",
   "metadata": {},
   "source": [
    "## Ejercicio parejas"
   ]
  },
  {
   "attachments": {},
   "cell_type": "markdown",
   "metadata": {},
   "source": [
    "Comprobar el primer tag no lleva / y si se usa correctamente \"<\" y \">\", si esta bien, guardar el tag completo en un string"
   ]
  },
  {
   "cell_type": "code",
   "execution_count": 47,
   "metadata": {},
   "outputs": [
    {
     "name": "stdout",
     "output_type": "stream",
     "text": [
      "<h1></h1>\n",
      "<h1> y </h1> estan correctamente cerrados\n",
      "<p></p>\n",
      "<p> y </p> estan correctamente cerrados\n"
     ]
    }
   ],
   "source": [
    "text = input(\"input the sting of html document: \")\n",
    "start = text.find(\"<\")\n",
    "\n",
    "tags = Stack()\n",
    "\n",
    "while start != -1:\n",
    "    end = text.find(\">\", start + 1)\n",
    "    tag = text[start:end+1]\n",
    "    print(tag, end = \"\")\n",
    "    \n",
    "    if tags.is_empty() != False:\n",
    "        if tag.find(\"/\") == -1:\n",
    "            tags.push(tag)\n",
    "    else:\n",
    "        if tag.find(\"/\") == 1:\n",
    "            tag_sin = tag.replace('/','', 1)\n",
    "            ultimo = tags.pop()\n",
    "            if ultimo != tag_sin:\n",
    "                print(\"hay un error\")\n",
    "                \n",
    "            else:\n",
    "                print(f\"\\n{ultimo} y {tag} estan correctamente cerrados\")\n",
    "        else:\n",
    "            print(\"la / esta mal escrita\")\n",
    "                \n",
    "    start = text.find(\"<\", end+1)"
   ]
  },
  {
   "cell_type": "code",
   "execution_count": 25,
   "metadata": {},
   "outputs": [
    {
     "data": {
      "text/plain": [
       "0"
      ]
     },
     "execution_count": 25,
     "metadata": {},
     "output_type": "execute_result"
    }
   ],
   "source": [
    "text = input(\"input the sting of html document: \")\n",
    "text.find(\"<\")"
   ]
  }
 ],
 "metadata": {
  "kernelspec": {
   "display_name": "base",
   "language": "python",
   "name": "python3"
  },
  "language_info": {
   "codemirror_mode": {
    "name": "ipython",
    "version": 3
   },
   "file_extension": ".py",
   "mimetype": "text/x-python",
   "name": "python",
   "nbconvert_exporter": "python",
   "pygments_lexer": "ipython3",
   "version": "3.10.9"
  },
  "orig_nbformat": 4
 },
 "nbformat": 4,
 "nbformat_minor": 2
}
