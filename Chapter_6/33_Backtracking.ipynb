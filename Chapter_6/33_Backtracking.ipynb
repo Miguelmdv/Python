{
 "cells": [
  {
   "attachments": {},
   "cell_type": "markdown",
   "metadata": {},
   "source": [
    "## Ejercicio (rehacer)"
   ]
  },
  {
   "cell_type": "code",
   "execution_count": 1,
   "metadata": {},
   "outputs": [
    {
     "name": "stdout",
     "output_type": "stream",
     "text": [
      "0\n"
     ]
    }
   ],
   "source": [
    "import string\n",
    "\n",
    "def letter_to_number(letter):\n",
    "    return string.ascii_lowercase.index(letter.lower()) + 1\n",
    "\n",
    "def word_to_number(word):\n",
    "    return sum([letter_to_number(letter) for letter in word])\n",
    "\n",
    "def is_square(n):\n",
    "    return int(n ** 0.5) ** 2 == n\n",
    "\n",
    "def find_number():\n",
    "    words = \"a merry xmax to all\".split()\n",
    "    for i in range(10000):\n",
    "        a = i ** 2\n",
    "        b = (i + word_to_number(words[0])) ** 2\n",
    "        c = (i + word_to_number(words[1])) ** 2\n",
    "        d = (i + word_to_number(words[2])) ** 2\n",
    "        e = (i + word_to_number(words[3])) ** 2\n",
    "        f = (i + word_to_number(words[4])) ** 2\n",
    "        if is_square(a) and is_square(b) and is_square(c) and is_square(d) and is_square(e) and is_square(f):\n",
    "            print(i)\n",
    "            break\n",
    "\n",
    "find_number()"
   ]
  },
  {
   "attachments": {},
   "cell_type": "markdown",
   "metadata": {},
   "source": [
    "## Ejercicio Parejas (rehacer)"
   ]
  },
  {
   "cell_type": "code",
   "execution_count": 6,
   "metadata": {},
   "outputs": [
    {
     "name": "stdout",
     "output_type": "stream",
     "text": [
      "[0, 0, 0, 0]\n",
      "[1, 0, 1, 0]\n",
      "[1, 0, 1, 1]\n",
      "[0, 0, 0, 0]\n",
      "The shortest path is: 6\n"
     ]
    }
   ],
   "source": [
    "def bfs(maze):\n",
    "    queue = [(0, 0, 0)]\n",
    "    visited = set()\n",
    "    n = len(maze)\n",
    "    while queue:\n",
    "        x, y, steps = queue.pop(0)\n",
    "        if (x, y) == (n-1, n-1):\n",
    "            return steps\n",
    "        for dx, dy in [(0, 1), (0, -1), (1, 0), (-1, 0)]:\n",
    "            nx, ny = x + dx, y + dy\n",
    "            if 0 <= nx < n and 0 <= ny < n and maze[nx][ny] == 0 and (nx, ny) not in visited:\n",
    "                visited.add((nx, ny))\n",
    "                queue.append((nx, ny, steps+1))\n",
    "    return -1\n",
    "\n",
    "maze = [[0,0,0,0],\n",
    "        [1,0,1,0],\n",
    "        [1,0,1,1],\n",
    "        [0,0,0,0]]\n",
    "bfs(maze)\n",
    "for row in maze:\n",
    "    print(row)\n",
    "print(\"The shortest path is:\", bfs(maze))"
   ]
  }
 ],
 "metadata": {
  "kernelspec": {
   "display_name": "base",
   "language": "python",
   "name": "python3"
  },
  "language_info": {
   "codemirror_mode": {
    "name": "ipython",
    "version": 3
   },
   "file_extension": ".py",
   "mimetype": "text/x-python",
   "name": "python",
   "nbconvert_exporter": "python",
   "pygments_lexer": "ipython3",
   "version": "3.10.9"
  },
  "orig_nbformat": 4
 },
 "nbformat": 4,
 "nbformat_minor": 2
}
