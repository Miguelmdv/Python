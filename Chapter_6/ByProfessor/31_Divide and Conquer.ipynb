{
 "cells": [
  {
   "attachments": {},
   "cell_type": "markdown",
   "metadata": {},
   "source": [
    "## Pop quiz"
   ]
  },
  {
   "attachments": {},
   "cell_type": "markdown",
   "metadata": {},
   "source": [
    "### Q1"
   ]
  },
  {
   "cell_type": "code",
   "execution_count": 2,
   "metadata": {},
   "outputs": [
    {
     "name": "stdout",
     "output_type": "stream",
     "text": [
      "The heavy coin is coin number 8\n"
     ]
    }
   ],
   "source": [
    "def find_heavy_coin(coins):\n",
    "    # Base case: if there's only one coin, it must be the heavy one\n",
    "    if len(coins) == 1:\n",
    "        return coins[0]\n",
    "\n",
    "    # Split the coins into two equal groups\n",
    "    midpoint = len(coins) // 2\n",
    "    group1 = coins[:midpoint]\n",
    "    group2 = coins[midpoint:]\n",
    "\n",
    "    # Weigh the two groups\n",
    "    if sum(group1) > sum(group2):\n",
    "        # If group1 is heavier, the heavy coin must be in group1\n",
    "        return find_heavy_coin(group1)\n",
    "    else:\n",
    "        # Otherwise, the heavy coin must be in group2\n",
    "        group2\n",
    "\n",
    "# List of coin weights: 7 coins with weight 1 and 1 coin with weight 2\n",
    "coins = [1, 1, 1, 1, 1, 1, 1, 2]\n",
    "\n",
    "# Find the heavier coin\n",
    "heavy_coin = find_heavy_coin(coins)\n",
    "print('The heavy coin is coin number', coins.index(heavy_coin) + 1)"
   ]
  },
  {
   "attachments": {},
   "cell_type": "markdown",
   "metadata": {},
   "source": [
    "### Q2"
   ]
  },
  {
   "cell_type": "code",
   "execution_count": 3,
   "metadata": {},
   "outputs": [
    {
     "name": "stdout",
     "output_type": "stream",
     "text": [
      "The heavy coin is coin number 9\n"
     ]
    }
   ],
   "source": [
    "def find_heavy_coin(coins):\n",
    "    # Base case: if there's only one coin, it must be the heavy one\n",
    "    if len(coins) == 1:\n",
    "        return coins[0]\n",
    "\n",
    "    # Base case: if there are two coins, compare them\n",
    "    if len(coins) == 2:\n",
    "        return coins[0] if coins[0] > coins[1] else coins[1]\n",
    "\n",
    "    # Split the coins into three groups\n",
    "    third = len(coins) // 3\n",
    "    group1 = coins[:third]\n",
    "    group2 = coins[third:2*third]\n",
    "    group3 = coins[2*third:]\n",
    "\n",
    "    # Weigh the first two groups\n",
    "    if sum(group1) > sum(group2):\n",
    "        # If group1 is heavier, the heavy coin must be in group1\n",
    "        return find_heavy_coin(group1)\n",
    "    elif sum(group1) < sum(group2):\n",
    "        # If group2 is heavier, the heavy coin must be in group2\n",
    "        return find_heavy_coin(group2)\n",
    "    else:\n",
    "        # If they are equal, the heavy coin must be in group3\n",
    "        return find_heavy_coin(group3)\n",
    "\n",
    "# List of coin weights: 8 coins with weight 1 and 1 coin with weight 2\n",
    "coins = [1, 1, 1, 1, 1, 1, 1, 1, 2]\n",
    "\n",
    "# Find the heavier coin\n",
    "heavy_coin = find_heavy_coin(coins)\n",
    "print('The heavy coin is coin number', coins.index(heavy_coin) + 1)"
   ]
  },
  {
   "attachments": {},
   "cell_type": "markdown",
   "metadata": {},
   "source": [
    "## Pair programming"
   ]
  },
  {
   "cell_type": "code",
   "execution_count": 1,
   "metadata": {},
   "outputs": [
    {
     "name": "stdout",
     "output_type": "stream",
     "text": [
      "[[ 3. -1.  4.  4.  8.  8.  9.  9.]\n",
      " [ 3.  3.  2.  4.  8.  7.  7.  9.]\n",
      " [ 5.  2.  2.  6. 10. 10.  7. 11.]\n",
      " [ 5.  5.  6.  6.  1. 10. 11. 11.]\n",
      " [13. 13. 14.  1.  1. 18. 19. 19.]\n",
      " [13. 12. 14. 14. 18. 18. 17. 19.]\n",
      " [15. 12. 12. 16. 20. 17. 17. 21.]\n",
      " [15. 15. 16. 16. 20. 20. 21. 21.]]\n"
     ]
    }
   ],
   "source": [
    "import numpy as np\n",
    "\n",
    "# Global variable for tromino number\n",
    "tromino_num = 0\n",
    "\n",
    "def tromino(board, x, y, missing_x, missing_y, size):\n",
    "    global tromino_num\n",
    "    \n",
    "    if size == 2:\n",
    "        tromino_num += 1\n",
    "        for i in range(x, x + size):\n",
    "            for j in range(y, y + size):\n",
    "                if i != missing_x or j != missing_y:\n",
    "                    board[i][j] = tromino_num\n",
    "        return\n",
    "\n",
    "    tromino_num += 1\n",
    "    s = size // 2\n",
    "\n",
    "    # If the missing square is in the top left quadrant\n",
    "    if missing_x < x + s and missing_y < y + s:\n",
    "        board[x + s - 1][y + s] = board[x + s][y + s - 1] = board[x + s][y + s] = tromino_num\n",
    "        tromino(board, x, y, missing_x, missing_y, s) # Recurse on this quadrant\n",
    "        tromino(board, x, y + s, x + s - 1, y + s, s) # Fill the other quadrants\n",
    "        tromino(board, x + s, y, x + s, y + s - 1, s)\n",
    "        tromino(board, x + s, y + s, x + s, y + s, s)\n",
    "    # If the missing square is in the top right quadrant\n",
    "    elif missing_x < x + s and missing_y >= y + s:\n",
    "        board[x + s - 1][y + s - 1] = board[x + s][y + s - 1] = board[x + s][y + s] = tromino_num\n",
    "        tromino(board, x, y, x + s - 1, y + s - 1, s) # Fill the other quadrants\n",
    "        tromino(board, x, y + s, missing_x, missing_y, s) # Recurse on this quadrant\n",
    "        tromino(board, x + s, y, x + s, y + s - 1, s)\n",
    "        tromino(board, x + s, y + s, x + s, y + s, s)\n",
    "    # If the missing square is in the bottom left quadrant\n",
    "    elif missing_x >= x + s and missing_y < y + s:\n",
    "        board[x + s - 1][y + s - 1] = board[x + s - 1][y + s] = board[x + s][y + s] = tromino_num\n",
    "        tromino(board, x, y, x + s - 1, y + s - 1, s) # Fill the other quadrants\n",
    "        tromino(board, x, y + s, x + s - 1, y + s, s)\n",
    "        tromino(board, x + s, y, missing_x, missing_y, s) # Recurse on this quadrant\n",
    "        tromino(board, x + s, y + s, x + s, y + s, s)\n",
    "    # If the missing square is in the bottom right quadrant\n",
    "    else:\n",
    "        board[x + s - 1][y + s - 1] = board[x + s - 1][y + s] = board[x + s][y + s - 1] = tromino_num\n",
    "        tromino(board, x, y, x + s - 1, y + s - 1, s) # Fill the other quadrants\n",
    "        tromino(board, x, y + s, x + s - 1, y + s, s)\n",
    "        tromino(board, x + s, y, x + s, y + s - 1, s)\n",
    "        tromino(board, x + s, y + s, missing_x, missing_y, s) # Recurse on this quadrant\n",
    "\n",
    "def solve_tromino(size, missing):\n",
    "    board = np.zeros((size, size))\n",
    "    missing_x, missing_y = missing\n",
    "    board[missing_x][missing_y] = -1\n",
    "    tromino(board, 0, 0, missing_x, missing_y, size)\n",
    "    return board\n",
    "\n",
    "print(solve_tromino(8, (0, 1)))"
   ]
  }
 ],
 "metadata": {
  "kernelspec": {
   "display_name": "base",
   "language": "python",
   "name": "python3"
  },
  "language_info": {
   "codemirror_mode": {
    "name": "ipython",
    "version": 3
   },
   "file_extension": ".py",
   "mimetype": "text/x-python",
   "name": "python",
   "nbconvert_exporter": "python",
   "pygments_lexer": "ipython3",
   "version": "3.10.10"
  },
  "orig_nbformat": 4
 },
 "nbformat": 4,
 "nbformat_minor": 2
}
