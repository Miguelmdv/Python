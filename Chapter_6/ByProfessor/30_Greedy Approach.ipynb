{
 "cells": [
  {
   "attachments": {},
   "cell_type": "markdown",
   "metadata": {},
   "source": [
    "## Real World Problem"
   ]
  },
  {
   "cell_type": "code",
   "execution_count": 1,
   "metadata": {},
   "outputs": [],
   "source": [
    "def activity_selection(start, finish):\n",
    "    result = []\n",
    "    i = 0\n",
    "    result.append(i)\n",
    "    for j in range(1, len(start)):\n",
    "        if finish[i] <= start[j]:\n",
    "            result.append(j)\n",
    "            i = j\n",
    "    return result"
   ]
  },
  {
   "cell_type": "code",
   "execution_count": 2,
   "metadata": {},
   "outputs": [],
   "source": [
    "start = [1,3,2,0,5,8,5]\n",
    "finish = [2,4,5,6,6,9,9]"
   ]
  },
  {
   "cell_type": "code",
   "execution_count": 3,
   "metadata": {},
   "outputs": [],
   "source": [
    "meetings = activity_selection(start, finish)\n",
    "maximum = len(meetings)"
   ]
  },
  {
   "cell_type": "code",
   "execution_count": 4,
   "metadata": {},
   "outputs": [],
   "source": [
    "def coin_change(coins, amount):\n",
    "    changes = []\n",
    "    largest = 0\n",
    "    while amount > 0:\n",
    "        if amount < coins[largest]:\n",
    "            largest += 1\n",
    "        else:\n",
    "            changes.append(coins[largest])\n",
    "            amount -= coins[largest]\n",
    "    return changes"
   ]
  },
  {
   "cell_type": "code",
   "execution_count": 6,
   "metadata": {},
   "outputs": [
    {
     "name": "stdout",
     "output_type": "stream",
     "text": [
      "[500, 100, 100, 10] 4\n"
     ]
    }
   ],
   "source": [
    "coins = [500, 100, 50, 10]\n",
    "amount = 710\n",
    "changes = coin_change(coins, amount)\n",
    "print(changes, len(changes))"
   ]
  },
  {
   "attachments": {},
   "cell_type": "markdown",
   "metadata": {},
   "source": [
    "## Pop Quizz"
   ]
  },
  {
   "attachments": {},
   "cell_type": "markdown",
   "metadata": {},
   "source": [
    "### Q1"
   ]
  },
  {
   "cell_type": "code",
   "execution_count": 8,
   "metadata": {},
   "outputs": [
    {
     "name": "stdout",
     "output_type": "stream",
     "text": [
      "[500, 100, 100, 100] 4\n"
     ]
    }
   ],
   "source": [
    "def coin_change(coins, amount):\n",
    "    changes = []\n",
    "    coins.sort(reverse=True)\n",
    "    for coin in coins:\n",
    "        while amount >= coin:\n",
    "            amount -= coin\n",
    "            changes.append(coin)\n",
    "    return changes\n",
    "\n",
    "coins = [500, 400, 100, 50, 10]\n",
    "amount = 800\n",
    "changes = coin_change(coins, amount)\n",
    "print(changes, len(changes))"
   ]
  },
  {
   "cell_type": "code",
   "execution_count": 17,
   "metadata": {},
   "outputs": [],
   "source": [
    "def coin_change(coins, amount_ini):\n",
    "    list_changes = []\n",
    "    for i in range(len(coins)):\n",
    "        amount = amount_ini\n",
    "        changes = []\n",
    "        coins.sort(reverse=True)\n",
    "        for coin in coins[i:]:\n",
    "            while amount >= coin:\n",
    "                amount -= coin\n",
    "                changes.append(coin)\n",
    "        list_changes.append(changes)\n",
    "    return list_changes\n",
    "\n",
    "coins = [500, 400, 100, 50, 10]\n",
    "amount = 800\n",
    "list_changes = coin_change(coins, amount)"
   ]
  },
  {
   "cell_type": "code",
   "execution_count": 21,
   "metadata": {},
   "outputs": [],
   "source": [
    "a = list(map(len, list_changes))"
   ]
  },
  {
   "cell_type": "code",
   "execution_count": 24,
   "metadata": {},
   "outputs": [],
   "source": [
    "minimum = min(a)"
   ]
  },
  {
   "cell_type": "code",
   "execution_count": 27,
   "metadata": {},
   "outputs": [],
   "source": [
    "b = a.index(minimum)"
   ]
  },
  {
   "cell_type": "code",
   "execution_count": 28,
   "metadata": {},
   "outputs": [
    {
     "data": {
      "text/plain": [
       "1"
      ]
     },
     "execution_count": 28,
     "metadata": {},
     "output_type": "execute_result"
    }
   ],
   "source": [
    "b"
   ]
  },
  {
   "attachments": {},
   "cell_type": "markdown",
   "metadata": {},
   "source": [
    "## Pair programming"
   ]
  },
  {
   "attachments": {},
   "cell_type": "markdown",
   "metadata": {},
   "source": [
    "### Q1"
   ]
  },
  {
   "cell_type": "code",
   "execution_count": 39,
   "metadata": {},
   "outputs": [
    {
     "name": "stdout",
     "output_type": "stream",
     "text": [
      "[500, 100, 50, 50, 50, 10, 10]\n",
      "[500, 100, 50, 50, 10] 5\n"
     ]
    }
   ],
   "source": [
    "def coin_change2(coins, amount):\n",
    "    coins.sort(reverse=True)\n",
    "    change = []\n",
    "    \n",
    "    for coin in coins:\n",
    "        if amount >= coin:\n",
    "            amount -= coin\n",
    "            change.append(coin)\n",
    "    return change if amount == 0 else 'No solution'\n",
    "\n",
    "coins = '500 100 50 50 50 10 10'\n",
    "coins = list(map(int, coins.split()))\n",
    "print(coins)\n",
    "amount = 710\n",
    "changes = coin_change2(coins, amount)\n",
    "print(changes, len(changes))"
   ]
  },
  {
   "attachments": {},
   "cell_type": "markdown",
   "metadata": {},
   "source": [
    "### Q2"
   ]
  },
  {
   "cell_type": "code",
   "execution_count": 41,
   "metadata": {},
   "outputs": [
    {
     "name": "stdout",
     "output_type": "stream",
     "text": [
      "[500, 50, 50, 100, 50, 10, 10]\n",
      "[500, 100, 50, 50, 10] 5\n"
     ]
    }
   ],
   "source": [
    "def coin_change2(coins, amount):\n",
    "    coins.sort(reverse=True)\n",
    "    change = []\n",
    "    \n",
    "    for coin in coins:\n",
    "        if amount >= coin:\n",
    "            amount -= coin\n",
    "            change.append(coin)\n",
    "    return change if amount == 0 else 'No solution'\n",
    "\n",
    "coins = '500 50 50 100 50 10 10'\n",
    "coins = list(map(int, coins.split()))\n",
    "print(coins)\n",
    "amount = 710\n",
    "changes = coin_change2(coins, amount)\n",
    "print(changes, len(changes))"
   ]
  }
 ],
 "metadata": {
  "kernelspec": {
   "display_name": "base",
   "language": "python",
   "name": "python3"
  },
  "language_info": {
   "codemirror_mode": {
    "name": "ipython",
    "version": 3
   },
   "file_extension": ".py",
   "mimetype": "text/x-python",
   "name": "python",
   "nbconvert_exporter": "python",
   "pygments_lexer": "ipython3",
   "version": "3.10.10"
  },
  "orig_nbformat": 4
 },
 "nbformat": 4,
 "nbformat_minor": 2
}
