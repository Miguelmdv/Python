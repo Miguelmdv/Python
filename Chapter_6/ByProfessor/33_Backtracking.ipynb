{
 "cells": [
  {
   "attachments": {},
   "cell_type": "markdown",
   "metadata": {},
   "source": [
    "# Backtracking"
   ]
  },
  {
   "cell_type": "code",
   "execution_count": 1,
   "metadata": {},
   "outputs": [],
   "source": [
    "def n_queens(i, col):\n",
    "    if promising(i, col):\n",
    "        if i == len(col) - 1:\n",
    "            print(col)\n",
    "        else:\n",
    "            for j in range(len(col)):\n",
    "                col[i + 1] = j\n",
    "                n_queens(i + 1, col)\n",
    "\n",
    "\n",
    "def promising(i, col):\n",
    "    for k in range(i):\n",
    "        if col[i] == col[k] or abs(col[i] - col[k]) == (i - k):\n",
    "            return False\n",
    "    return True\n"
   ]
  },
  {
   "cell_type": "code",
   "execution_count": 2,
   "metadata": {},
   "outputs": [
    {
     "name": "stdout",
     "output_type": "stream",
     "text": [
      "[1, 3, 0, 2]\n",
      "[2, 0, 3, 1]\n"
     ]
    }
   ],
   "source": [
    "N = 4\n",
    "n_queens(-1, [-1] * N)"
   ]
  },
  {
   "attachments": {},
   "cell_type": "markdown",
   "metadata": {},
   "source": [
    "## Q1"
   ]
  },
  {
   "cell_type": "code",
   "execution_count": 3,
   "metadata": {},
   "outputs": [
    {
     "name": "stdout",
     "output_type": "stream",
     "text": [
      "A: 9\n",
      "TO: 81\n",
      "ALL: 900\n",
      "XMAS: 7396\n",
      "MERRY: 34225\n",
      "Elapsed Time: 0.0008158683776855469 seconds\n"
     ]
    }
   ],
   "source": [
    "from math import sqrt, floor\n",
    "import time\n",
    "\n",
    "\n",
    "def is_square_digitsum(n):\n",
    "    s = 0\n",
    "    while n > 0:\n",
    "        s += n % 10\n",
    "        n //= 10\n",
    "    if sqrt(s) == int(sqrt(s)):\n",
    "        return True\n",
    "    return False\n",
    "\n",
    "\n",
    "def find_all_squares():\n",
    "    sqrs = [[] for _ in range(5)]\n",
    "    for i in range(1, floor(sqrt(10 ** 5)) + 1):\n",
    "        n = i * i\n",
    "        if not is_square_digitsum(n):\n",
    "            continue\n",
    "        s = str(n)\n",
    "\n",
    "        if len(s) == 3 and s[1] != s[2]:\n",
    "            continue\n",
    "        if len(s) == 5 and s[2] != s[3]:\n",
    "            continue\n",
    "        if len(s) in [4, 5] and len(set(s)) != 4:\n",
    "            continue\n",
    "        sqrs[len(s) - 1].append(n)\n",
    "    return sqrs\n",
    "\n",
    "\n",
    "def promising(s, n, dic):\n",
    "    for i in range(len(s)):\n",
    "        digit = int(str(n)[i])\n",
    "        for key, value in dic.items():\n",
    "            if key == s[i] and value != digit:\n",
    "                return False\n",
    "            if value == digit and key != s[i]:\n",
    "                return False\n",
    "    return True\n",
    "\n",
    "\n",
    "def solve(words, dic, squares):\n",
    "    global solved\n",
    "    if len(words) == 0:\n",
    "        solved = dic\n",
    "    else:\n",
    "        s = words[0]\n",
    "        candidates = squares[len(s) - 1]\n",
    "        for n in candidates:\n",
    "            if promising(s, n, dic):\n",
    "                newdic = dic.copy()\n",
    "                for i in range(len(s)):\n",
    "                    newdic[s[i]] = int(str(n)[i])\n",
    "                solve(words[1:], newdic, squares)\n",
    "\n",
    "\n",
    "def main():\n",
    "    squares = find_all_squares()\n",
    "    words = ['A', 'TO', 'ALL', 'XMAS', 'MERRY']\n",
    "    dic = {}\n",
    "    solve(words, dic, squares)\n",
    "    for word in words:\n",
    "        print(word, end=\": \")\n",
    "        for c in word:\n",
    "            print(solved[c], end=\"\")\n",
    "        print()\n",
    "\n",
    "\n",
    "start = time.time()\n",
    "solved = {}\n",
    "main()\n",
    "end = time.time()\n",
    "print(\"Elapsed Time:\", end - start, \"seconds\")"
   ]
  },
  {
   "attachments": {},
   "cell_type": "markdown",
   "metadata": {},
   "source": [
    "The given question states that if we replace each letter with a number, the resulting numbers for the five words should all be perfect squares. Additionally, the sum of the digits in each word should also be a perfect square. We are required to find the number represented by each letter.\n",
    "\n",
    "The code provided is a solution to this problem. It defines several functions and a main function to solve the puzzle.\n",
    "\n",
    "The `is_square_digitsum` function checks if the sum of the digits of a number is a perfect square.\n",
    "\n",
    "The `find_all_squares` function generates a list of perfect square numbers that satisfy the given constraints.\n",
    "\n",
    "The `promising` function checks if a number assignment for a letter is valid based on the current dictionary of assignments.\n",
    "\n",
    "The `solve` function uses backtracking to recursively assign numbers to letters based on the given words and constraints. It explores all possible combinations until a valid solution is found.\n",
    "\n",
    "The `main` function initializes variables, calls the `solve` function to find the solution, and prints the numbers corresponding to each letter for the given words.\n",
    "\n",
    "In the provided answer, the numbers represented by the letters are:\n",
    "\n",
    "```\n",
    "A -> 9\n",
    "M -> 3\n",
    "E -> 42\n",
    "R -> 25\n",
    "Y -> 7396\n",
    "X -> 81\n",
    "S -> 900\n",
    "```\n",
    "\n",
    "Using this mapping, the numbers corresponding to the words \"A MERRY XMAS TO ALL\" satisfy the given constraints: all the numbers are perfect squares, and the sum of the digits in each word is also a perfect square.\n",
    "\n",
    "The elapsed time is also printed to measure the execution time of the solution.\n"
   ]
  },
  {
   "attachments": {},
   "cell_type": "markdown",
   "metadata": {},
   "source": [
    "## Pair programming"
   ]
  },
  {
   "attachments": {},
   "cell_type": "markdown",
   "metadata": {},
   "source": [
    "Sure, here are the key ideas behind the code:\n",
    "\n",
    "1. **Depth-First Search (DFS):** This is the main concept used to solve the maze. DFS is a common technique for traversing or searching a tree, graph, or other data structures. Starting at the root, it explores as far as possible along each branch before backtracking. Here, we use DFS to explore the maze along a path and backtrack when we hit a dead end.\n",
    "\n",
    "2. **Backtracking:** If the current path doesn't lead to a solution, we backtrack. Backtracking is simply undoing the most recent step or steps and trying another path. This is used when the solution involves searching among a number of possibilities and when we reach a dead-end, we go back and try a different path. In this case, if the current path in the maze doesn't lead to the exit, we \"unmark\" the current cell and go back to the previous cell, then try a different direction.\n",
    "\n",
    "3. **Valid Move Check:** For every move we make in the maze, we first check whether the move is valid. The move is considered valid if it is within the bounds of the maze and if the cell has not been visited and is not an obstacle (in this case, we check whether the value of the cell is '1').\n",
    "\n",
    "4. **Recursive Solution:** The DFS and backtracking are implemented using recursion. The function `solve_maze_util` calls itself to explore each direction in the maze. This is the essence of DFS. If the current direction doesn't lead to a solution, the function returns false, leading to the backtracking.\n",
    "\n",
    "5. **Marking the Path:** The code keeps track of the path to the solution in a separate matrix called `solution`. As we move through the maze, we mark our path in this matrix. If we backtrack, we \"unmark\" the cell in the solution matrix. In the end, the solution matrix contains the path from the entrance to the exit of the maze.\n",
    "\n",
    "6. **Checking for Destination:** We have a base case that checks if the current cell is the destination. If it is, and it's a valid cell, we mark it as part of the solution and return true. \n",
    "\n",
    "In summary, the code is an implementation of a depth-first search with backtracking, where we mark our path as we go and unmark it if it turns out not to lead to a solution."
   ]
  },
  {
   "cell_type": "code",
   "execution_count": 5,
   "metadata": {},
   "outputs": [],
   "source": [
    "from pprint import pprint"
   ]
  },
  {
   "cell_type": "code",
   "execution_count": 7,
   "metadata": {},
   "outputs": [
    {
     "name": "stdout",
     "output_type": "stream",
     "text": [
      "[[1, 1, 1, 1], [1, 1, 1, 1], [1, 1, 1, 1], [1, 1, 1, 1]]\n",
      "[[1, 1, 1, 1], [0, 1, 0, 1], [0, 1, 0, 0], [1, 1, 1, 1]]\n",
      "[[1, 1, 1, 1], [0, 1, 0, 1], [0, 1, 0, 0], [1, 1, 1, 1]]\n",
      "[[1, 1, 1, 1], [0, 1, 0, 1], [0, 1, 0, 0], [1, 1, 1, 1]]\n",
      "[[1, 1, 1, 1], [0, 1, 0, 1], [0, 1, 0, 0], [1, 1, 1, 1]]\n",
      "[[1, 1, 1, 1], [0, 1, 0, 1], [0, 1, 0, 0], [1, 1, 1, 1]]\n",
      "[[1, 1, 1, 1], [0, 1, 0, 1], [0, 1, 0, 0], [1, 1, 1, 1]]\n",
      "[[1, 1, 1, 1], [0, 1, 0, 1], [0, 1, 0, 0], [1, 1, 1, 1]]\n",
      "[[1, 1, 1, 1], [0, 1, 0, 1], [0, 1, 0, 0], [1, 1, 1, 1]]\n",
      "[[1, 1, 1, 1], [0, 1, 0, 1], [0, 1, 0, 0], [1, 1, 1, 1]]\n",
      "[[1, 1, 1, 1], [0, 1, 0, 1], [0, 1, 0, 0], [1, 1, 1, 1]]\n",
      "0 0 1 1 \n",
      "1 0 1 1 \n",
      "1 0 1 1 \n",
      "1 0 0 0 \n"
     ]
    },
    {
     "data": {
      "text/plain": [
       "[[0, 0, 1, 1], [1, 0, 1, 1], [1, 0, 1, 1], [1, 0, 0, 0]]"
      ]
     },
     "execution_count": 7,
     "metadata": {},
     "output_type": "execute_result"
    }
   ],
   "source": [
    "def is_valid_move(maze, x, y):\n",
    "    N = len(maze)\n",
    "    if x >= 0 and y >= 0 and x < N and y < N and maze[x][y] == 1:\n",
    "        return True\n",
    "    return False\n",
    "\n",
    "\n",
    "def solve_maze(maze):\n",
    "    N = len(maze)\n",
    "    solution = [[1]*N for _ in range(N)]\n",
    "    print(solution)\n",
    "\n",
    "    if not solve_maze_util(maze, 0, 0, solution):\n",
    "        print(\"No solution\")\n",
    "        return None\n",
    "\n",
    "    for i in range(N):\n",
    "        for j in range(N):\n",
    "            print(solution[i][j], end=' ')\n",
    "        print()\n",
    "\n",
    "    return solution\n",
    "\n",
    "\n",
    "def solve_maze_util(maze, x, y, solution):\n",
    "    pprint(maze)\n",
    "    N = len(maze)\n",
    "\n",
    "    # If destination is reached, mark it\n",
    "    if x == N - 1 and y == N - 1 and maze[x][y] == 1:\n",
    "        solution[x][y] = 0\n",
    "        return True\n",
    "\n",
    "    # Check if maze[x][y] is valid\n",
    "    if is_valid_move(maze, x, y):\n",
    "        # Mark x, y as part of solution path\n",
    "        solution[x][y] = 0\n",
    "\n",
    "        # Move forward in x direction\n",
    "        if solve_maze_util(maze, x + 1, y, solution):\n",
    "            return True\n",
    "\n",
    "        # If moving in x direction doesn't give solution\n",
    "        # then Move down in y direction\n",
    "        if solve_maze_util(maze, x, y + 1, solution):\n",
    "            return True\n",
    "\n",
    "        # If none of the above movements work then\n",
    "        # BACKTRACK: unmark x,y as part of solution path\n",
    "        solution[x][y] = 1\n",
    "        return False\n",
    "\n",
    "    return False\n",
    "\n",
    "\n",
    "maze = [[1, 1, 1, 1],\n",
    "        [0, 1, 0, 1],\n",
    "        [0, 1, 0, 0],\n",
    "        [1, 1, 1, 1]]\n",
    "\n",
    "solve_maze(maze)"
   ]
  },
  {
   "cell_type": "code",
   "execution_count": null,
   "metadata": {},
   "outputs": [],
   "source": []
  }
 ],
 "metadata": {
  "kernelspec": {
   "display_name": "base",
   "language": "python",
   "name": "python3"
  },
  "language_info": {
   "codemirror_mode": {
    "name": "ipython",
    "version": 3
   },
   "file_extension": ".py",
   "mimetype": "text/x-python",
   "name": "python",
   "nbconvert_exporter": "python",
   "pygments_lexer": "ipython3",
   "version": "3.10.10"
  },
  "orig_nbformat": 4
 },
 "nbformat": 4,
 "nbformat_minor": 2
}
