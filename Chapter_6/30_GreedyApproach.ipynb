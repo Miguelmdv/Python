{
 "cells": [
  {
   "attachments": {},
   "cell_type": "markdown",
   "metadata": {},
   "source": [
    "## Ejercicios"
   ]
  },
  {
   "attachments": {},
   "cell_type": "markdown",
   "metadata": {},
   "source": [
    "### Ejercicio 1"
   ]
  },
  {
   "cell_type": "code",
   "execution_count": 12,
   "metadata": {},
   "outputs": [
    {
     "name": "stdout",
     "output_type": "stream",
     "text": [
      "[500, 100, 100, 100] 4\n"
     ]
    }
   ],
   "source": [
    "def coin_change(coins, amount):\n",
    "    coins.sort(reverse = True)\n",
    "    change = []\n",
    "    largest = 0\n",
    "    for coin in coins:\n",
    "        while coin <= amount:\n",
    "            if amount >= coin:\n",
    "                amount-= coin\n",
    "                change.append(coin)\n",
    "    return change \n",
    "\n",
    "\n",
    "coins = [500, 400, 100, 50, 10]\n",
    "amount = int(input(\"input the amount:\"))\n",
    "changes = coin_change(coins, amount)\n",
    "print(changes, len(changes))\n"
   ]
  },
  {
   "attachments": {},
   "cell_type": "markdown",
   "metadata": {},
   "source": [
    "### Ejercicio 2"
   ]
  },
  {
   "cell_type": "code",
   "execution_count": 14,
   "metadata": {},
   "outputs": [
    {
     "name": "stdout",
     "output_type": "stream",
     "text": [
      "[500, 50, 50, 100, 50, 10, 10]\n",
      "no solution 11\n"
     ]
    }
   ],
   "source": [
    "def coin_change2(coins, amount):\n",
    "    coins.sort(reverse = True)\n",
    "    change = []\n",
    "    \n",
    "    for coin in coins:\n",
    "        if amount >= coin:\n",
    "            amount-= coin\n",
    "            change.append(coin)\n",
    "    return change if amount == 0 else \"no solution\"\n",
    "\n",
    "coins =\"500 50 50 100 50 10 10\"\n",
    "coins = list(map(int, coins.split()))\n",
    "print(coins)\n",
    "amount = int(input(\"input the amount:\"))\n",
    "changes = coin_change2(coins, amount)\n",
    "print(changes, len(changes))"
   ]
  }
 ],
 "metadata": {
  "kernelspec": {
   "display_name": "base",
   "language": "python",
   "name": "python3"
  },
  "language_info": {
   "codemirror_mode": {
    "name": "ipython",
    "version": 3
   },
   "file_extension": ".py",
   "mimetype": "text/x-python",
   "name": "python",
   "nbconvert_exporter": "python",
   "pygments_lexer": "ipython3",
   "version": "3.10.9"
  },
  "orig_nbformat": 4
 },
 "nbformat": 4,
 "nbformat_minor": 2
}
