{
 "cells": [
  {
   "attachments": {},
   "cell_type": "markdown",
   "metadata": {},
   "source": [
    "## Ejercicios"
   ]
  },
  {
   "attachments": {},
   "cell_type": "markdown",
   "metadata": {},
   "source": [
    "### Q1"
   ]
  },
  {
   "cell_type": "code",
   "execution_count": 7,
   "metadata": {},
   "outputs": [
    {
     "name": "stdout",
     "output_type": "stream",
     "text": [
      "The position of the weighter is: 5\n"
     ]
    }
   ],
   "source": [
    "def max_search(coins):\n",
    "    if len(coins) == 1:\n",
    "        return coins[0]\n",
    "    \n",
    "    mid = len(coins)//2\n",
    "    group1 = coins[:mid]\n",
    "    group2 = coins[mid:]\n",
    "    \n",
    "    if sum(group1)> sum(group2):\n",
    "        return max_search(group1)\n",
    "    else:\n",
    "        return max_search(group2)\n",
    "    \n",
    "\n",
    "weight = [1,1,1,1,2,1,1,1]\n",
    "heavy_coin = max_search(weight)\n",
    "print(\"The position of the weighter is:\",weight.index(heavy_coin)+1)"
   ]
  },
  {
   "attachments": {},
   "cell_type": "markdown",
   "metadata": {},
   "source": [
    "### Q2"
   ]
  },
  {
   "cell_type": "code",
   "execution_count": null,
   "metadata": {},
   "outputs": [],
   "source": [
    "def max_search(coins):\n",
    "    if len(coins) // 2 == 1:\n",
    "        if len(coins) == 1:\n",
    "            return coins[0]\n",
    "        \n",
    "        mid = len(coins)//2\n",
    "        group1 = coins[:mid]\n",
    "        group2 = coins[mid:]\n",
    "        \n",
    "        if sum(group1)> sum(group2):\n",
    "            return max_search(group1)\n",
    "        else:\n",
    "            return max_search(group2)\n",
    "    else:\n",
    "        if len(coins) == 1:\n",
    "            return coins[0]\n",
    "        \n",
    "        mid = len(coins)//3\n",
    "        group1 = coins[:mid]\n",
    "        group2 = coins[mid:]\n",
    "        \n",
    "        if sum(group1)> sum(group2):\n",
    "            return max_search(group1)\n",
    "        else:\n",
    "            return max_search(group2)\n",
    "    \n",
    "\n",
    "weight = [1,1,1,1,2,1,1,1]\n",
    "heavy_coin = max_search(weight)\n",
    "print(\"The position of the weighter is:\",weight.index(heavy_coin)+1)"
   ]
  }
 ],
 "metadata": {
  "kernelspec": {
   "display_name": "base",
   "language": "python",
   "name": "python3"
  },
  "language_info": {
   "codemirror_mode": {
    "name": "ipython",
    "version": 3
   },
   "file_extension": ".py",
   "mimetype": "text/x-python",
   "name": "python",
   "nbconvert_exporter": "python",
   "pygments_lexer": "ipython3",
   "version": "3.10.9"
  },
  "orig_nbformat": 4
 },
 "nbformat": 4,
 "nbformat_minor": 2
}
