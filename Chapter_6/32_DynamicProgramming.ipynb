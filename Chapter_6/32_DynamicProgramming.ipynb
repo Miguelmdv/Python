{
 "cells": [
  {
   "attachments": {},
   "cell_type": "markdown",
   "metadata": {},
   "source": [
    "### Fibonacci"
   ]
  },
  {
   "cell_type": "code",
   "execution_count": null,
   "metadata": {},
   "outputs": [],
   "source": [
    "%%timeit\n",
    "\n",
    "def fib1(n):\n",
    "    if n == 0 or n == 1:\n",
    "        return n\n",
    "    else:\n",
    "        return fib1(n-1) + fib1(n-2)\n",
    "    \n",
    "# N = int(input(\"Mete un numero fib1:\"))\n",
    "N=10\n",
    "fib1(N)   "
   ]
  },
  {
   "cell_type": "code",
   "execution_count": null,
   "metadata": {},
   "outputs": [],
   "source": [
    "%%timeit\n",
    "\n",
    "F = {0:0,1:1}\n",
    "\n",
    "def fib2(n):\n",
    "    if n in F:\n",
    "        return F[n]\n",
    "    else:\n",
    "        F[n] = fib2(n-1)+fib2(n-2)\n",
    "        return F[n]\n",
    "\n",
    "# N = int(input(\"Mete un numero fib2:\"))\n",
    "N=10\n",
    "fib2(N)"
   ]
  },
  {
   "cell_type": "code",
   "execution_count": null,
   "metadata": {},
   "outputs": [],
   "source": [
    "%%timeit\n",
    "\n",
    "def fib3(F,n):\n",
    "    if n <= 1:\n",
    "        return F[n]\n",
    "    else:\n",
    "        if F[n] is None:\n",
    "            F[n] = fib3(F,n-1) + fib3(F,n-2)\n",
    "        return F[n]\n",
    "        \n",
    "# N = int(input(\"Mete un numero fib3:\"))\n",
    "N=10\n",
    "F = [0,1] + [None] * (N-1) \n",
    "fib3(F,N)"
   ]
  },
  {
   "cell_type": "code",
   "execution_count": null,
   "metadata": {},
   "outputs": [],
   "source": [
    "%%timeit\n",
    "\n",
    "def fib4(n):\n",
    "    if n <= 1:\n",
    "        return n\n",
    "    else:\n",
    "        a,b = 0,1\n",
    "        for i in range(2,n+1):\n",
    "            a,b = b,a+b\n",
    "        return b\n",
    "    \n",
    "    \n",
    "# N = int(input(\"Mete un numero fib4:\"))\n",
    "N=10\n",
    "fib4(N)"
   ]
  },
  {
   "attachments": {},
   "cell_type": "markdown",
   "metadata": {},
   "source": [
    "### Pascal's Triangle"
   ]
  },
  {
   "cell_type": "code",
   "execution_count": null,
   "metadata": {},
   "outputs": [],
   "source": [
    "%%timeit -p 10\n",
    "\n",
    "def bin1(n,k):\n",
    "    if k == 0 or n == k:\n",
    "        return 1\n",
    "    else:\n",
    "        return bin1(n-1, k-1) + bin1(n-1,k)\n",
    "    \n",
    "# n = int(input(\"N\"))\n",
    "# k = int(input(\"K\"))\n",
    "n = 5\n",
    "k = 3\n",
    "# print(f\"binomial({n}, {k}) is {bin1(n,k)}\")\n",
    "bin1(n,k)"
   ]
  },
  {
   "cell_type": "code",
   "execution_count": null,
   "metadata": {},
   "outputs": [],
   "source": [
    "%%timeit -p 10\n",
    "def bin2(n,k):\n",
    "    B = [[0]*(i+1) for i in range(n+1)]\n",
    "    for i in range(n+1):\n",
    "        for j in range(i+1):\n",
    "            if j == 0 or j == i:\n",
    "                B[i][j] = 1\n",
    "            else:\n",
    "                B[i][j] = B[i - 1][j - 1]+ B[i - 1][j]\n",
    "    return B[n][k]\n",
    "\n",
    "n = 5\n",
    "k = 3\n",
    "# print(f\"binomial ({n}, {k}) is {bin2(n,k)}\")\n",
    "bin2(n,k)"
   ]
  },
  {
   "cell_type": "code",
   "execution_count": null,
   "metadata": {},
   "outputs": [],
   "source": [
    "%%timeit -p 10\n",
    "\n",
    "def bin3(n,k):\n",
    "    B = [0]*(n+1) \n",
    "    for i in range(n+1):\n",
    "        for j in range(n,-1,-1):\n",
    "            if j == 0 or j == i:\n",
    "                B[j] = 1\n",
    "            else:\n",
    "                B[j] = B[j] + B[j - 1]\n",
    "    return B[k]\n",
    "\n",
    "for i in range(10):\n",
    "    for j in range(i+1):\n",
    "        bin3(i,j)"
   ]
  },
  {
   "attachments": {},
   "cell_type": "markdown",
   "metadata": {},
   "source": [
    "## Ejercicio Parejas"
   ]
  },
  {
   "cell_type": "code",
   "execution_count": 1,
   "metadata": {},
   "outputs": [
    {
     "name": "stdout",
     "output_type": "stream",
     "text": [
      "6\n"
     ]
    }
   ],
   "source": [
    "def maximun_subarray(arr):\n",
    "    n = len(arr)\n",
    "    max_so_far = arr[0]\n",
    "    max_ending_here = arr[0]\n",
    "    for i in range(1, n):\n",
    "        max_ending_here = max(arr[i], max_ending_here + arr[i])\n",
    "        max_so_far = max(max_so_far, max_ending_here)\n",
    "    return max_so_far\n",
    "\n",
    "S = [-2, 1,-3,4,-1,2,1,-5,4]\n",
    "M = maximun_subarray(S)\n",
    "print(M)"
   ]
  }
 ],
 "metadata": {
  "kernelspec": {
   "display_name": "base",
   "language": "python",
   "name": "python3"
  },
  "language_info": {
   "codemirror_mode": {
    "name": "ipython",
    "version": 3
   },
   "file_extension": ".py",
   "mimetype": "text/x-python",
   "name": "python",
   "nbconvert_exporter": "python",
   "pygments_lexer": "ipython3",
   "version": "3.10.9"
  },
  "orig_nbformat": 4
 },
 "nbformat": 4,
 "nbformat_minor": 2
}
