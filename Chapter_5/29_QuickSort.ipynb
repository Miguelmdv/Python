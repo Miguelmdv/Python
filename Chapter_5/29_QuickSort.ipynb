{
 "cells": [
  {
   "attachments": {},
   "cell_type": "markdown",
   "metadata": {},
   "source": [
    "## Quick Sort no funciona"
   ]
  },
  {
   "attachments": {},
   "cell_type": "markdown",
   "metadata": {},
   "source": [
    "### Divide-and-Conquer"
   ]
  },
  {
   "cell_type": "code",
   "execution_count": 4,
   "metadata": {},
   "outputs": [],
   "source": [
    "def partition1(S, low, high):\n",
    "  pivot = S[low]\n",
    "  left, right = low+1, high\n",
    "  while left < right:\n",
    "    print(S)\n",
    "    while left <= right and S[left] <= pivot:\n",
    "      left += +1\n",
    "    while left <= right and S[right] >= pivot:\n",
    "      right -= 1\n",
    "    if left < right:\n",
    "      S[left], S[right] = S[right], S[left]\n",
    "  pivotpoint = right\n",
    "  S[low], S[pivotpoint] = S[pivotpoint], S[low]\n",
    "  \n",
    "  return pivotpoint"
   ]
  },
  {
   "cell_type": "code",
   "execution_count": 5,
   "metadata": {},
   "outputs": [],
   "source": [
    "def quicksort1(S, low, high):\n",
    "  if low < high:\n",
    "    print(S)\n",
    "    pivotpoint = partition1(S, low, high)\n",
    "    quicksort1(S, low, pivotpoint-1)\n",
    "    quicksort1(S, pivotpoint+1, high)"
   ]
  },
  {
   "cell_type": "code",
   "execution_count": 6,
   "metadata": {},
   "outputs": [
    {
     "name": "stdout",
     "output_type": "stream",
     "text": [
      "[15, 10, 12, 20, 25, 13, 22]\n",
      "[15, 10, 12, 20, 25, 13, 22]\n",
      "[15, 10, 12, 13, 25, 20, 22]\n",
      "[13, 10, 12, 15, 25, 20, 22]\n",
      "[13, 10, 12, 15, 25, 20, 22]\n",
      "[12, 10, 13, 15, 25, 20, 22]\n",
      "[10, 12, 13, 15, 25, 20, 22]\n",
      "[10, 12, 13, 15, 25, 20, 22]\n",
      "[10, 12, 13, 15, 22, 20, 25]\n",
      "[10, 12, 13, 15, 20, 22, 25]\n"
     ]
    }
   ],
   "source": [
    "S = [15, 10, 12, 20, 25, 13, 22]\n",
    "\n",
    "quicksort1(S, 0, len(S)-1)\n",
    "print(S)"
   ]
  },
  {
   "cell_type": "code",
   "execution_count": 7,
   "metadata": {},
   "outputs": [
    {
     "name": "stdout",
     "output_type": "stream",
     "text": [
      "[15, 10, 12, 20, 11, 13, 22]\n",
      "[15, 10, 12, 20, 11, 13, 22]\n",
      "[15, 10, 12, 13, 11, 20, 22]\n",
      "[11, 10, 12, 13, 15, 20, 22]\n",
      "[11, 10, 12, 13, 15, 20, 22]\n",
      "[10, 11, 12, 13, 15, 20, 22]\n",
      "[10, 11, 13, 12, 15, 20, 22]\n",
      "[10, 11, 13, 12, 15, 22, 20]\n"
     ]
    }
   ],
   "source": [
    "S = [15, 10, 12, 20, 11, 13, 22]\n",
    "\n",
    "quicksort1(S, 0, len(S)-1)\n",
    "print(S)"
   ]
  },
  {
   "attachments": {},
   "cell_type": "markdown",
   "metadata": {},
   "source": [
    "### Random pivot"
   ]
  },
  {
   "cell_type": "code",
   "execution_count": 8,
   "metadata": {},
   "outputs": [],
   "source": [
    "from random import randint\n",
    "\n",
    "def partition2(S, low, high):\n",
    "  rand = randint(low, high)\n",
    "  S[low], S[rand] = S[rand], S[low]\n",
    "  pivot, left, right = S[low], low, high\n",
    "  print(S, left, right, \"pivot = \", pivot)\n",
    "  while left < right:\n",
    "    while left < right and S[left] <= pivot:\n",
    "      left += +1\n",
    "    while right > low and S[right] >= pivot:\n",
    "      right -= 1\n",
    "    if left < right:\n",
    "      S[left], S[right] = S[right], S[left]\n",
    "  pivotpoint = right\n",
    "  S[low], S[pivotpoint] = S[pivotpoint], S[low]\n",
    "  return pivotpoint"
   ]
  },
  {
   "cell_type": "code",
   "execution_count": 9,
   "metadata": {},
   "outputs": [],
   "source": [
    "def quicksort2(S, low, high):\n",
    "  if low < high:\n",
    "    print(S)\n",
    "    pivotpoint = partition2(S, low, high)\n",
    "    quicksort2(S, low, pivotpoint-1)\n",
    "    quicksort2(S, pivotpoint+1, high)"
   ]
  },
  {
   "attachments": {},
   "cell_type": "markdown",
   "metadata": {},
   "source": [
    "## Quick Sort si Funciona "
   ]
  },
  {
   "attachments": {},
   "cell_type": "markdown",
   "metadata": {},
   "source": [
    "https://www.programiz.com/dsa/quick-sort"
   ]
  },
  {
   "cell_type": "code",
   "execution_count": 10,
   "metadata": {},
   "outputs": [],
   "source": [
    "# function to find the partition position\n",
    "\n",
    "def partition(array, low, high):\n",
    "\n",
    " # choose the rightmost element as pivot\n",
    " pivot = array[high]\n",
    "\n",
    " # pointer for greater element\n",
    " i = low - 1\n",
    "\n",
    " # traverse through all elements\n",
    " # compare each element with pivot\n",
    " for j in range(low, high):\n",
    "  if array[j] <= pivot:\n",
    "   # if element smaller than pivot is found\n",
    "   # swap it with the greater element pointed by i\n",
    "   i = i + 1\n",
    "\n",
    "   # swapping element at i with element at j\n",
    "   (array[i], array[j]) = (array[j], array[i])\n",
    "\n",
    " # swap the pivot element with the greater element specified by i\n",
    " (array[i + 1], array[high]) = (array[high], array[i + 1])\n",
    "\n",
    " # return the position from where partition is done\n",
    " return i + 1"
   ]
  },
  {
   "cell_type": "code",
   "execution_count": 11,
   "metadata": {},
   "outputs": [],
   "source": [
    "# function to perform quicksort\n",
    "def quickSort(array, low, high):\n",
    "  if low < high:\n",
    "    print(array)\n",
    "    # find pivot element such that\n",
    "    # element smaller than pivot are on the left\n",
    "    # element greater than pivot are on the right\n",
    "    pi = partition(array, low, high)\n",
    "\n",
    "    # recursive call on the left of pivot\n",
    "    quickSort(array, low, pi - 1)\n",
    "\n",
    "    # recursive call on the right of pivot\n",
    "    quickSort(array, pi + 1, high)"
   ]
  },
  {
   "cell_type": "code",
   "execution_count": 12,
   "metadata": {},
   "outputs": [
    {
     "name": "stdout",
     "output_type": "stream",
     "text": [
      "Unsorted Array\n",
      "[8, 7, 2, 1, 0, 9, 6]\n",
      "[8, 7, 2, 1, 0, 9, 6]\n",
      "[2, 1, 0, 6, 8, 9, 7]\n",
      "[0, 1, 2, 6, 8, 9, 7]\n",
      "[0, 1, 2, 6, 8, 9, 7]\n",
      "[0, 1, 2, 6, 7, 9, 8]\n",
      "Sorted Array in Ascending Order:\n",
      "[0, 1, 2, 6, 7, 8, 9]\n"
     ]
    }
   ],
   "source": [
    "data = [8, 7, 2, 1, 0, 9, 6]\n",
    "print(\"Unsorted Array\")\n",
    "print(data)\n",
    "\n",
    "size = len(data)\n",
    "\n",
    "quickSort(data, 0, size - 1)\n",
    "\n",
    "print('Sorted Array in Ascending Order:')\n",
    "print(data)"
   ]
  },
  {
   "cell_type": "code",
   "execution_count": 13,
   "metadata": {},
   "outputs": [
    {
     "name": "stdout",
     "output_type": "stream",
     "text": [
      "[15, 10, 12, 20, 25, 13, 22]\n",
      "[15, 10, 12, 20, 13, 22, 25]\n",
      "[10, 12, 13, 20, 15, 22, 25]\n",
      "[10, 12, 13, 20, 15, 22, 25]\n",
      "[10, 12, 13, 15, 20, 22, 25]\n"
     ]
    }
   ],
   "source": [
    "S = [15, 10, 12, 20, 25, 13, 22]\n",
    "\n",
    "quickSort(S, 0, len(S)-1)\n",
    "print(S)"
   ]
  },
  {
   "cell_type": "code",
   "execution_count": 14,
   "metadata": {},
   "outputs": [
    {
     "name": "stdout",
     "output_type": "stream",
     "text": [
      "[15, 10, 12, 20, 11, 13, 22]\n",
      "[15, 10, 12, 20, 11, 13, 22]\n",
      "[10, 12, 11, 13, 15, 20, 22]\n",
      "[10, 11, 12, 13, 15, 20, 22]\n",
      "[10, 11, 12, 13, 15, 20, 22]\n"
     ]
    }
   ],
   "source": [
    "S = [15, 10, 12, 20, 11, 13, 22]\n",
    "\n",
    "quickSort(S, 0, len(S)-1)\n",
    "print(S)"
   ]
  },
  {
   "attachments": {},
   "cell_type": "markdown",
   "metadata": {},
   "source": [
    "## Ejercicios"
   ]
  },
  {
   "attachments": {},
   "cell_type": "markdown",
   "metadata": {},
   "source": [
    "### E1"
   ]
  },
  {
   "cell_type": "code",
   "execution_count": 15,
   "metadata": {},
   "outputs": [
    {
     "name": "stdout",
     "output_type": "stream",
     "text": [
      "[15, 10, 12, 20, 25, 13, 22]\n",
      "[15, 10, 12, 13, 25, 20, 22]\n",
      "[13, 10, 12, 15, 25, 20, 22]\n"
     ]
    }
   ],
   "source": [
    "S = [15, 10, 12, 20, 25, 13, 22]\n",
    "partition1(S, 0, len(S) -1)\n",
    "print(S)"
   ]
  },
  {
   "attachments": {},
   "cell_type": "markdown",
   "metadata": {},
   "source": [
    "### Ejercicio parejas"
   ]
  },
  {
   "cell_type": "code",
   "execution_count": 16,
   "metadata": {},
   "outputs": [],
   "source": [
    "def find_k_largest_element(S, k):\n",
    "  if k > len(S):\n",
    "    return None\n",
    "\n",
    "  largest_found = 0\n",
    "  for i in range(k):\n",
    "    largest_found = 0\n",
    "    for elemento in S:\n",
    "      if elemento > largest_found:\n",
    "        largest_found = elemento\n",
    "\n",
    "    if i < k-1:\n",
    "      S.pop(S.index(largest_found))\n",
    "\n",
    "  return largest_found"
   ]
  },
  {
   "cell_type": "code",
   "execution_count": 17,
   "metadata": {},
   "outputs": [],
   "source": [
    "def find_k_largest_element2(S, k):\n",
    "    quicksort2(S, 0, len(S-1))\n",
    "    return S[-k]\n"
   ]
  }
 ],
 "metadata": {
  "kernelspec": {
   "display_name": "base",
   "language": "python",
   "name": "python3"
  },
  "language_info": {
   "codemirror_mode": {
    "name": "ipython",
    "version": 3
   },
   "file_extension": ".py",
   "mimetype": "text/x-python",
   "name": "python",
   "nbconvert_exporter": "python",
   "pygments_lexer": "ipython3",
   "version": "3.10.11"
  },
  "orig_nbformat": 4
 },
 "nbformat": 4,
 "nbformat_minor": 2
}
