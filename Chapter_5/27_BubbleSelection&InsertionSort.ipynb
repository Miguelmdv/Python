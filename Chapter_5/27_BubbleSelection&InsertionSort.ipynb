{
 "cells": [
  {
   "attachments": {},
   "cell_type": "markdown",
   "metadata": {},
   "source": [
    "## Swap"
   ]
  },
  {
   "cell_type": "code",
   "execution_count": 1,
   "metadata": {},
   "outputs": [],
   "source": [
    "def swap2(S, x, y):\n",
    "    S[x], S[y] = S[y], S[x]"
   ]
  },
  {
   "cell_type": "code",
   "execution_count": 2,
   "metadata": {},
   "outputs": [
    {
     "name": "stdout",
     "output_type": "stream",
     "text": [
      "[10, 20]\n",
      "[20, 10]\n"
     ]
    }
   ],
   "source": [
    "S = [10, 20]\n",
    "print(S)\n",
    "swap2(S, 0, 1)\n",
    "print(S)"
   ]
  },
  {
   "attachments": {},
   "cell_type": "markdown",
   "metadata": {},
   "source": [
    "## Bubble sort"
   ]
  },
  {
   "attachments": {},
   "cell_type": "markdown",
   "metadata": {},
   "source": [
    "### Normal"
   ]
  },
  {
   "cell_type": "code",
   "execution_count": 3,
   "metadata": {},
   "outputs": [],
   "source": [
    "def bubblesort1(S):\n",
    "    n = len(S)\n",
    "    for i in range(n):\n",
    "        print(S)\n",
    "        for j in range(n-1):\n",
    "            print(f\"Comparamos {S[j+1]} con {S[j]}\")\n",
    "            if S[j] > S[j+1]:\n",
    "                S[j], S[j+1] = S[j+1], S[j]\n",
    "                "
   ]
  },
  {
   "cell_type": "code",
   "execution_count": 4,
   "metadata": {},
   "outputs": [
    {
     "name": "stdout",
     "output_type": "stream",
     "text": [
      "[50, 30, 40, 10, 20]\n",
      "Comparamos 30 con 50\n",
      "Comparamos 40 con 50\n",
      "Comparamos 10 con 50\n",
      "Comparamos 20 con 50\n",
      "[30, 40, 10, 20, 50]\n",
      "Comparamos 40 con 30\n",
      "Comparamos 10 con 40\n",
      "Comparamos 20 con 40\n",
      "Comparamos 50 con 40\n",
      "[30, 10, 20, 40, 50]\n",
      "Comparamos 10 con 30\n",
      "Comparamos 20 con 30\n",
      "Comparamos 40 con 30\n",
      "Comparamos 50 con 40\n",
      "[10, 20, 30, 40, 50]\n",
      "Comparamos 20 con 10\n",
      "Comparamos 30 con 20\n",
      "Comparamos 40 con 30\n",
      "Comparamos 50 con 40\n",
      "[10, 20, 30, 40, 50]\n",
      "Comparamos 20 con 10\n",
      "Comparamos 30 con 20\n",
      "Comparamos 40 con 30\n",
      "Comparamos 50 con 40\n",
      "[10, 20, 30, 40, 50]\n"
     ]
    }
   ],
   "source": [
    "S = [50, 30, 40, 10, 20]\n",
    "bubblesort1(S)\n",
    "print(S)"
   ]
  },
  {
   "attachments": {},
   "cell_type": "markdown",
   "metadata": {},
   "source": [
    "### Optimized 1"
   ]
  },
  {
   "cell_type": "code",
   "execution_count": 5,
   "metadata": {},
   "outputs": [],
   "source": [
    "def bubblesort2(S):\n",
    "    n = len(S)\n",
    "    for i in range(n):\n",
    "        print(S)\n",
    "        for j in range(n-1):\n",
    "            print(f\"Comparamos {S[j+1]} con {S[j]}\")\n",
    "            if S[j] > S[j+1]:\n",
    "                S[j], S[j+1] = S[j+1], S[j]\n",
    "        n -= 1"
   ]
  },
  {
   "cell_type": "code",
   "execution_count": 6,
   "metadata": {},
   "outputs": [
    {
     "name": "stdout",
     "output_type": "stream",
     "text": [
      "[50, 30, 40, 10, 20]\n",
      "Comparamos 30 con 50\n",
      "Comparamos 40 con 50\n",
      "Comparamos 10 con 50\n",
      "Comparamos 20 con 50\n",
      "[30, 40, 10, 20, 50]\n",
      "Comparamos 40 con 30\n",
      "Comparamos 10 con 40\n",
      "Comparamos 20 con 40\n",
      "[30, 10, 20, 40, 50]\n",
      "Comparamos 10 con 30\n",
      "Comparamos 20 con 30\n",
      "[10, 20, 30, 40, 50]\n",
      "Comparamos 20 con 10\n",
      "[10, 20, 30, 40, 50]\n",
      "[10, 20, 30, 40, 50]\n"
     ]
    }
   ],
   "source": [
    "S = [50, 30, 40, 10, 20]\n",
    "bubblesort2(S)\n",
    "print(S)"
   ]
  },
  {
   "attachments": {},
   "cell_type": "markdown",
   "metadata": {},
   "source": [
    "### Optimized 2"
   ]
  },
  {
   "cell_type": "code",
   "execution_count": 7,
   "metadata": {},
   "outputs": [],
   "source": [
    "def bubblesort3(S):\n",
    "    n = len(S)\n",
    "    for i in range(n):\n",
    "        changed = False\n",
    "        print(S)\n",
    "        for j in range(i+1, n):\n",
    "            print(f\"Comparamos {S[j]} con {S[i]}\")\n",
    "            if S[i] > S[j]:\n",
    "                S[i], S[j] = S[j], S[i]\n",
    "                changed = True\n",
    "        if not changed:\n",
    "            break"
   ]
  },
  {
   "cell_type": "code",
   "execution_count": 8,
   "metadata": {},
   "outputs": [
    {
     "name": "stdout",
     "output_type": "stream",
     "text": [
      "[50, 30, 40, 10, 20]\n",
      "Comparamos 30 con 50\n",
      "Comparamos 40 con 30\n",
      "Comparamos 10 con 30\n",
      "Comparamos 20 con 10\n",
      "[10, 50, 40, 30, 20]\n",
      "Comparamos 40 con 50\n",
      "Comparamos 30 con 40\n",
      "Comparamos 20 con 30\n",
      "[10, 20, 50, 40, 30]\n",
      "Comparamos 40 con 50\n",
      "Comparamos 30 con 40\n",
      "[10, 20, 30, 50, 40]\n",
      "Comparamos 40 con 50\n",
      "[10, 20, 30, 40, 50]\n",
      "[10, 20, 30, 40, 50]\n"
     ]
    }
   ],
   "source": [
    "S = [50, 30, 40, 10, 20]\n",
    "bubblesort3(S)\n",
    "print(S)"
   ]
  },
  {
   "attachments": {},
   "cell_type": "markdown",
   "metadata": {},
   "source": [
    "## Selection Sort"
   ]
  },
  {
   "attachments": {},
   "cell_type": "markdown",
   "metadata": {},
   "source": [
    "### Without swap"
   ]
  },
  {
   "cell_type": "code",
   "execution_count": 9,
   "metadata": {},
   "outputs": [],
   "source": [
    "def seletionsort1(S):\n",
    "    R =[]\n",
    "    while len(S)>0:\n",
    "        print(R, S)\n",
    "        smallest = S.index(min(S))\n",
    "        R.append(S[smallest])\n",
    "        S.pop(smallest)\n",
    "    return R"
   ]
  },
  {
   "cell_type": "code",
   "execution_count": 10,
   "metadata": {},
   "outputs": [
    {
     "name": "stdout",
     "output_type": "stream",
     "text": [
      "[] [50, 30, 40, 10, 20]\n",
      "[10] [50, 30, 40, 20]\n",
      "[10, 20] [50, 30, 40]\n",
      "[10, 20, 30] [50, 40]\n",
      "[10, 20, 30, 40] [50]\n",
      "[10, 20, 30, 40, 50]\n"
     ]
    }
   ],
   "source": [
    "S = [50, 30, 40, 10, 20]\n",
    "R = seletionsort1(S)\n",
    "print(R)"
   ]
  },
  {
   "attachments": {},
   "cell_type": "markdown",
   "metadata": {},
   "source": [
    "### In-Place Sort"
   ]
  },
  {
   "cell_type": "code",
   "execution_count": 11,
   "metadata": {},
   "outputs": [],
   "source": [
    "def seletionsort2(S):\n",
    "    n = len(S)\n",
    "    for i in range(n-1):\n",
    "        print(S)\n",
    "        smallest = i\n",
    "        for j in range(i+1, n):\n",
    "            if S[j] < S[smallest]:\n",
    "                smallest = j\n",
    "        S[i], S[smallest] = S[smallest], S[i]"
   ]
  },
  {
   "cell_type": "code",
   "execution_count": 12,
   "metadata": {},
   "outputs": [
    {
     "name": "stdout",
     "output_type": "stream",
     "text": [
      "[50, 30, 40, 10, 20]\n",
      "[10, 30, 40, 50, 20]\n",
      "[10, 20, 40, 50, 30]\n",
      "[10, 20, 30, 50, 40]\n",
      "[10, 20, 30, 40, 50]\n"
     ]
    }
   ],
   "source": [
    "S = [50, 30, 40, 10, 20]\n",
    "seletionsort2(S)\n",
    "print(S)"
   ]
  },
  {
   "attachments": {},
   "cell_type": "markdown",
   "metadata": {},
   "source": [
    "## Insertion Sort"
   ]
  },
  {
   "attachments": {},
   "cell_type": "markdown",
   "metadata": {},
   "source": [
    "### With additional memory"
   ]
  },
  {
   "cell_type": "code",
   "execution_count": 13,
   "metadata": {},
   "outputs": [],
   "source": [
    "def insertionsort1(S):\n",
    "    R = []\n",
    "    while len(S) > 0:\n",
    "        print(R, S)\n",
    "        x = S.pop(0)\n",
    "        j = len(R) - 1\n",
    "        while j >= 0 and R[j] > x:\n",
    "            j -= 1\n",
    "        R.insert(j+1, x)\n",
    "    return R"
   ]
  },
  {
   "cell_type": "code",
   "execution_count": 14,
   "metadata": {},
   "outputs": [
    {
     "name": "stdout",
     "output_type": "stream",
     "text": [
      "[] [50, 30, 40, 10, 20]\n",
      "[50] [30, 40, 10, 20]\n",
      "[30, 50] [40, 10, 20]\n",
      "[30, 40, 50] [10, 20]\n",
      "[10, 30, 40, 50] [20]\n",
      "[10, 20, 30, 40, 50]\n"
     ]
    }
   ],
   "source": [
    "S = [50, 30, 40, 10, 20]\n",
    "R = insertionsort1(S)\n",
    "print(R)"
   ]
  },
  {
   "attachments": {},
   "cell_type": "markdown",
   "metadata": {},
   "source": [
    "### In-Place Sort"
   ]
  },
  {
   "cell_type": "code",
   "execution_count": 15,
   "metadata": {},
   "outputs": [],
   "source": [
    "def insertionsort2(S):\n",
    "    n = len(S)\n",
    "    for i in range(1,n):\n",
    "        print(S)\n",
    "        x = S[i]\n",
    "        j = i - 1\n",
    "        while j >= 0 and S[j] > x:\n",
    "            print(f\"Comparamos {S[j]} con {x}\")\n",
    "            S[j+1] = S[j]\n",
    "            j -= 1\n",
    "        S[j+1] = x"
   ]
  },
  {
   "cell_type": "code",
   "execution_count": 20,
   "metadata": {},
   "outputs": [
    {
     "name": "stdout",
     "output_type": "stream",
     "text": [
      "[50, 30, 40, 10, 20]\n",
      "Comparamos 50 con 30\n",
      "[30, 50, 40, 10, 20]\n",
      "Comparamos 50 con 40\n",
      "[30, 40, 50, 10, 20]\n",
      "Comparamos 50 con 10\n",
      "Comparamos 40 con 10\n",
      "Comparamos 30 con 10\n",
      "[10, 30, 40, 50, 20]\n",
      "Comparamos 50 con 20\n",
      "Comparamos 40 con 20\n",
      "Comparamos 30 con 20\n",
      "[10, 20, 30, 40, 50]\n"
     ]
    }
   ],
   "source": [
    "S = [50, 30, 40, 10, 20]\n",
    "insertionsort2(S)\n",
    "print(S)"
   ]
  },
  {
   "attachments": {},
   "cell_type": "markdown",
   "metadata": {},
   "source": [
    "## Ejercicios"
   ]
  },
  {
   "attachments": {},
   "cell_type": "markdown",
   "metadata": {},
   "source": [
    "### Ejercicio 1"
   ]
  },
  {
   "cell_type": "code",
   "execution_count": 17,
   "metadata": {},
   "outputs": [],
   "source": [
    "# 8 veces se va a hacer el swap en el bubble sort normal"
   ]
  },
  {
   "attachments": {},
   "cell_type": "markdown",
   "metadata": {},
   "source": [
    "### Ejercicio 2"
   ]
  },
  {
   "cell_type": "code",
   "execution_count": 18,
   "metadata": {},
   "outputs": [],
   "source": [
    "# 8 veces se va a hacer el swap en el bubble sort normal"
   ]
  },
  {
   "attachments": {},
   "cell_type": "markdown",
   "metadata": {},
   "source": [
    "### Ejercicio parejas 1"
   ]
  },
  {
   "cell_type": "code",
   "execution_count": 19,
   "metadata": {},
   "outputs": [
    {
     "name": "stdout",
     "output_type": "stream",
     "text": [
      "Son Anagramas?\n",
      "as asd\n",
      "False\n"
     ]
    }
   ],
   "source": [
    "def is_anagram(s1, s2):\n",
    "    if sorted(s1) == sorted(s2):\n",
    "        print(True)\n",
    "    else:\n",
    "        print(False)\n",
    " \n",
    "print(\"Son Anagramas?\")       \n",
    "s1, s2 = input(\"Di dos palabras\").split()\n",
    "print(s1,s2)\n",
    "is_anagram(s1,s2)"
   ]
  }
 ],
 "metadata": {
  "kernelspec": {
   "display_name": "base",
   "language": "python",
   "name": "python3"
  },
  "language_info": {
   "codemirror_mode": {
    "name": "ipython",
    "version": 3
   },
   "file_extension": ".py",
   "mimetype": "text/x-python",
   "name": "python",
   "nbconvert_exporter": "python",
   "pygments_lexer": "ipython3",
   "version": "3.10.9"
  },
  "orig_nbformat": 4
 },
 "nbformat": 4,
 "nbformat_minor": 2
}
