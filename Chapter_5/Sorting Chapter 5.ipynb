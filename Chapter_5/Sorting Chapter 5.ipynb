{
 "cells": [
  {
   "cell_type": "code",
   "execution_count": 1,
   "id": "89b7863b",
   "metadata": {},
   "outputs": [
    {
     "data": {
      "text/plain": [
       "False"
      ]
     },
     "execution_count": 1,
     "metadata": {},
     "output_type": "execute_result"
    }
   ],
   "source": [
    "'A' > 'a'"
   ]
  },
  {
   "cell_type": "code",
   "execution_count": null,
   "id": "f5615a02",
   "metadata": {},
   "outputs": [],
   "source": [
    "'2023-06-07'"
   ]
  },
  {
   "cell_type": "code",
   "execution_count": 2,
   "id": "6fb13eee",
   "metadata": {},
   "outputs": [
    {
     "data": {
      "text/plain": [
       "'07/06/2023'"
      ]
     },
     "execution_count": 2,
     "metadata": {},
     "output_type": "execute_result"
    }
   ],
   "source": [
    "'07/06/2023'"
   ]
  },
  {
   "cell_type": "code",
   "execution_count": null,
   "id": "33762ab6",
   "metadata": {},
   "outputs": [],
   "source": [
    "'06/07/2023'"
   ]
  },
  {
   "cell_type": "code",
   "execution_count": 3,
   "id": "38dd8ada",
   "metadata": {},
   "outputs": [],
   "source": [
    "fechas = [\n",
    "    '2023-06-07',\n",
    "    '2023-06-05',\n",
    "    '2023-06-10'\n",
    "]"
   ]
  },
  {
   "cell_type": "code",
   "execution_count": 11,
   "id": "189bbbdc",
   "metadata": {},
   "outputs": [],
   "source": [
    "fechas = [\n",
    "    '07/06/2023',\n",
    "    '10/06/2022',\n",
    "    '03/06/2023'\n",
    "]"
   ]
  },
  {
   "cell_type": "code",
   "execution_count": 12,
   "id": "3fdd9865",
   "metadata": {},
   "outputs": [],
   "source": [
    "fechas.sort()"
   ]
  },
  {
   "cell_type": "code",
   "execution_count": 13,
   "id": "54054cf2",
   "metadata": {},
   "outputs": [
    {
     "data": {
      "text/plain": [
       "['03/06/2023', '07/06/2023', '10/06/2022']"
      ]
     },
     "execution_count": 13,
     "metadata": {},
     "output_type": "execute_result"
    }
   ],
   "source": [
    "fechas"
   ]
  },
  {
   "attachments": {},
   "cell_type": "markdown",
   "id": "6907128e",
   "metadata": {},
   "source": [
    "# Buble Sort algorithm\n"
   ]
  },
  {
   "cell_type": "code",
   "execution_count": 17,
   "id": "e876d55a",
   "metadata": {},
   "outputs": [],
   "source": [
    "def swap1(S: list, x: int, y: int):\n",
    "    aux = S[x]\n",
    "    S[x] = S[y]\n",
    "    S[y] = aux\n",
    "    return S"
   ]
  },
  {
   "cell_type": "code",
   "execution_count": 18,
   "id": "e1b87dee",
   "metadata": {},
   "outputs": [
    {
     "data": {
      "text/plain": [
       "[10, 5, 1]"
      ]
     },
     "execution_count": 18,
     "metadata": {},
     "output_type": "execute_result"
    }
   ],
   "source": [
    "l = [1, 5, 10]\n",
    "swap1(l, 0, 2)"
   ]
  },
  {
   "cell_type": "code",
   "execution_count": 19,
   "id": "ce7f21a1",
   "metadata": {},
   "outputs": [],
   "source": [
    "def swap2(S: list, x: int, y: int):\n",
    "    S[x], S[y] = S[y], S[x]"
   ]
  },
  {
   "cell_type": "code",
   "execution_count": 20,
   "id": "37aadd20",
   "metadata": {},
   "outputs": [
    {
     "data": {
      "text/plain": [
       "[10, 5, 1]"
      ]
     },
     "execution_count": 20,
     "metadata": {},
     "output_type": "execute_result"
    }
   ],
   "source": [
    "l = [1, 5, 10]\n",
    "swap2(l, 0, 2)\n",
    "l"
   ]
  },
  {
   "cell_type": "code",
   "execution_count": 52,
   "id": "8f1edcf1",
   "metadata": {},
   "outputs": [],
   "source": [
    "def bublesort(lista):\n",
    "    l = len(lista)\n",
    "    for i in range(l):\n",
    "        print(lista)\n",
    "        # con la 'i' optimizamos el algoritmo\n",
    "        for j in range(l-1-i):\n",
    "            print(f\"Comparamos {lista[j]} con {lista[j+1]}\")\n",
    "            if lista[j] > lista[j+1]:\n",
    "                lista[j], lista[j+1] = lista[j+1], lista[j]\n",
    "            \n",
    "    "
   ]
  },
  {
   "cell_type": "code",
   "execution_count": 53,
   "id": "271e7da5",
   "metadata": {},
   "outputs": [],
   "source": [
    "array = [50, 30, 40, 10 ,20]"
   ]
  },
  {
   "cell_type": "code",
   "execution_count": 54,
   "id": "c19a8111",
   "metadata": {},
   "outputs": [
    {
     "name": "stdout",
     "output_type": "stream",
     "text": [
      "[50, 30, 40, 10, 20]\n",
      "Comparamos 50 con 30\n",
      "Comparamos 50 con 40\n",
      "Comparamos 50 con 10\n",
      "Comparamos 50 con 20\n",
      "[30, 40, 10, 20, 50]\n",
      "Comparamos 30 con 40\n",
      "Comparamos 40 con 10\n",
      "Comparamos 40 con 20\n",
      "[30, 10, 20, 40, 50]\n",
      "Comparamos 30 con 10\n",
      "Comparamos 30 con 20\n",
      "[10, 20, 30, 40, 50]\n",
      "Comparamos 10 con 20\n",
      "[10, 20, 30, 40, 50]\n"
     ]
    }
   ],
   "source": [
    "bublesort(array)"
   ]
  },
  {
   "cell_type": "code",
   "execution_count": 39,
   "id": "bd319188",
   "metadata": {},
   "outputs": [],
   "source": [
    "a = [1,2,3]"
   ]
  },
  {
   "cell_type": "code",
   "execution_count": 48,
   "id": "e798594b",
   "metadata": {},
   "outputs": [
    {
     "name": "stdout",
     "output_type": "stream",
     "text": [
      "1\n",
      "2\n",
      "3\n"
     ]
    }
   ],
   "source": [
    "for i in a:\n",
    "    print(i)"
   ]
  },
  {
   "cell_type": "code",
   "execution_count": 22,
   "id": "1b8b0749",
   "metadata": {},
   "outputs": [
    {
     "name": "stdout",
     "output_type": "stream",
     "text": [
      "0\n",
      "1\n",
      "2\n",
      "3\n",
      "4\n"
     ]
    }
   ],
   "source": [
    "for i in range(5):\n",
    "    print(i)"
   ]
  },
  {
   "attachments": {},
   "cell_type": "markdown",
   "id": "521dc0ee",
   "metadata": {},
   "source": [
    "# Selection Sort"
   ]
  },
  {
   "cell_type": "code",
   "execution_count": 74,
   "id": "29c78438",
   "metadata": {},
   "outputs": [],
   "source": [
    "def selectionsort1(lista):\n",
    "    lista_ordenada = []\n",
    "    while len(lista) > 0:\n",
    "        print(f\"Lista ordenada = {lista_ordenada}\")\n",
    "        print(f\"Lista por ordenar = {lista}\")\n",
    "        indice_smallest = lista.index(min(lista))\n",
    "        lista_ordenada.append(lista[indice_smallest])\n",
    "        lista.pop(indice_smallest)\n",
    "      \n",
    "    print(f\"Lista ordenada = {lista_ordenada}\")\n",
    "    return lista_ordenada"
   ]
  },
  {
   "cell_type": "code",
   "execution_count": 75,
   "id": "d866da0f",
   "metadata": {},
   "outputs": [
    {
     "name": "stdout",
     "output_type": "stream",
     "text": [
      "Lista ordenada = []\n",
      "Lista por ordenar = [50, 30, 40, 10, 20]\n",
      "Lista ordenada = [10]\n",
      "Lista por ordenar = [50, 30, 40, 20]\n",
      "Lista ordenada = [10, 20]\n",
      "Lista por ordenar = [50, 30, 40]\n",
      "Lista ordenada = [10, 20, 30]\n",
      "Lista por ordenar = [50, 40]\n",
      "Lista ordenada = [10, 20, 30, 40]\n",
      "Lista por ordenar = [50]\n",
      "Lista ordenada = [10, 20, 30, 40, 50]\n",
      "[10, 20, 30, 40, 50]\n"
     ]
    }
   ],
   "source": [
    "array = [50, 30, 40, 10 ,20]\n",
    "x = selectionsort1(array)\n",
    "print(x)"
   ]
  },
  {
   "cell_type": "code",
   "execution_count": 71,
   "id": "5c3b4424",
   "metadata": {},
   "outputs": [
    {
     "data": {
      "text/plain": [
       "[10, 20, 30, 40, 50]"
      ]
     },
     "execution_count": 71,
     "metadata": {},
     "output_type": "execute_result"
    }
   ],
   "source": [
    "x"
   ]
  },
  {
   "cell_type": "code",
   "execution_count": 63,
   "id": "ceac0d16",
   "metadata": {},
   "outputs": [],
   "source": []
  },
  {
   "cell_type": "code",
   "execution_count": 59,
   "id": "c45901b8",
   "metadata": {},
   "outputs": [],
   "source": [
    "array = [50, 30, 40, 10 ,20]"
   ]
  },
  {
   "cell_type": "code",
   "execution_count": 56,
   "id": "481a6d40",
   "metadata": {},
   "outputs": [
    {
     "data": {
      "text/plain": [
       "10"
      ]
     },
     "execution_count": 56,
     "metadata": {},
     "output_type": "execute_result"
    }
   ],
   "source": [
    "min(array)"
   ]
  },
  {
   "cell_type": "code",
   "execution_count": 57,
   "id": "e969b7a0",
   "metadata": {},
   "outputs": [
    {
     "data": {
      "text/plain": [
       "3"
      ]
     },
     "execution_count": 57,
     "metadata": {},
     "output_type": "execute_result"
    }
   ],
   "source": [
    "array.index(10)"
   ]
  },
  {
   "cell_type": "code",
   "execution_count": 83,
   "id": "9bbacf1e",
   "metadata": {},
   "outputs": [],
   "source": [
    "def selectionsort2(lista):\n",
    "    n = len(lista)\n",
    "    for i in range(n-1):\n",
    "        print(lista)\n",
    "        smallest = i\n",
    "        for j in range(i+1, n):\n",
    "            if lista[j] < lista[smallest]:\n",
    "                smallest = j\n",
    "        \n",
    "        lista[i], lista[smallest] = lista[smallest], lista[i]\n",
    "        \n",
    "    print(lista)"
   ]
  },
  {
   "cell_type": "code",
   "execution_count": 84,
   "id": "53044d70",
   "metadata": {},
   "outputs": [],
   "source": [
    "array = [50, 30, 40, 10 ,20]"
   ]
  },
  {
   "cell_type": "code",
   "execution_count": 85,
   "id": "134ba56e",
   "metadata": {},
   "outputs": [
    {
     "name": "stdout",
     "output_type": "stream",
     "text": [
      "[50, 30, 40, 10, 20]\n",
      "[10, 30, 40, 50, 20]\n",
      "[10, 20, 40, 50, 30]\n",
      "[10, 20, 30, 50, 40]\n",
      "[10, 20, 30, 40, 50]\n"
     ]
    }
   ],
   "source": [
    "selectionsort2(array)"
   ]
  },
  {
   "attachments": {},
   "cell_type": "markdown",
   "id": "a73bc0bf",
   "metadata": {},
   "source": [
    "# Insertion Sort"
   ]
  },
  {
   "cell_type": "code",
   "execution_count": 95,
   "id": "039abd71",
   "metadata": {},
   "outputs": [],
   "source": [
    "def insertionsort1(lista):\n",
    "    n = len(lista)\n",
    "    lista_ordenada = []\n",
    "    while len(lista) > 0:\n",
    "        print(f\"Lista ordenada = {lista_ordenada}\")\n",
    "        print(f\"Lista por ordenar = {lista}\")\n",
    "        x = lista.pop(0)\n",
    "        j = len(lista_ordenada) - 1\n",
    "        print(f\"valor de j: {j}\")\n",
    "        print(f\"valor de x: {x}\")\n",
    "        print(f\"valor de lista_ordenada: {lista_ordenada}\")\n",
    "        while j >= 0 and lista_ordenada[j] < x:\n",
    "            j -=1\n",
    "        lista_ordenada.insert(j+1, x)\n",
    "        \n",
    "    return lista_ordenada"
   ]
  },
  {
   "cell_type": "code",
   "execution_count": 96,
   "id": "321e0376",
   "metadata": {},
   "outputs": [
    {
     "name": "stdout",
     "output_type": "stream",
     "text": [
      "Lista ordenada = []\n",
      "Lista por ordenar = [50, 30, 40, 10, 20]\n",
      "valor de j: -1\n",
      "valor de x: 50\n",
      "valor de lista_ordenada: []\n",
      "Lista ordenada = [50]\n",
      "Lista por ordenar = [30, 40, 10, 20]\n",
      "valor de j: 0\n",
      "valor de x: 30\n",
      "valor de lista_ordenada: [50]\n",
      "Lista ordenada = [50, 30]\n",
      "Lista por ordenar = [40, 10, 20]\n",
      "valor de j: 1\n",
      "valor de x: 40\n",
      "valor de lista_ordenada: [50, 30]\n",
      "Lista ordenada = [50, 40, 30]\n",
      "Lista por ordenar = [10, 20]\n",
      "valor de j: 2\n",
      "valor de x: 10\n",
      "valor de lista_ordenada: [50, 40, 30]\n",
      "Lista ordenada = [50, 40, 30, 10]\n",
      "Lista por ordenar = [20]\n",
      "valor de j: 3\n",
      "valor de x: 20\n",
      "valor de lista_ordenada: [50, 40, 30, 10]\n",
      "[50, 40, 30, 20, 10]\n"
     ]
    }
   ],
   "source": [
    "array = [50, 30, 40, 10 ,20]\n",
    "lista_ordenada = insertionsort1(array)\n",
    "print(lista_ordenada)"
   ]
  },
  {
   "cell_type": "code",
   "execution_count": 99,
   "id": "575c723d",
   "metadata": {},
   "outputs": [],
   "source": [
    "def insertionsort2(S):\n",
    "    n = len(S)\n",
    "    for i in range(1, n):\n",
    "        print(S)\n",
    "        x = S[i]\n",
    "        j = i-1\n",
    "        while j >=0 and S[j] > x:\n",
    "            S[j + 1] = S[j]\n",
    "            j -= 1\n",
    "        S[j+1] = x"
   ]
  },
  {
   "cell_type": "code",
   "execution_count": 101,
   "id": "203d68dd",
   "metadata": {},
   "outputs": [
    {
     "name": "stdout",
     "output_type": "stream",
     "text": [
      "[50, 30, 40, 10, 20]\n",
      "[30, 50, 40, 10, 20]\n",
      "[30, 40, 50, 10, 20]\n",
      "[10, 30, 40, 50, 20]\n",
      "[10, 20, 30, 40, 50]\n"
     ]
    }
   ],
   "source": [
    "array = [50, 30, 40, 10 ,20]\n",
    "insertionsort2(array)\n",
    "print(array)"
   ]
  },
  {
   "cell_type": "code",
   "execution_count": 104,
   "id": "ad2607aa",
   "metadata": {},
   "outputs": [],
   "source": [
    "def insertionsort2(S):\n",
    "    n = len(S)\n",
    "    counter = 0\n",
    "    for i in range(1, n):\n",
    "        print(S)\n",
    "        x = S[i]\n",
    "        j = i-1\n",
    "        counter +=1\n",
    "        while j >=0 and S[j] > x:\n",
    "            counter +=1\n",
    "            S[j + 1] = S[j]\n",
    "            j -= 1\n",
    "        S[j+1] = x\n",
    "    \n",
    "    print(counter)"
   ]
  },
  {
   "cell_type": "code",
   "execution_count": 105,
   "id": "e399e376",
   "metadata": {},
   "outputs": [
    {
     "name": "stdout",
     "output_type": "stream",
     "text": [
      "[50, 30, 40, 10, 20]\n",
      "[30, 50, 40, 10, 20]\n",
      "[30, 40, 50, 10, 20]\n",
      "[10, 30, 40, 50, 20]\n",
      "12\n",
      "[10, 20, 30, 40, 50]\n"
     ]
    }
   ],
   "source": [
    "array = [50, 30, 40, 10 ,20]\n",
    "insertionsort2(array)\n",
    "print(array)"
   ]
  },
  {
   "cell_type": "code",
   "execution_count": 132,
   "id": "8ff454aa",
   "metadata": {},
   "outputs": [],
   "source": [
    "def anagram(word1, word2):\n",
    "    word2 = list('silent')\n",
    "    for i in range(len(word1)):\n",
    "        print(word1[i])\n",
    "        print(i)\n",
    "        if word1[i] in word2:\n",
    "            word2.pop(word2.index(word1[i]))\n",
    "        else:\n",
    "            return 'no-anagram'\n",
    "\n",
    "    return 'anagram'\n",
    "\n"
   ]
  },
  {
   "cell_type": "code",
   "execution_count": 135,
   "id": "11d930f8",
   "metadata": {},
   "outputs": [],
   "source": [
    "a = 'kajshd'\n",
    "a = a[0:3] + a[4:]"
   ]
  },
  {
   "cell_type": "code",
   "execution_count": 136,
   "id": "90126177",
   "metadata": {},
   "outputs": [
    {
     "data": {
      "text/plain": [
       "'kajhd'"
      ]
     },
     "execution_count": 136,
     "metadata": {},
     "output_type": "execute_result"
    }
   ],
   "source": [
    "a"
   ]
  },
  {
   "cell_type": "code",
   "execution_count": 134,
   "id": "507fc752",
   "metadata": {},
   "outputs": [
    {
     "name": "stdout",
     "output_type": "stream",
     "text": [
      "l\n",
      "0\n",
      "i\n",
      "1\n",
      "s\n",
      "2\n",
      "t\n",
      "3\n",
      "e\n",
      "4\n",
      "2\n",
      "5\n"
     ]
    },
    {
     "data": {
      "text/plain": [
       "'no-anagram'"
      ]
     },
     "execution_count": 134,
     "metadata": {},
     "output_type": "execute_result"
    }
   ],
   "source": [
    "anagram('listen', 'silent')"
   ]
  },
  {
   "cell_type": "code",
   "execution_count": 129,
   "id": "3e903acb",
   "metadata": {},
   "outputs": [
    {
     "data": {
      "text/plain": [
       "'s'"
      ]
     },
     "execution_count": 129,
     "metadata": {},
     "output_type": "execute_result"
    }
   ],
   "source": [
    "a[0]"
   ]
  },
  {
   "cell_type": "code",
   "execution_count": 115,
   "id": "7ce49ab7",
   "metadata": {},
   "outputs": [],
   "source": [
    "a = list('silent')"
   ]
  },
  {
   "cell_type": "code",
   "execution_count": 1,
   "id": "4b4c3a88",
   "metadata": {},
   "outputs": [
    {
     "ename": "NameError",
     "evalue": "name 'a' is not defined",
     "output_type": "error",
     "traceback": [
      "\u001b[1;31m---------------------------------------------------------------------------\u001b[0m",
      "\u001b[1;31mNameError\u001b[0m                                 Traceback (most recent call last)",
      "Cell \u001b[1;32mIn[1], line 1\u001b[0m\n\u001b[1;32m----> 1\u001b[0m a\u001b[39m.\u001b[39mpop(\u001b[39m'\u001b[39m\u001b[39ml\u001b[39m\u001b[39m'\u001b[39m)\n",
      "\u001b[1;31mNameError\u001b[0m: name 'a' is not defined"
     ]
    }
   ],
   "source": [
    "a.pop('l')"
   ]
  },
  {
   "attachments": {},
   "cell_type": "markdown",
   "id": "7d992bb0",
   "metadata": {},
   "source": [
    "# Merge Sort"
   ]
  },
  {
   "cell_type": "code",
   "execution_count": 4,
   "id": "e787e7a6",
   "metadata": {},
   "outputs": [],
   "source": [
    "a = [1,2,3,4,5]"
   ]
  },
  {
   "cell_type": "code",
   "execution_count": 6,
   "id": "6bd8e769",
   "metadata": {},
   "outputs": [
    {
     "name": "stdout",
     "output_type": "stream",
     "text": [
      "2\n"
     ]
    }
   ],
   "source": [
    "mid = len(a) // 2\n",
    "print(mid)"
   ]
  },
  {
   "cell_type": "code",
   "execution_count": 7,
   "id": "37d61d90",
   "metadata": {},
   "outputs": [
    {
     "name": "stdout",
     "output_type": "stream",
     "text": [
      "[1, 2]\n",
      "[3, 4, 5]\n"
     ]
    }
   ],
   "source": [
    "print(a[:mid])\n",
    "print(a[mid:])\n"
   ]
  },
  {
   "cell_type": "code",
   "execution_count": 13,
   "id": "cd9a1717",
   "metadata": {},
   "outputs": [],
   "source": [
    "def merge1(S, L, R):\n",
    "    k = 0\n",
    "    while len(L) > 0 and len(R) > 0:\n",
    "        if L[0] <= R[0]:\n",
    "            S[k] = L.pop(0)\n",
    "        else:\n",
    "            S[k] = R.pop(0)\n",
    "        k += 1\n",
    "    while len(L) > 0:\n",
    "        S[k] = L.pop(0)\n",
    "        k += 1\n",
    "    while len(R) > 0:\n",
    "        S[k] = R.pop(0)\n",
    "        k += 1\n"
   ]
  },
  {
   "cell_type": "code",
   "execution_count": 20,
   "id": "c0c62fe8",
   "metadata": {},
   "outputs": [],
   "source": [
    "S = [1,3,2,4]"
   ]
  },
  {
   "cell_type": "code",
   "execution_count": 21,
   "id": "9f134dab",
   "metadata": {},
   "outputs": [
    {
     "name": "stdout",
     "output_type": "stream",
     "text": [
      "[1, 2, 3, 4]\n"
     ]
    }
   ],
   "source": [
    "merge1(S, [1, 3], [2, 4])\n",
    "print(S)"
   ]
  },
  {
   "cell_type": "code",
   "execution_count": 23,
   "id": "f09e0049",
   "metadata": {},
   "outputs": [],
   "source": [
    "def mergesort1(S):\n",
    "    n = len(S)\n",
    "    if n > 1:\n",
    "        print(S)\n",
    "        mid = n // 2\n",
    "        L, R = S[:mid], S[mid:]\n",
    "        mergesort1(L)\n",
    "        mergesort1(R)\n",
    "        merge1(S, L, R)"
   ]
  },
  {
   "cell_type": "code",
   "execution_count": 24,
   "id": "b9e0b7de",
   "metadata": {},
   "outputs": [
    {
     "name": "stdout",
     "output_type": "stream",
     "text": [
      "[10, 3, 23, 5, 16, 28, 100, 3]\n",
      "[10, 3, 23, 5]\n",
      "[10, 3]\n",
      "[23, 5]\n",
      "[16, 28, 100, 3]\n",
      "[16, 28]\n",
      "[100, 3]\n",
      "[3, 3, 5, 10, 16, 23, 28, 100]\n"
     ]
    }
   ],
   "source": [
    "S = [10,3,23,5,16,28,100,3]\n",
    "mergesort1(S)\n",
    "print(S)"
   ]
  },
  {
   "cell_type": "code",
   "execution_count": 25,
   "id": "b2662a6c",
   "metadata": {},
   "outputs": [],
   "source": [
    "b = [1]"
   ]
  },
  {
   "cell_type": "code",
   "execution_count": 26,
   "id": "67767eae",
   "metadata": {},
   "outputs": [
    {
     "data": {
      "text/plain": [
       "1"
      ]
     },
     "execution_count": 26,
     "metadata": {},
     "output_type": "execute_result"
    }
   ],
   "source": [
    "b[0]"
   ]
  },
  {
   "cell_type": "code",
   "execution_count": 38,
   "id": "262306b4",
   "metadata": {},
   "outputs": [],
   "source": [
    "# S[low:mid] y S[mid+1: high]\n",
    "def merge2(S, low, mid, high):\n",
    "    R = []\n",
    "    i, j = low, mid+1\n",
    "    while i <= mid and j <= high:\n",
    "        if S[i] < S[j]:\n",
    "            R.append(S[i])\n",
    "            i+=1\n",
    "        else:\n",
    "            R.append(S[j])\n",
    "            j+=1\n",
    "    if i > mid:\n",
    "        for k in range(j, high+1):\n",
    "            R.append(S[j])\n",
    "    else:\n",
    "        for k in range(i, mid+1):\n",
    "            R.append(S[i])\n",
    "    \n",
    "    for k in range(len(R)):\n",
    "        S[low+k] = R[k]"
   ]
  },
  {
   "cell_type": "code",
   "execution_count": 39,
   "id": "a82285bb",
   "metadata": {},
   "outputs": [],
   "source": [
    "def mergesort2(S, low, high):\n",
    "    # condicion de stop de la recursividad es len(array) > 1\n",
    "    if low < high:\n",
    "        print(S)\n",
    "        mid = (low + high) // 2\n",
    "        mergesort2(S, low, mid)\n",
    "        mergesort2(S, mid+1, high)\n",
    "        merge2(S, low, mid, high)"
   ]
  },
  {
   "cell_type": "code",
   "execution_count": 40,
   "id": "bbc1c2d1",
   "metadata": {},
   "outputs": [
    {
     "name": "stdout",
     "output_type": "stream",
     "text": [
      "[10, 3, 23, 5, 16, 28, 1006]\n",
      "[10, 3, 23, 5, 16, 28, 1006]\n",
      "[10, 3, 23, 5, 16, 28, 1006]\n",
      "[3, 10, 23, 5, 16, 28, 1006]\n",
      "[3, 5, 10, 23, 16, 28, 1006]\n",
      "[3, 5, 10, 23, 16, 28, 1006]\n",
      "[3, 5, 10, 16, 23, 28, 28]\n"
     ]
    }
   ],
   "source": [
    "S = [10,3,23,5,16,28,1006]\n",
    "mergesort2(S, 0 , len(S)-1)\n",
    "print(S)"
   ]
  },
  {
   "cell_type": "code",
   "execution_count": null,
   "id": "649d13a1",
   "metadata": {},
   "outputs": [],
   "source": [
    "def merge1(S, L, R):\n",
    "    k = 0\n",
    "    while len(L) > 0 and len(R) > 0:\n",
    "        if L[0] <= R[0]:\n",
    "            S[k] = L.pop(0)\n",
    "        else:\n",
    "            S[k] = R.pop(0)\n",
    "        k += 1\n",
    "    while len(L) > 0:\n",
    "        S[k] = L.pop(0)\n",
    "        k += 1\n",
    "    while len(R) > 0:\n",
    "        S[k] = R.pop(0)\n",
    "        k += 1\n"
   ]
  },
  {
   "cell_type": "code",
   "execution_count": 41,
   "id": "f23c9772",
   "metadata": {},
   "outputs": [],
   "source": [
    "listas = [[1,2,3], [4,5,6], [7,8,9]]"
   ]
  },
  {
   "cell_type": "code",
   "execution_count": 42,
   "id": "2ce1de45",
   "metadata": {},
   "outputs": [],
   "source": [
    "def unir_dos_listas(x,y):\n",
    "    lista_unida = []\n",
    "    while len(x) > 0 and len(y) > 0:\n",
    "        if x[0] < y[0]:\n",
    "            lista_unida.append(x.pop(0))\n",
    "        else:\n",
    "            lista_unida.append(y.pop(0))\n",
    "    \n",
    "    while len(x) > 0:\n",
    "        lista_unida.append(x.pop(0))\n",
    "        \n",
    "    while len(y) > 0:\n",
    "        lista_unida.append(y.pop(0))\n",
    "        \n",
    "    return lista_unida\n",
    "        "
   ]
  },
  {
   "cell_type": "code",
   "execution_count": 45,
   "id": "fa60e58b",
   "metadata": {},
   "outputs": [],
   "source": [
    "def multiway_merge(listas):\n",
    "    lista_final = []\n",
    "    for lista in listas:\n",
    "        lista_final = unir_dos_listas(lista_final, lista)\n",
    "    \n",
    "    return lista_final"
   ]
  },
  {
   "cell_type": "code",
   "execution_count": 44,
   "id": "1acae03f",
   "metadata": {},
   "outputs": [
    {
     "data": {
      "text/plain": [
       "[2, 4, 6]"
      ]
     },
     "execution_count": 44,
     "metadata": {},
     "output_type": "execute_result"
    }
   ],
   "source": [
    "unir_dos_listas([],[2,4,6])"
   ]
  },
  {
   "cell_type": "code",
   "execution_count": 46,
   "id": "3f793c63",
   "metadata": {},
   "outputs": [
    {
     "data": {
      "text/plain": [
       "[1, 1, 2, 3, 4, 5, 6, 7, 9, 9, 10, 15, 20, 21, 100]"
      ]
     },
     "execution_count": 46,
     "metadata": {},
     "output_type": "execute_result"
    }
   ],
   "source": [
    "multiway_merge([[1,2,3], [4,5,6], [9,10,15], [20,21,100], [1,7,9]])"
   ]
  },
  {
   "attachments": {},
   "cell_type": "markdown",
   "id": "492ff7dc",
   "metadata": {},
   "source": [
    "# Quicksort"
   ]
  },
  {
   "cell_type": "code",
   "execution_count": 49,
   "id": "b2c4576b",
   "metadata": {},
   "outputs": [],
   "source": [
    "def partition1(S, low, high):\n",
    "    pivot = S[low]\n",
    "    left, right = low+1, high\n",
    "    while left < right:\n",
    "        print(S)\n",
    "        while left <= right and S[left] <= pivot:\n",
    "            left += +1\n",
    "        while left <= right and S[right] >= pivot:\n",
    "            right -= 1\n",
    "        if left < right:\n",
    "            S[left], S[right] = S[right], S[left]\n",
    "    pivotpoint = right\n",
    "    S[low], S[pivotpoint] = S[pivotpoint], S[low]\n",
    "    return pivotpoint"
   ]
  },
  {
   "cell_type": "code",
   "execution_count": 50,
   "id": "0722d1bc",
   "metadata": {},
   "outputs": [],
   "source": [
    "def quicksort1(S, low, high):\n",
    "    if low < high:\n",
    "        print(S)\n",
    "        pivotpoint = partition1(S, low, high)\n",
    "        quicksort1(S, low, pivotpoint-1)\n",
    "        quicksort1(S, pivotpoint+1, high)"
   ]
  },
  {
   "cell_type": "code",
   "execution_count": 51,
   "id": "5e157654",
   "metadata": {},
   "outputs": [
    {
     "name": "stdout",
     "output_type": "stream",
     "text": [
      "[15, 10, 12, 20, 25, 13, 22]\n",
      "[15, 10, 12, 20, 25, 13, 22]\n",
      "[15, 10, 12, 13, 25, 20, 22]\n",
      "[13, 10, 12, 15, 25, 20, 22]\n",
      "[13, 10, 12, 15, 25, 20, 22]\n",
      "[12, 10, 13, 15, 25, 20, 22]\n",
      "[10, 12, 13, 15, 25, 20, 22]\n",
      "[10, 12, 13, 15, 25, 20, 22]\n",
      "[10, 12, 13, 15, 22, 20, 25]\n",
      "[10, 12, 13, 15, 20, 22, 25]\n"
     ]
    }
   ],
   "source": [
    "S = [15, 10, 12, 20, 25, 13, 22]\n",
    "quicksort1(S, 0, len(S)-1)\n",
    "print(S)"
   ]
  },
  {
   "cell_type": "code",
   "execution_count": 92,
   "id": "8cb1fa80",
   "metadata": {},
   "outputs": [
    {
     "data": {
      "text/plain": [
       "7"
      ]
     },
     "execution_count": 92,
     "metadata": {},
     "output_type": "execute_result"
    }
   ],
   "source": [
    "from random import randint\n",
    "\n",
    "randint(1,10)"
   ]
  },
  {
   "cell_type": "code",
   "execution_count": 95,
   "id": "7ef8bc6a",
   "metadata": {},
   "outputs": [],
   "source": [
    "from random import randint\n",
    "\n",
    "def partition2(S, low, high):\n",
    "    rand = randint(low, high)\n",
    "    S[low], S[rand] = S[rand], S[low]\n",
    "    pivot, left, right = S[low], low, high\n",
    "    print(S, left, right, \"pivot = \", pivot)\n",
    "    while left < right:\n",
    "        while left < right and S[left] <= pivot:\n",
    "            left += +1\n",
    "        while right > low and S[right] >= pivot:\n",
    "            right -= 1\n",
    "        if left < right:\n",
    "            S[left], S[right] = S[right], S[left]\n",
    "    pivotpoint = right\n",
    "    S[low], S[pivotpoint] = S[pivotpoint], S[low]\n",
    "    return pivotpoint"
   ]
  },
  {
   "cell_type": "code",
   "execution_count": 96,
   "id": "b7601fa9",
   "metadata": {},
   "outputs": [],
   "source": [
    "def quicksort2(S, low, high):\n",
    "    if low < high:\n",
    "        print(S)\n",
    "        pivotpoint = partition2(S, low, high)\n",
    "        quicksort2(S, low, pivotpoint-1)\n",
    "        quicksort2(S, pivotpoint+1, high)"
   ]
  },
  {
   "cell_type": "code",
   "execution_count": 97,
   "id": "d41d41e6",
   "metadata": {},
   "outputs": [
    {
     "name": "stdout",
     "output_type": "stream",
     "text": [
      "[15, 10, 12, 20, 25, 13, 22]\n",
      "[25, 10, 12, 20, 15, 13, 22] 0 6 pivot =  25\n",
      "[22, 10, 12, 20, 15, 13, 25]\n",
      "[13, 10, 12, 20, 15, 22, 25] 0 5 pivot =  13\n",
      "[12, 10, 13, 20, 15, 22, 25]\n",
      "[12, 10, 13, 20, 15, 22, 25] 0 1 pivot =  12\n",
      "[10, 12, 13, 20, 15, 22, 25]\n",
      "[10, 12, 13, 20, 15, 22, 25] 3 5 pivot =  20\n",
      "[10, 12, 13, 15, 20, 22, 25]\n"
     ]
    }
   ],
   "source": [
    "S = [15, 10, 12, 20, 25, 13, 22]\n",
    "quicksort2(S, 0, len(S)-1)\n",
    "print(S)"
   ]
  },
  {
   "cell_type": "code",
   "execution_count": 101,
   "id": "5522eb64",
   "metadata": {},
   "outputs": [],
   "source": [
    "def find_k_largest_element1(S, k):\n",
    "    if k > len(S):\n",
    "        return None\n",
    "    \n",
    "    largest_found = 0\n",
    "    for i in range(k):\n",
    "        largest_found = 0\n",
    "        for elemento in S:\n",
    "            if elemento > largest_found:\n",
    "                largest_found = elemento\n",
    "        \n",
    "        if i < k-1:\n",
    "            S.pop(S.index(largest_found))\n",
    "    \n",
    "    return largest_found\n",
    "    "
   ]
  },
  {
   "cell_type": "code",
   "execution_count": 103,
   "id": "7140d530",
   "metadata": {},
   "outputs": [
    {
     "data": {
      "text/plain": [
       "4"
      ]
     },
     "execution_count": 103,
     "metadata": {},
     "output_type": "execute_result"
    }
   ],
   "source": [
    "S = [1,2,3,4,5,6,7,8]\n",
    "k = 5\n",
    "find_k_largest_element1(S, k)"
   ]
  },
  {
   "cell_type": "code",
   "execution_count": 104,
   "id": "f0aa163d",
   "metadata": {},
   "outputs": [],
   "source": [
    "def find_k_largest_element2(S, k):\n",
    "    quicksort2(S, 0, len(S)-1)\n",
    "    return S[-k]"
   ]
  },
  {
   "cell_type": "code",
   "execution_count": 107,
   "id": "d9158ced",
   "metadata": {},
   "outputs": [
    {
     "name": "stdout",
     "output_type": "stream",
     "text": [
      "[1, 2, 3, 4, 5, 6, 7, 8]\n",
      "[7, 2, 3, 4, 5, 6, 1, 8] 0 7 pivot =  7\n",
      "[1, 2, 3, 4, 5, 6, 7, 8]\n",
      "[4, 2, 3, 1, 5, 6, 7, 8] 0 5 pivot =  4\n",
      "[1, 2, 3, 4, 5, 6, 7, 8]\n",
      "[2, 1, 3, 4, 5, 6, 7, 8] 0 2 pivot =  2\n",
      "[1, 2, 3, 4, 5, 6, 7, 8]\n",
      "[1, 2, 3, 4, 6, 5, 7, 8] 4 5 pivot =  6\n"
     ]
    },
    {
     "data": {
      "text/plain": [
       "4"
      ]
     },
     "execution_count": 107,
     "metadata": {},
     "output_type": "execute_result"
    }
   ],
   "source": [
    "S = [1,2,3,4,5,6,7,8]\n",
    "k = 5\n",
    "find_k_largest_element2(S, k)"
   ]
  },
  {
   "cell_type": "code",
   "execution_count": null,
   "id": "c542e07e",
   "metadata": {},
   "outputs": [],
   "source": []
  }
 ],
 "metadata": {
  "kernelspec": {
   "display_name": "Python 3",
   "language": "python",
   "name": "python3"
  },
  "language_info": {
   "codemirror_mode": {
    "name": "ipython",
    "version": 3
   },
   "file_extension": ".py",
   "mimetype": "text/x-python",
   "name": "python",
   "nbconvert_exporter": "python",
   "pygments_lexer": "ipython3",
   "version": "3.10.11"
  },
  "latex_envs": {
   "LaTeX_envs_menu_present": true,
   "autoclose": false,
   "autocomplete": true,
   "bibliofile": "biblio.bib",
   "cite_by": "apalike",
   "current_citInitial": 1,
   "eqLabelWithNumbers": true,
   "eqNumInitial": 1,
   "hotkeys": {
    "equation": "Ctrl-E",
    "itemize": "Ctrl-I"
   },
   "labels_anchors": false,
   "latex_user_defs": false,
   "report_style_numbering": false,
   "user_envs_cfg": false
  },
  "nbTranslate": {
   "displayLangs": [
    "*"
   ],
   "hotkey": "alt-t",
   "langInMainMenu": true,
   "sourceLang": "en",
   "targetLang": "fr",
   "useGoogleTranslate": true
  }
 },
 "nbformat": 4,
 "nbformat_minor": 5
}
