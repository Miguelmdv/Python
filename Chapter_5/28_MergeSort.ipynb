{
 "cells": [
  {
   "attachments": {},
   "cell_type": "markdown",
   "metadata": {},
   "source": [
    "## Merge Sort"
   ]
  },
  {
   "attachments": {},
   "cell_type": "markdown",
   "metadata": {},
   "source": [
    "### Merge1"
   ]
  },
  {
   "cell_type": "code",
   "execution_count": 4,
   "metadata": {},
   "outputs": [],
   "source": [
    "def merge1(S, L, R):\n",
    "    k = 0\n",
    "    while len(L) > 0 and len(R) > 0:\n",
    "        if len(L) <= R[0]:\n",
    "            S[k] = L.pop(0)\n",
    "        else:\n",
    "            S[k] = R.pop(0)\n",
    "        k += 1\n",
    "    while len(L) != 0:\n",
    "        S[k] = L.pop(0)\n",
    "        k+=1\n",
    "    while len(R) != 0:\n",
    "        S[k] = R.pop(0)\n",
    "        k += 1"
   ]
  },
  {
   "attachments": {},
   "cell_type": "markdown",
   "metadata": {},
   "source": [
    "### Merge Sort With Additional memory"
   ]
  },
  {
   "cell_type": "code",
   "execution_count": 5,
   "metadata": {},
   "outputs": [],
   "source": [
    "def mergesort1(S):\n",
    "    n = len(S)\n",
    "    if n> 1:\n",
    "        print(S)\n",
    "        mid = n // 2\n",
    "        L, R = S[:mid], S[mid:]\n",
    "        mergesort1(L)\n",
    "        mergesort1(R)\n",
    "        merge1(S,L,R)"
   ]
  },
  {
   "attachments": {},
   "cell_type": "markdown",
   "metadata": {},
   "source": [
    "### Merge2"
   ]
  },
  {
   "cell_type": "code",
   "execution_count": 6,
   "metadata": {},
   "outputs": [],
   "source": [
    "# S[low:mid] y S[mid+1: high]\n",
    "\n",
    "def merge2(S, low, mid, high):\n",
    "    R = []\n",
    "    i, j = low, mid+1\n",
    "    while i <= mid and j <= high:\n",
    "        if S[i] < S[j]:\n",
    "            R.append(S[i])\n",
    "            i += 1\n",
    "        else:\n",
    "            R.append(S[j])\n",
    "            j += 1\n",
    "    if i > mid:\n",
    "        for k in range(j, high+1):\n",
    "            R.append(S[j])\n",
    "    else:\n",
    "        for k in range(i, mid+1):\n",
    "            R.append(S[i])\n",
    "    for k in range(len(R)):\n",
    "        S[low+k] = R[k]\n"
   ]
  },
  {
   "attachments": {},
   "cell_type": "markdown",
   "metadata": {},
   "source": [
    "### Enhanced merge sort"
   ]
  },
  {
   "cell_type": "code",
   "execution_count": 7,
   "metadata": {},
   "outputs": [],
   "source": [
    "def mergesort2(S, low, high):\n",
    "  # condicion de stop de la recursividad es len(array) > 1\n",
    "  if low < high:\n",
    "    print(S)\n",
    "    mid = (low + high) // 2\n",
    "    mergesort2(S, low, mid)\n",
    "    mergesort2(S, mid+1, high)\n",
    "    merge2(S, low, mid, high)"
   ]
  },
  {
   "attachments": {},
   "cell_type": "markdown",
   "metadata": {},
   "source": [
    "## Ejercicios"
   ]
  },
  {
   "attachments": {},
   "cell_type": "markdown",
   "metadata": {},
   "source": [
    "### E1"
   ]
  },
  {
   "cell_type": "code",
   "execution_count": 8,
   "metadata": {},
   "outputs": [
    {
     "name": "stdout",
     "output_type": "stream",
     "text": [
      "[6, 2, 11, 7, 5, 4, 8, 16, 10, 3]\n",
      "[6, 2, 11, 7, 5, 4, 8, 16, 10, 3]\n",
      "[6, 2, 11, 7, 5, 4, 8, 16, 10, 3]\n",
      "[6, 2, 11, 7, 5, 4, 8, 16, 10, 3]\n",
      "[2, 6, 11, 7, 5, 4, 8, 16, 10, 3]\n",
      "[2, 5, 6, 7, 11, 4, 8, 16, 10, 3]\n",
      "[2, 5, 6, 7, 11, 4, 8, 16, 10, 3]\n",
      "[2, 5, 6, 7, 11, 4, 8, 16, 10, 3]\n",
      "[2, 5, 6, 7, 11, 4, 8, 16, 10, 3]\n",
      "[2, 3, 4, 5, 6, 7, 8, 10, 11, 16]\n"
     ]
    }
   ],
   "source": [
    "S = [6, 2, 11, 7, 5, 4, 8, 16, 10, 3]\n",
    "mergesort2(S, 0, len(S)-1)\n",
    "print(S)"
   ]
  },
  {
   "cell_type": "code",
   "execution_count": 9,
   "metadata": {},
   "outputs": [
    {
     "name": "stdout",
     "output_type": "stream",
     "text": [
      "[6, 2, 11, 7, 5, 4, 8, 16, 10, 3, 1, 12, 9]\n",
      "[6, 2, 11, 7, 5, 4, 8, 16, 10, 3, 1, 12, 9]\n",
      "[6, 2, 11, 7, 5, 4, 8, 16, 10, 3, 1, 12, 9]\n",
      "[6, 2, 11, 7, 5, 4, 8, 16, 10, 3, 1, 12, 9]\n",
      "[2, 6, 11, 7, 5, 4, 8, 16, 10, 3, 1, 12, 9]\n",
      "[2, 6, 7, 7, 5, 4, 8, 16, 10, 3, 1, 12, 9]\n",
      "[2, 6, 7, 7, 5, 4, 8, 16, 10, 3, 1, 12, 9]\n",
      "[2, 4, 5, 6, 7, 7, 8, 16, 10, 3, 1, 12, 9]\n",
      "[2, 4, 5, 6, 7, 7, 8, 16, 10, 3, 1, 12, 9]\n",
      "[2, 4, 5, 6, 7, 7, 8, 16, 10, 3, 1, 12, 9]\n",
      "[2, 4, 5, 6, 7, 7, 8, 3, 10, 10, 1, 12, 9]\n",
      "[2, 4, 5, 6, 7, 7, 8, 3, 10, 10, 1, 12, 9]\n",
      "[1, 2, 3, 4, 5, 6, 7, 7, 8, 9, 9, 9, 9]\n"
     ]
    }
   ],
   "source": [
    "S = [6, 2, 11, 7, 5, 4, 8, 16, 10, 3, 1, 12, 9]\n",
    "mergesort2(S, 0, len(S) - 1)\n",
    "print(S)"
   ]
  },
  {
   "attachments": {},
   "cell_type": "markdown",
   "metadata": {},
   "source": [
    "### Ejercicio parejas \n"
   ]
  },
  {
   "cell_type": "code",
   "execution_count": 10,
   "metadata": {},
   "outputs": [],
   "source": [
    "def unir_dos_listas(x,y):\n",
    "    lista_unida = []\n",
    "    while len(x) > 0 and len(y) > 0:\n",
    "        if x[0]<y[0]:\n",
    "            lista_unida.append(x.pop(0))\n",
    "        else:\n",
    "            lista_unida.append(y.pop(0))\n",
    "    while len(x) > 0:\n",
    "        lista_unida.append(x.pop(0))\n",
    "    while len(y) > 0:\n",
    "        lista_unida.append(y.pop(0))\n",
    "        x.\n",
    "    return lista_unida"
   ]
  },
  {
   "cell_type": "code",
   "execution_count": 11,
   "metadata": {},
   "outputs": [],
   "source": [
    "def multiway_merge(listas):\n",
    "  lista_final = []\n",
    "  for lista in listas:\n",
    "    lista_final = unir_dos_listas(lista_final, lista)\n",
    "    \n",
    "  return lista_final"
   ]
  },
  {
   "cell_type": "code",
   "execution_count": 13,
   "metadata": {},
   "outputs": [
    {
     "name": "stdout",
     "output_type": "stream",
     "text": [
      "[45651, 6548]\n",
      "[321654, 321854]\n",
      "Merged into:  [45651, 6548, 321654, 321854]\n"
     ]
    }
   ],
   "source": [
    "N = int(input(\"lnput the number of list:\"))\n",
    "list_of_nums = []\n",
    "for i in range(N):\n",
    "    nums = list(map(int, input(\"Input a list of numbers:\").split()))\n",
    "    print(nums)\n",
    "    list_of_nums.append(nums)\n",
    "sorted = multiway_merge(list_of_nums)\n",
    "print(\"Merged into: \", sorted)"
   ]
  }
 ],
 "metadata": {
  "kernelspec": {
   "display_name": "Python 3",
   "language": "python",
   "name": "python3"
  },
  "language_info": {
   "codemirror_mode": {
    "name": "ipython",
    "version": 3
   },
   "file_extension": ".py",
   "mimetype": "text/x-python",
   "name": "python",
   "nbconvert_exporter": "python",
   "pygments_lexer": "ipython3",
   "version": "3.10.11"
  },
  "orig_nbformat": 4
 },
 "nbformat": 4,
 "nbformat_minor": 2
}
