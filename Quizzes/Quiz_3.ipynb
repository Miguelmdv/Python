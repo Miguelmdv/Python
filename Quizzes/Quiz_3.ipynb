{
 "cells": [
  {
   "attachments": {},
   "cell_type": "markdown",
   "metadata": {},
   "source": [
    "Ejercicio 17"
   ]
  },
  {
   "cell_type": "code",
   "execution_count": null,
   "metadata": {},
   "outputs": [
    {
     "name": "stdout",
     "output_type": "stream",
     "text": [
      "5.0\n"
     ]
    }
   ],
   "source": [
    "import math\n",
    "x1 = int(input(\"Enter x1\"))\n",
    "y1 = int(input(\"Enter y1\"))\n",
    "x2 = int(input(\"Enter x2\"))\n",
    "y2 = int(input(\"Enter y2\"))\n",
    "\n",
    "distance = math.sqrt((y2-y1)**2+(x2-x1)**2)\n",
    "print(distance)"
   ]
  },
  {
   "attachments": {},
   "cell_type": "markdown",
   "metadata": {},
   "source": [
    "Ejercicio 18"
   ]
  },
  {
   "cell_type": "code",
   "execution_count": null,
   "metadata": {},
   "outputs": [
    {
     "name": "stdout",
     "output_type": "stream",
     "text": [
      "Is 558 a palindrome? False\n"
     ]
    }
   ],
   "source": [
    "def is_palindrome(s):\n",
    "    if len(s) < 2:\n",
    "        return True\n",
    "    if s[0] != s[-1]:\n",
    "        return False\n",
    "    return is_palindrome(s[1:-1])\n",
    "\n",
    "num = input(\"Num palindromo o no\")\n",
    "print(f\"Is {num} a palindrome? {is_palindrome(num)}\")\n"
   ]
  },
  {
   "attachments": {},
   "cell_type": "markdown",
   "metadata": {},
   "source": [
    "Ejercicio 19"
   ]
  },
  {
   "cell_type": "code",
   "execution_count": null,
   "metadata": {},
   "outputs": [
    {
     "name": "stdout",
     "output_type": "stream",
     "text": [
      "Double [20, 40, 60]\n",
      "Triple [30, 60, 90]\n"
     ]
    }
   ],
   "source": [
    "n_list = [10, 20, 30]\n",
    "\n",
    "double_l = list(map(lambda x: x*2, n_list))\n",
    "triple_l = list(map(lambda x: x*3, n_list))\n",
    "\n",
    "print(\"Double\",double_l)\n",
    "print(\"Triple\",triple_l)"
   ]
  },
  {
   "attachments": {},
   "cell_type": "markdown",
   "metadata": {},
   "source": [
    "Ejercicio 20"
   ]
  },
  {
   "cell_type": "code",
   "execution_count": 37,
   "metadata": {},
   "outputs": [
    {
     "name": "stdout",
     "output_type": "stream",
     "text": [
      "1\n",
      "4\n",
      "27\n",
      "256\n"
     ]
    }
   ],
   "source": [
    "def calc_digit(n):\n",
    "    def final(digit):\n",
    "        return digit**n\n",
    "    return final\n",
    "\n",
    "num_list=[]\n",
    "for num in range(1,5):\n",
    "    num_list.append(calc_digit(num))\n",
    "    print(num_list[num-1](num))\n",
    "\n",
    "#1**1 = 1\n",
    "#2**2 = 4\n",
    "#3**3 = 27\n",
    "#4**4 = 256"
   ]
  },
  {
   "attachments": {},
   "cell_type": "markdown",
   "metadata": {},
   "source": [
    "Ejercicio 21"
   ]
  },
  {
   "cell_type": "code",
   "execution_count": 18,
   "metadata": {},
   "outputs": [
    {
     "name": "stdout",
     "output_type": "stream",
     "text": [
      "v1 * v2 = (300, 800)\n",
      "v1 / v2 = (3.0, 2.0)\n"
     ]
    }
   ],
   "source": [
    "class vector2D:\n",
    "    def __init__(self, x, y):\n",
    "        self.x = x\n",
    "        self.y = y\n",
    "    \n",
    "    def __str__(self):\n",
    "        return f\"({self.x}, {self.y})\"\n",
    "    def multi(self, other):\n",
    "        return vector2D(self.x * other.x, self.y* other.y)\n",
    "    \n",
    "    def divi(self, other):\n",
    "        return vector2D(self.x / other.x, self.y/ other.y)\n",
    "\n",
    "v1 = vector2D(30,40)\n",
    "v2 = vector2D(10,20)\n",
    "\n",
    "print(f\"v1 * v2 = {v1.multi(v2)}\")\n",
    "print(f\"v1 / v2 = {v1.divi(v2)}\")"
   ]
  }
 ],
 "metadata": {
  "kernelspec": {
   "display_name": "base",
   "language": "python",
   "name": "python3"
  },
  "language_info": {
   "codemirror_mode": {
    "name": "ipython",
    "version": 3
   },
   "file_extension": ".py",
   "mimetype": "text/x-python",
   "name": "python",
   "nbconvert_exporter": "python",
   "pygments_lexer": "ipython3",
   "version": "3.10.9"
  },
  "orig_nbformat": 4
 },
 "nbformat": 4,
 "nbformat_minor": 2
}
