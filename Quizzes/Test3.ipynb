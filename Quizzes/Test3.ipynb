{
 "cells": [
  {
   "attachments": {},
   "cell_type": "markdown",
   "metadata": {},
   "source": [
    "## Pruebas"
   ]
  },
  {
   "cell_type": "code",
   "execution_count": 23,
   "metadata": {},
   "outputs": [
    {
     "name": "stdout",
     "output_type": "stream",
     "text": [
      "sex\n",
      "Female    39.66\n",
      "Male      55.94\n",
      "Name: total_bill, dtype: float64\n",
      "\n",
      "\n",
      "sex\n",
      "Female    39.66\n",
      "Male      55.94\n",
      "Name: total_bill, dtype: float64\n"
     ]
    }
   ],
   "source": [
    "import pandas as pd\n",
    "\n",
    "# Assuming you have a DataFrame named df_tips with columns 'total_bill' and 'sex'\n",
    "df_tips = pd.DataFrame({'total_bill': [15.98, 10.34, 21.01, 23.68, 24.59],\n",
    "                        'sex': ['Female', 'Male', 'Male', 'Female', 'Male']})\n",
    "\n",
    "# Group the DataFrame by 'sex' and calculate the sum of 'total_bill' for each group\n",
    "grouped = df_tips.groupby('sex')['total_bill'].sum()\n",
    "grouped2 = df_tips.groupby(\"sex\").total_bill.sum()\n",
    "\n",
    "print(grouped)\n",
    "print(\"\\n\")\n",
    "print(grouped2)"
   ]
  },
  {
   "cell_type": "code",
   "execution_count": 35,
   "metadata": {},
   "outputs": [
    {
     "name": "stdout",
     "output_type": "stream",
     "text": [
      "         date\n",
      "0  2023-01-05\n",
      "1  2023-02-10\n",
      "2  2023-03-15\n",
      "3  2023-04-20\n",
      "0    1\n",
      "1    2\n",
      "2    3\n",
      "3    4\n",
      "Name: date, dtype: int64\n"
     ]
    }
   ],
   "source": [
    "import pandas as pd\n",
    "\n",
    "# Assuming you have a DataFrame named df_tesla with a DateTime column named 'date'\n",
    "df_tesla = pd.DataFrame({'date': ['2023-01-05', '2023-02-10', '2023-03-15', '2023-04-20']})\n",
    "\n",
    "print(df_tesla)\n",
    "\n",
    "# Convert 'date' column to DateTime type\n",
    "df_tesla['date'] = pd.to_datetime(df_tesla['date'])\n",
    "\n",
    "print(df_tesla[\"date\"].dt.month)\n",
    "\n"
   ]
  },
  {
   "cell_type": "code",
   "execution_count": 51,
   "metadata": {},
   "outputs": [
    {
     "data": {
      "text/plain": [
       "{0: [], 1: [], 2: [], 3: [], 4: [], 5: [], 6: ['Apple']}"
      ]
     },
     "execution_count": 51,
     "metadata": {},
     "output_type": "execute_result"
    }
   ],
   "source": [
    "size = 7\n",
    "table = {}\n",
    "\n",
    "for i in range(size):\n",
    "    table[i] = []\n",
    "\n",
    "value = \"Apple\"\n",
    "bucket = table[6]\n",
    "if value not in bucket:\n",
    "    bucket.append(value)\n",
    "    \n",
    "table"
   ]
  },
  {
   "cell_type": "code",
   "execution_count": 53,
   "metadata": {},
   "outputs": [
    {
     "name": "stdout",
     "output_type": "stream",
     "text": [
      "4\n"
     ]
    }
   ],
   "source": [
    "def bubble(S):\n",
    "    n = len(S)\n",
    "    count = 0\n",
    "    for i in range(n):\n",
    "        for j in range(n-1):\n",
    "            if S[j]> S[j+1]:\n",
    "                S[j], S[j+1] = S[j+1], S[j]\n",
    "                count +=1\n",
    "    return count\n",
    "\n",
    "S = [20, 30,40,50,10]\n",
    "count = bubble(S)\n",
    "print(count)"
   ]
  },
  {
   "cell_type": "code",
   "execution_count": 55,
   "metadata": {},
   "outputs": [
    {
     "name": "stdout",
     "output_type": "stream",
     "text": [
      "[3, 2, 4, 5, 7, 6]\n"
     ]
    }
   ],
   "source": [
    "def partition1(S, low, high):\n",
    "    pivot, left, right = S[low], low, high\n",
    "    while left < right:\n",
    "        while left < high and S[left] <= pivot:\n",
    "            left +=1\n",
    "        while right > low and pivot <= S[right]:\n",
    "            right -= 1\n",
    "        if left < right:\n",
    "            S[left], S[right] = S[right], S[left]\n",
    "    S[low], S[right] = S[right], S[low]\n",
    "    return right\n",
    "    \n",
    "S = [5,2,7,3,4,6]\n",
    "partition1(S, 0, len(S)-1)\n",
    "print(S)"
   ]
  },
  {
   "cell_type": "code",
   "execution_count": null,
   "metadata": {},
   "outputs": [],
   "source": []
  }
 ],
 "metadata": {
  "kernelspec": {
   "display_name": "base",
   "language": "python",
   "name": "python3"
  },
  "language_info": {
   "codemirror_mode": {
    "name": "ipython",
    "version": 3
   },
   "file_extension": ".py",
   "mimetype": "text/x-python",
   "name": "python",
   "nbconvert_exporter": "python",
   "pygments_lexer": "ipython3",
   "version": "3.10.11"
  },
  "orig_nbformat": 4
 },
 "nbformat": 4,
 "nbformat_minor": 2
}
