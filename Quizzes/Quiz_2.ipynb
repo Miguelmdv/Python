{
 "cells": [
  {
   "attachments": {},
   "cell_type": "markdown",
   "metadata": {},
   "source": [
    "# 10"
   ]
  },
  {
   "cell_type": "code",
   "execution_count": null,
   "metadata": {},
   "outputs": [],
   "source": [
    "l1 = [\"I like\", \"I love\"]\n",
    "l2 = [\"pancake.\", \"kiwi juice.\", \"espresso.\"]\n",
    "\n",
    "for n in l1:\n",
    "    for m in l2:\n",
    "        print(n,m)"
   ]
  },
  {
   "attachments": {},
   "cell_type": "markdown",
   "metadata": {},
   "source": [
    "# 11"
   ]
  },
  {
   "cell_type": "code",
   "execution_count": null,
   "metadata": {},
   "outputs": [],
   "source": [
    "person = {\"I like\" : \"David Doe\", \"Age\" : 26, \"Weight\" : 82, \"Job\" : \"Data Scientist\"}\n",
    "\n",
    "person[\"Father\"] = \"John Doe\"\n",
    "\n",
    "print(person)"
   ]
  },
  {
   "attachments": {},
   "cell_type": "markdown",
   "metadata": {},
   "source": [
    "# 12"
   ]
  },
  {
   "cell_type": "code",
   "execution_count": null,
   "metadata": {},
   "outputs": [],
   "source": [
    "list = [5, 6, 3, 9, 2, 12, 3, 8, 7]\n",
    "list[list.index(max(list))], list[-1] = list[-1], list[list.index(max(list))]\n",
    "list"
   ]
  },
  {
   "attachments": {},
   "cell_type": "markdown",
   "metadata": {},
   "source": [
    "# 13"
   ]
  },
  {
   "cell_type": "code",
   "execution_count": null,
   "metadata": {},
   "outputs": [],
   "source": [
    "array = [[1,2],[3,4],[5,6]]\n",
    "final_array = []\n",
    "for i in array:\n",
    "    for e in i:\n",
    "        final_array.append(e)\n",
    "final_array"
   ]
  },
  {
   "attachments": {},
   "cell_type": "markdown",
   "metadata": {},
   "source": [
    "# 14"
   ]
  },
  {
   "cell_type": "code",
   "execution_count": 2,
   "metadata": {},
   "outputs": [
    {
     "data": {
      "text/plain": [
       "89.25"
      ]
     },
     "execution_count": 2,
     "metadata": {},
     "output_type": "execute_result"
    }
   ],
   "source": [
    "maria = {\"korean\" : 94, \"english\" : 91, \"mathematics\" : 89, \"science\" : 83}\n",
    "\n",
    "media = sum(maria.values()) / len(maria)\n",
    "media"
   ]
  },
  {
   "attachments": {},
   "cell_type": "markdown",
   "metadata": {},
   "source": [
    "# 15"
   ]
  },
  {
   "cell_type": "code",
   "execution_count": null,
   "metadata": {},
   "outputs": [],
   "source": [
    "import copy\n",
    "school = {\"kim\": {\"age\": 16, \"hei\" : 170, \"grade\" : 3}, \"lee\" : {\"age\" : 15, \"hei\" : 168, \"grade\" :\n",
    "2}, \"choi\" : {\"age\" : 14, \"hei\" : 173, \"grade\" : 1}}\n",
    "\n",
    "school2 = copy.deepcopy(school)\n",
    "school is school2"
   ]
  },
  {
   "attachments": {},
   "cell_type": "markdown",
   "metadata": {},
   "source": [
    "# 16"
   ]
  },
  {
   "cell_type": "code",
   "execution_count": 11,
   "metadata": {},
   "outputs": [
    {
     "name": "stdout",
     "output_type": "stream",
     "text": [
      "91.25\n"
     ]
    }
   ],
   "source": [
    "scores = ( (\"Hyun\", 88, 95, 90), ('Kang', 85, 90, 95), (\"Park\", 70, 90, 80), (\"Hong\", 90, 90, 95))\n",
    "math = tuple(zip(*scores))[2]\n",
    "\n",
    "media = sum(math) / len(scores)\n",
    "print(media)\n",
    "\n",
    "\n"
   ]
  }
 ],
 "metadata": {
  "kernelspec": {
   "display_name": "base",
   "language": "python",
   "name": "python3"
  },
  "language_info": {
   "codemirror_mode": {
    "name": "ipython",
    "version": 3
   },
   "file_extension": ".py",
   "mimetype": "text/x-python",
   "name": "python",
   "nbconvert_exporter": "python",
   "pygments_lexer": "ipython3",
   "version": "3.10.9"
  },
  "orig_nbformat": 4
 },
 "nbformat": 4,
 "nbformat_minor": 2
}
