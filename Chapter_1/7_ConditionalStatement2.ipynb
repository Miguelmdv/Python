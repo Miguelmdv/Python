{
 "cells": [
  {
   "attachments": {},
   "cell_type": "markdown",
   "metadata": {},
   "source": [
    "## Ejercicio 1"
   ]
  },
  {
   "cell_type": "code",
   "execution_count": 2,
   "metadata": {},
   "outputs": [
    {
     "name": "stdout",
     "output_type": "stream",
     "text": [
      "F\n"
     ]
    }
   ],
   "source": [
    "puntuation = int(input(\"Your puntuation:\"))\n",
    "if 90<=puntuation:\n",
    "    print(\"A\")\n",
    "elif 80<=puntuation<90:\n",
    "    print(\"B\")\n",
    "elif 70<=puntuation<80:\n",
    "    print(\"C\")\n",
    "elif 60<=puntuation<70:\n",
    "    print(\"D\")\n",
    "else:\n",
    "    print(\"F\")"
   ]
  },
  {
   "attachments": {},
   "cell_type": "markdown",
   "metadata": {},
   "source": [
    "## Ejercicio 2\n",
    "\n",
    "Año bisiesto: Que el año sea divisible entre 4 y no entre 100 o que sea divisible entre 400"
   ]
  },
  {
   "cell_type": "code",
   "execution_count": 6,
   "metadata": {},
   "outputs": [
    {
     "name": "stdout",
     "output_type": "stream",
     "text": [
      "2012 Es un año bisiesto\n"
     ]
    }
   ],
   "source": [
    "year = int(input(\"Year:\"))\n",
    "if (year%4 == 0 and year%100 != 0) or year%400==0:\n",
    "    print(year, \"Es un año bisiesto\")\n",
    "else:\n",
    "    print(year, \"no es un año bisesto\")"
   ]
  },
  {
   "attachments": {},
   "cell_type": "markdown",
   "metadata": {},
   "source": [
    "## Ejercicio 3\n",
    "\n"
   ]
  },
  {
   "cell_type": "code",
   "execution_count": 12,
   "metadata": {},
   "outputs": [
    {
     "name": "stdout",
     "output_type": "stream",
     "text": [
      "#######################\n",
      "This is David's fruit shop.\n",
      "1: Apple( price : 5000 won)\n",
      "2: Graple( price : 6000 won)\n",
      "3: Melon( price : 8000 won)\n",
      "4: Orange( price : 2000 won)\n",
      "#######################\n",
      "Fruit selected: Orange \n",
      "Price: 2000\n",
      "Quantity: 2 \n",
      "Total price is 4000 won\n",
      "150000 won received. Your change is 146000 won\n"
     ]
    }
   ],
   "source": [
    "print(\"#######################\")\n",
    "print(\"This is David's fruit shop.\")\n",
    "print(\"1: Apple( price : 5000 won)\")\n",
    "print(\"2: Graple( price : 6000 won)\")\n",
    "print(\"3: Melon( price : 8000 won)\")\n",
    "print(\"4: Orange( price : 2000 won)\")\n",
    "print(\"#######################\")\n",
    "\n",
    "price = 0\n",
    "fruit=\"\"\n",
    "total_price = 0\n",
    "item = int(input(\"Enter item number (between 1~4):\"))\n",
    "num = int(input(\"Enter number of item(between 1~10):\"))\n",
    "if item == 1 and 1<=num<=10:\n",
    "    price = 5000\n",
    "    total_price=num*price\n",
    "    fruit = \"Apple\"\n",
    "\n",
    "elif item == 2 and 1<=num<=10:\n",
    "    price = 6000\n",
    "    total_price=num*price\n",
    "    fruit = \"Graple\"\n",
    "\n",
    "elif item == 3 and 1<=num<=10:\n",
    "    price = 8000\n",
    "    total_price=num*price\n",
    "    fruit = \"Melon\"\n",
    " \n",
    "elif item == 4 and 1<=num<=10:\n",
    "    price = 2000\n",
    "    total_price=num*price\n",
    "    fruit = \"Orange\"\n",
    "else:\n",
    "    print(\"That's not avaliable\")\n",
    "    \n",
    "print(\"Fruit selected:\", fruit, \"\\nPrice:\", price)\n",
    "print(\"Quantity:\",num, \"\\nTotal price is\", total_price, \"won\")\n",
    "money = int(input(\"Insert money please (ex 15000):\"))\n",
    "if(money >= total_price):\n",
    "    print(money, \"won received. Your change is\", money-total_price, \"won\")\n",
    "else:\n",
    "    print(\"not enough money\")\n",
    "    \n",
    "    "
   ]
  },
  {
   "attachments": {},
   "cell_type": "markdown",
   "metadata": {},
   "source": [
    "## Ejercicio 4"
   ]
  },
  {
   "cell_type": "code",
   "execution_count": 14,
   "metadata": {},
   "outputs": [
    {
     "name": "stdout",
     "output_type": "stream",
     "text": [
      "a is a vowel\n"
     ]
    }
   ],
   "source": [
    "letter = input(\"Insert a letter:\").lower()\n",
    "if letter in [\"a\",\"e\",\"i\",\"o\",\"u\"]:\n",
    "    print(letter, \"is a vowel\")\n",
    "else:\n",
    "    print(letter, \"is a consonant\")\n"
   ]
  },
  {
   "attachments": {},
   "cell_type": "markdown",
   "metadata": {},
   "source": [
    "## Ejercicio 5"
   ]
  },
  {
   "cell_type": "code",
   "execution_count": 18,
   "metadata": {},
   "outputs": [
    {
     "name": "stdout",
     "output_type": "stream",
     "text": [
      "10 es multiplo de 5\n"
     ]
    }
   ],
   "source": [
    "n, n2 = input(\"Write two integers:\").split()\n",
    "n = int(n)\n",
    "n2 = int(n2)\n",
    "if n%n2 == 0:\n",
    "    print(n,\"es multiplo de\", n2)\n",
    "else:\n",
    "    print(n, \"no es multiplo de\", n2)\n"
   ]
  },
  {
   "attachments": {},
   "cell_type": "markdown",
   "metadata": {},
   "source": [
    "## Ejercicio 6\n",
    "\n",
    "\n",
    "Num aleatorios"
   ]
  },
  {
   "cell_type": "code",
   "execution_count": 270,
   "metadata": {},
   "outputs": [
    {
     "name": "stdout",
     "output_type": "stream",
     "text": [
      "9\n",
      "Toss a coin\n",
      "Front.\n"
     ]
    }
   ],
   "source": [
    "import random as rd #para modificar el nombre con el que importas la libreria\n",
    "# from random import randint (Para traer solo una funcion)\n",
    "\n",
    "print(rd.randint(1, 10))\n",
    "print(\"Toss a coin\")\n",
    "coin = rd.randrange(2)\n",
    "if coin == 1:\n",
    "    print(\"Front.\")\n",
    "else:\n",
    "    print(\"Back.\")"
   ]
  },
  {
   "attachments": {},
   "cell_type": "markdown",
   "metadata": {},
   "source": [
    "## Ejercicio 7"
   ]
  },
  {
   "cell_type": "code",
   "execution_count": null,
   "metadata": {},
   "outputs": [],
   "source": [
    "print(\"1) Addition    2)Substraction    3)Multiplication    4)Division\")\n",
    "op = int(input(\"Enter the disired number of operation\"))\n",
    "n,n2 = input(\"Enter two numbers for operation\").split()\n",
    "n = int(n)\n",
    "n2 = int(n2)\n",
    "result = 0\n",
    "if op == 1:\n",
    "    print(n, \"+\", n2, \"=\", n+n2)\n",
    "elif op == 2:\n",
    "    print(n, \"-\", n2, \"=\", n-n2)\n",
    "elif op == 3:\n",
    "    print(n, \"*\", n2, \"=\", n*n2)\n",
    "elif op == 4:\n",
    "    print(n, \"/\", n2, \"=\", n/n2)\n",
    "else:\n",
    "    print(\"Entered an incorrect number\")"
   ]
  }
 ],
 "metadata": {
  "kernelspec": {
   "display_name": "base",
   "language": "python",
   "name": "python3"
  },
  "language_info": {
   "codemirror_mode": {
    "name": "ipython",
    "version": 3
   },
   "file_extension": ".py",
   "mimetype": "text/x-python",
   "name": "python",
   "nbconvert_exporter": "python",
   "pygments_lexer": "ipython3",
   "version": "3.10.9"
  },
  "orig_nbformat": 4
 },
 "nbformat": 4,
 "nbformat_minor": 2
}
