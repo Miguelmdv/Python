{
 "cells": [
  {
   "attachments": {},
   "cell_type": "markdown",
   "id": "0e0be733",
   "metadata": {},
   "source": []
  },
  {
   "cell_type": "code",
   "execution_count": 1,
   "id": "5d7b7f82",
   "metadata": {},
   "outputs": [
    {
     "name": "stdout",
     "output_type": "stream",
     "text": [
      "Hola mundo\n"
     ]
    }
   ],
   "source": [
    "print(\"Hola mundo\")"
   ]
  },
  {
   "cell_type": "code",
   "execution_count": 4,
   "id": "87790d66",
   "metadata": {},
   "outputs": [
    {
     "name": "stdout",
     "output_type": "stream",
     "text": [
      "Move Right\n",
      "Fill-In Square\n",
      "Move Right\n",
      "Move Down\n",
      "Fill-In Square\n",
      "Move Left\n",
      "Move Left\n",
      "Fill-In Square\n",
      "Move Down\n",
      "Move Right\n",
      "Fill-In Square\n",
      "Move Right\n"
     ]
    }
   ],
   "source": [
    "def abajo():\n",
    "    print(\"Move Down\")\n",
    "def der():\n",
    "    print(\"Move Right\")\n",
    "def iz():\n",
    "    print(\"Move Left\")\n",
    "def fill():\n",
    "    print(\"Fill-In Square\")\n",
    "\n",
    "der()\n",
    "fill()\n",
    "der()\n",
    "abajo()\n",
    "fill()\n",
    "iz()\n",
    "iz()\n",
    "fill()\n",
    "abajo()\n",
    "der()\n",
    "fill()\n",
    "der()\n"
   ]
  },
  {
   "cell_type": "code",
   "execution_count": 11,
   "id": "e3e2d2f0",
   "metadata": {},
   "outputs": [
    {
     "name": "stdout",
     "output_type": "stream",
     "text": [
      "hello 4 all\n"
     ]
    }
   ],
   "source": [
    "print(\"hello\", 4, \"all\")"
   ]
  },
  {
   "cell_type": "code",
   "execution_count": 3,
   "id": "75c33e55",
   "metadata": {},
   "outputs": [
    {
     "name": "stdout",
     "output_type": "stream",
     "text": [
      "*\n",
      "***\n",
      "*****\n",
      "*******\n",
      "*****\n",
      "***\n",
      "*\n"
     ]
    }
   ],
   "source": [
    "print(\"*\\n***\\n*****\\n*******\\n*****\\n***\\n*\")"
   ]
  },
  {
   "cell_type": "code",
   "execution_count": null,
   "id": "824800b7",
   "metadata": {},
   "outputs": [],
   "source": []
  }
 ],
 "metadata": {
  "kernelspec": {
   "display_name": "Python 3 (ipykernel)",
   "language": "python",
   "name": "python3"
  },
  "language_info": {
   "codemirror_mode": {
    "name": "ipython",
    "version": 3
   },
   "file_extension": ".py",
   "mimetype": "text/x-python",
   "name": "python",
   "nbconvert_exporter": "python",
   "pygments_lexer": "ipython3",
   "version": "3.10.9"
  }
 },
 "nbformat": 4,
 "nbformat_minor": 5
}
