{
 "cells": [
  {
   "cell_type": "code",
   "execution_count": 16,
   "metadata": {},
   "outputs": [
    {
     "name": "stdout",
     "output_type": "stream",
     "text": [
      "Tu indice de masa corporal es 29.320987654320987\n"
     ]
    }
   ],
   "source": [
    "peso = int(input(\"Cuanto pesas (kg)?\"))\n",
    "altura_cm = int(input(\"Cuanto mides (cm)?\"))\n",
    "altura_m = altura_cm / 100\n",
    "bmi = peso /altura_m ** 2\n",
    "print(\"Tu indice de masa corporal es\", bmi)\n",
    "\n"
   ]
  },
  {
   "cell_type": "code",
   "execution_count": 17,
   "metadata": {},
   "outputs": [
    {
     "data": {
      "text/plain": [
       "'David'"
      ]
     },
     "execution_count": 17,
     "metadata": {},
     "output_type": "execute_result"
    }
   ],
   "source": [
    "david = (\"David\", 1.1)\n",
    "david[0]"
   ]
  },
  {
   "attachments": {},
   "cell_type": "markdown",
   "metadata": {},
   "source": [
    "Ejercicio 1 unidad 4\n",
    "\n",
    "Calcular el area de un rectangulo"
   ]
  },
  {
   "cell_type": "code",
   "execution_count": 18,
   "metadata": {},
   "outputs": [
    {
     "name": "stdout",
     "output_type": "stream",
     "text": [
      "El area es: 30\n"
     ]
    }
   ],
   "source": [
    "base = int(input(\"Dime la longitud de la base del rectangulo\"))\n",
    "altura = int(input(\"Dime la altura:\"))\n",
    "print(\"El area es:\",base*altura)"
   ]
  },
  {
   "attachments": {},
   "cell_type": "markdown",
   "metadata": {},
   "source": [
    "Ejercicio 2 unidad 4\n",
    "\n",
    "Calcular la hipotenusa de un triangulo"
   ]
  },
  {
   "cell_type": "code",
   "execution_count": 19,
   "metadata": {},
   "outputs": [
    {
     "name": "stdout",
     "output_type": "stream",
     "text": [
      "hipotenusa al cuadrado es: 22\n",
      "Siendo la base 5 y la altura 6 \n",
      "El area del triangulo rectangulo es  15.0\n",
      "La hipotenusa es  4.69041575982343\n",
      "Entonces el tercer lado es incorrecto\n"
     ]
    }
   ],
   "source": [
    "\n",
    "import math\n",
    "base = int(input(\"Dime la longitud de la base del triangulo rectangulo\"))\n",
    "altura = int(input(\"Dime la altura:\"))\n",
    "lado_3 = int(input(\"El ultimo lado\"))\n",
    "area = base *altura / 2\n",
    "hipotenusa = base*2 + altura*2\n",
    "print(\"hipotenusa al cuadrado es:\", hipotenusa)\n",
    "\n",
    "hipotenusa = math.sqrt(hipotenusa)\n",
    "print(\"Siendo la base\", base, \"y la altura\", altura,\"\\nEl area del triangulo rectangulo es \", area)\n",
    "print(\"La hipotenusa es \", hipotenusa)\n",
    "\n",
    "if(hipotenusa == lado_3*2):\n",
    "    print(\"Entonces el tercer lado era correcto\")\n",
    "else:\n",
    "    print(\"Entonces el tercer lado es incorrecto\")\n"
   ]
  }
 ],
 "metadata": {
  "kernelspec": {
   "display_name": "base",
   "language": "python",
   "name": "python3"
  },
  "language_info": {
   "codemirror_mode": {
    "name": "ipython",
    "version": 3
   },
   "file_extension": ".py",
   "mimetype": "text/x-python",
   "name": "python",
   "nbconvert_exporter": "python",
   "pygments_lexer": "ipython3",
   "version": "3.10.9"
  },
  "orig_nbformat": 4
 },
 "nbformat": 4,
 "nbformat_minor": 2
}
