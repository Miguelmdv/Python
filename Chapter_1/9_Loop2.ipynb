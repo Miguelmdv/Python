{
 "cells": [
  {
   "attachments": {},
   "cell_type": "markdown",
   "metadata": {},
   "source": [
    "## Ejemplos"
   ]
  },
  {
   "cell_type": "code",
   "execution_count": null,
   "metadata": {},
   "outputs": [],
   "source": [
    "i = 0\n",
    "while i <= 5:\n",
    "    print(i)\n",
    "    i+=1"
   ]
  },
  {
   "cell_type": "code",
   "execution_count": null,
   "metadata": {},
   "outputs": [],
   "source": [
    "name = \"Miguel\"\n",
    "age = 26\n",
    "print(\"Hola {}, tienes {} años.\".format(name,age))"
   ]
  },
  {
   "cell_type": "code",
   "execution_count": null,
   "metadata": {},
   "outputs": [],
   "source": [
    "selected = None\n",
    "while selected not in [\"paper\", \"rock\", \"scissors\"]:\n",
    "    selected = input(\"Choose among scissors, rock or paper: \")\n",
    "print(\"Chosen value:\", selected)"
   ]
  },
  {
   "cell_type": "code",
   "execution_count": null,
   "metadata": {},
   "outputs": [],
   "source": [
    "import random as rd"
   ]
  },
  {
   "attachments": {},
   "cell_type": "markdown",
   "metadata": {},
   "source": [
    "Metodos de Random:\n",
    "\n",
    "‣ shuffle() : Randomly mixes elements of the sequence and returns them.\n",
    "\n",
    "‣ choice(): Extract any element from the sequence that enters the factor.\n",
    "\n",
    "‣ sample() : Randomly returns the element. At this time, the number of elements to be returned can be added as a \n",
    "factor"
   ]
  },
  {
   "attachments": {},
   "cell_type": "markdown",
   "metadata": {},
   "source": [
    "## Ejercicio 1"
   ]
  },
  {
   "cell_type": "code",
   "execution_count": null,
   "metadata": {},
   "outputs": [],
   "source": [
    "i = 1\n",
    "while i <= 9:\n",
    "    mul = 2*i\n",
    "    print(\"2 * {} = {}\".format(i, mul))\n",
    "    i += 1"
   ]
  },
  {
   "cell_type": "code",
   "execution_count": null,
   "metadata": {},
   "outputs": [],
   "source": [
    "num = int(input(\"Que tababla de multiplicar quieres: \"))\n",
    "i = 1\n",
    "while i <= 9:\n",
    "    mul = num*i\n",
    "    print(\"{} * {} = {}\".format(num, i, mul))\n",
    "    i += 1"
   ]
  },
  {
   "attachments": {},
   "cell_type": "markdown",
   "metadata": {},
   "source": [
    "## Ejercicio 2"
   ]
  },
  {
   "cell_type": "code",
   "execution_count": null,
   "metadata": {},
   "outputs": [],
   "source": [
    "num = 1\n",
    "while num <= 9:\n",
    "    num2 = 1\n",
    "    while num2 <= 9:\n",
    "        res = num*num2\n",
    "        print(f\"{num} * {num2} = {res}\")\n",
    "        num2 += 1\n",
    "    num += 1"
   ]
  },
  {
   "attachments": {},
   "cell_type": "markdown",
   "metadata": {},
   "source": [
    "## Ejercicio 3"
   ]
  },
  {
   "cell_type": "code",
   "execution_count": null,
   "metadata": {},
   "outputs": [],
   "source": [
    "num = input(\"Enter an integrer\")\n",
    "lista1 = list(num)\n",
    "lista2 = list()\n",
    "\n",
    "for i in reversed(lista1):\n",
    "    lista2.append(i)\n",
    "if lista1 == lista2:\n",
    "    print(\"{} es un palindromo\".format(num))\n",
    "else:\n",
    "    print(\"{} no es un palindromo\".format(num))\n",
    "    \n"
   ]
  },
  {
   "cell_type": "code",
   "execution_count": null,
   "metadata": {},
   "outputs": [],
   "source": [
    "num = str(input(\"Enter an integrer\"))\n",
    "num_invent = \"\"\n",
    "i = len(num) - 1\n",
    "\n",
    "while i >= 0:\n",
    "    num_invent += num[i]\n",
    "    i -= 1\n",
    "if num_invent == num:\n",
    "    print(\"{} es un palindromo\".format(num))\n",
    "else:\n",
    "    print(\"{} no es un palindromo\".format(num))\n",
    "    "
   ]
  },
  {
   "attachments": {},
   "cell_type": "markdown",
   "metadata": {},
   "source": [
    "## Ejercicio 4"
   ]
  },
  {
   "cell_type": "code",
   "execution_count": 34,
   "metadata": {},
   "outputs": [
    {
     "name": "stdout",
     "output_type": "stream",
     "text": [
      "Guess a number between 1 to 100:\n",
      "Higher!\n",
      "Higher!\n",
      "Higher!\n",
      "Lower!\n",
      "Higher!\n",
      "Higher!\n",
      "Higher!\n",
      "Congratulations. Total try:  8\n"
     ]
    }
   ],
   "source": [
    "import random as rd\n",
    "\n",
    "tries = 0\n",
    "num_rand = rd.randint(1, 100)\n",
    "\n",
    "print(\"Guess a number between 1 to 100:\")\n",
    "\n",
    "while True:\n",
    "    num = int(input(\"Enter a number:\"))\n",
    "    tries+=1\n",
    "    if num<num_rand:\n",
    "        print(\"Higher!\")\n",
    "    elif num>num_rand:\n",
    "        print(\"Lower!\")\n",
    "    else:\n",
    "        print(\"Congratulations. Total try: \", tries)\n",
    "        break"
   ]
  }
 ],
 "metadata": {
  "kernelspec": {
   "display_name": "base",
   "language": "python",
   "name": "python3"
  },
  "language_info": {
   "codemirror_mode": {
    "name": "ipython",
    "version": 3
   },
   "file_extension": ".py",
   "mimetype": "text/x-python",
   "name": "python",
   "nbconvert_exporter": "python",
   "pygments_lexer": "ipython3",
   "version": "3.10.9"
  },
  "orig_nbformat": 4
 },
 "nbformat": 4,
 "nbformat_minor": 2
}
