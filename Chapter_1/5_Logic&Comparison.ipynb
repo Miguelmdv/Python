{
 "cells": [
  {
   "attachments": {},
   "cell_type": "markdown",
   "metadata": {},
   "source": [
    "Ejercicio 1 unidad 5\n",
    "\n",
    "Decir si el numero es impar o no"
   ]
  },
  {
   "cell_type": "code",
   "execution_count": 5,
   "metadata": {},
   "outputs": [
    {
     "name": "stdout",
     "output_type": "stream",
     "text": [
      "El numero 5604863 es impar? True\n"
     ]
    }
   ],
   "source": [
    "n = int(input(\"Dame un valor y te dire si es impar o no:\"))\n",
    "print(\"El numero\", n, \"es impar?\", n%2 != 0)"
   ]
  },
  {
   "attachments": {},
   "cell_type": "markdown",
   "metadata": {},
   "source": [
    "Ejercicio 2 unidad 5\n",
    "\n",
    "Condicionar si un numero es par y esta entre 0 y 100"
   ]
  },
  {
   "cell_type": "code",
   "execution_count": 12,
   "metadata": {},
   "outputs": [
    {
     "name": "stdout",
     "output_type": "stream",
     "text": [
      "El numero 5 es par? False\n"
     ]
    }
   ],
   "source": [
    "n = int(input(\"Dame un valor y te dire si es par y esta entre 0 y 100:\"))\n",
    "print(\"El numero\", n, \"es par?\", 0 <= n <= 100 and n%2 == 0)"
   ]
  },
  {
   "attachments": {},
   "cell_type": "markdown",
   "metadata": {},
   "source": [
    "Ejercicio 3 Unidad 5\n",
    "\n",
    "Comprobar si el tercer digito de un numero es 3"
   ]
  },
  {
   "cell_type": "code",
   "execution_count": 31,
   "metadata": {},
   "outputs": [
    {
     "name": "stdout",
     "output_type": "stream",
     "text": [
      "Error\n"
     ]
    }
   ],
   "source": [
    "while True:\n",
    "    try:\n",
    "        n = int(input(\"Mete un numero de 3 digitos\"))\n",
    "    except:\n",
    "        print(\"Error\")\n",
    "        break\n",
    "    if 99 < n < 1000:\n",
    "        print(n//100==3)\n",
    "        break\n",
    "    else:\n",
    "        print(\"Tu numero no es de tres digitos\")"
   ]
  },
  {
   "attachments": {},
   "cell_type": "markdown",
   "metadata": {},
   "source": [
    "Ejercicio 4 Unidad 5\n",
    "\n",
    "Ver si un numero  es multiplo de 5 y esta entre 10 y -10"
   ]
  },
  {
   "cell_type": "code",
   "execution_count": 39,
   "metadata": {},
   "outputs": [
    {
     "name": "stdout",
     "output_type": "stream",
     "text": [
      "Fuera de rango\n",
      "Fuera de rango\n",
      "1 no es multiplo de 5\n"
     ]
    }
   ],
   "source": [
    "while True:\n",
    "    n = int(input(\"Mete un numero para ver si es multiplo  de 5\"))\n",
    "    if -10 <= n <= 10: \n",
    "        if n%5 == 0:\n",
    "            print(n,\"es multiplo de 5 \")\n",
    "        else:\n",
    "            print(n, \"no es multiplo de 5\")\n",
    "        break\n",
    "    else:\n",
    "        print(\"Fuera de rango\")"
   ]
  }
 ],
 "metadata": {
  "kernelspec": {
   "display_name": "base",
   "language": "python",
   "name": "python3"
  },
  "language_info": {
   "codemirror_mode": {
    "name": "ipython",
    "version": 3
   },
   "file_extension": ".py",
   "mimetype": "text/x-python",
   "name": "python",
   "nbconvert_exporter": "python",
   "pygments_lexer": "ipython3",
   "version": "3.10.9"
  },
  "orig_nbformat": 4
 },
 "nbformat": 4,
 "nbformat_minor": 2
}
