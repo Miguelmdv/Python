{
 "cells": [
  {
   "cell_type": "code",
   "execution_count": 1,
   "id": "ebaac01b",
   "metadata": {},
   "outputs": [
    {
     "name": "stdout",
     "output_type": "stream",
     "text": [
      "El area es 12.5664 y la circunferencia 12.5664\n"
     ]
    }
   ],
   "source": [
    "pi = 3.1416\n",
    "radio = float(input(\"Cual es el radio?\"))\n",
    "area = pi * radio * radio\n",
    "circun = 2.0 * pi * radio\n",
    "print(\"El area es\", area, \"y la circunferencia\", circun)"
   ]
  },
  {
   "cell_type": "code",
   "execution_count": 2,
   "id": "3a0924b3",
   "metadata": {},
   "outputs": [
    {
     "name": "stdout",
     "output_type": "stream",
     "text": [
      "1\n"
     ]
    }
   ],
   "source": [
    "print(8//5)"
   ]
  },
  {
   "cell_type": "code",
   "execution_count": 3,
   "id": "8307a38b",
   "metadata": {},
   "outputs": [
    {
     "data": {
      "text/plain": [
       "8"
      ]
     },
     "execution_count": 3,
     "metadata": {},
     "output_type": "execute_result"
    }
   ],
   "source": [
    "2**3 #Dos elevado a tres"
   ]
  },
  {
   "cell_type": "code",
   "execution_count": 4,
   "id": "b7039f7a",
   "metadata": {},
   "outputs": [
    {
     "data": {
      "text/plain": [
       "1"
      ]
     },
     "execution_count": 4,
     "metadata": {},
     "output_type": "execute_result"
    }
   ],
   "source": [
    "a = \"1\"\n",
    "a = int(a)\n",
    "a "
   ]
  },
  {
   "cell_type": "code",
   "execution_count": 6,
   "id": "3df54fc6",
   "metadata": {},
   "outputs": [
    {
     "name": "stdout",
     "output_type": "stream",
     "text": [
      "\"\"\n"
     ]
    }
   ],
   "source": [
    "print('\"\"')"
   ]
  },
  {
   "cell_type": "code",
   "execution_count": 12,
   "id": "191c4c1a",
   "metadata": {},
   "outputs": [
    {
     "name": "stdout",
     "output_type": "stream",
     "text": [
      "100 \n",
      "5050\n",
      "1000\n"
     ]
    }
   ],
   "source": [
    "print(int(\"50\")+50,\\\n",
    "    \"\\n\"+\"50\"+str(50))\n",
    "print(int(\"1\"+\"000\"))"
   ]
  },
  {
   "cell_type": "code",
   "execution_count": 13,
   "id": "725a78d0",
   "metadata": {},
   "outputs": [
    {
     "name": "stdout",
     "output_type": "stream",
     "text": [
      "<class 'int'>\n"
     ]
    }
   ],
   "source": [
    "print(type(10))"
   ]
  },
  {
   "cell_type": "code",
   "execution_count": 15,
   "id": "9702ad48",
   "metadata": {},
   "outputs": [
    {
     "data": {
      "text/plain": [
       "-2.0"
      ]
     },
     "execution_count": 15,
     "metadata": {},
     "output_type": "execute_result"
    }
   ],
   "source": [
    "10.0//-7.0"
   ]
  },
  {
   "cell_type": "code",
   "execution_count": 22,
   "id": "cd837bd3",
   "metadata": {},
   "outputs": [
    {
     "name": "stdout",
     "output_type": "stream",
     "text": [
      "e\n",
      "o\n"
     ]
    }
   ],
   "source": [
    "print(\"hello\"[1])\n",
    "print(\"hello\"[-1])"
   ]
  },
  {
   "attachments": {},
   "cell_type": "markdown",
   "id": "215b1b39",
   "metadata": {},
   "source": [
    "Prueba de texto"
   ]
  }
 ],
 "metadata": {
  "kernelspec": {
   "display_name": "Python 3 (ipykernel)",
   "language": "python",
   "name": "python3"
  },
  "language_info": {
   "codemirror_mode": {
    "name": "ipython",
    "version": 3
   },
   "file_extension": ".py",
   "mimetype": "text/x-python",
   "name": "python",
   "nbconvert_exporter": "python",
   "pygments_lexer": "ipython3",
   "version": "3.10.9"
  }
 },
 "nbformat": 4,
 "nbformat_minor": 5
}
