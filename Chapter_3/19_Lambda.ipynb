{
 "cells": [
  {
   "attachments": {},
   "cell_type": "markdown",
   "metadata": {},
   "source": [
    "## Ejercicio 1"
   ]
  },
  {
   "cell_type": "code",
   "execution_count": 45,
   "metadata": {},
   "outputs": [
    {
     "name": "stdout",
     "output_type": "stream",
     "text": [
      "[2, 4, 6, 8, 10]\n"
     ]
    }
   ],
   "source": [
    "n_list = [1, 2, 3, 4, 5, 6, 7, 8, 9, 10]\n",
    "even_list = []\n",
    "for a in filter(lambda x: x % 2 == 0, n_list):\n",
    "    even_list.append(a)\n",
    "print(even_list)\n"
   ]
  },
  {
   "attachments": {},
   "cell_type": "markdown",
   "metadata": {},
   "source": [
    "## Ejercicio 2"
   ]
  },
  {
   "cell_type": "code",
   "execution_count": 46,
   "metadata": {},
   "outputs": [
    {
     "name": "stdout",
     "output_type": "stream",
     "text": [
      "[2, 4, 6, 8, 10]\n"
     ]
    }
   ],
   "source": [
    "# Lo mismo que antes, filtra los pares\n",
    "even_list2 = list(filter(lambda x: x % 2 == 0, n_list))\n",
    "print(even_list2)\n"
   ]
  },
  {
   "attachments": {},
   "cell_type": "markdown",
   "metadata": {},
   "source": [
    "## Ejercicio 3"
   ]
  },
  {
   "cell_type": "code",
   "execution_count": 47,
   "metadata": {},
   "outputs": [
    {
     "name": "stdout",
     "output_type": "stream",
     "text": [
      "['A', 'B', 'C', 'D']\n"
     ]
    }
   ],
   "source": [
    "a_list = [\"a\", \"b\", \"c\", \"d\"]\n",
    "upper_a_list = list(map(lambda letter: letter.upper(), a_list))\n",
    "print(upper_a_list)\n"
   ]
  },
  {
   "attachments": {},
   "cell_type": "markdown",
   "metadata": {},
   "source": [
    "## Ejercicio 4"
   ]
  },
  {
   "cell_type": "code",
   "execution_count": 48,
   "metadata": {},
   "outputs": [
    {
     "name": "stdout",
     "output_type": "stream",
     "text": [
      "5050\n"
     ]
    }
   ],
   "source": [
    "from functools import reduce\n",
    "suma = reduce(lambda x, y: x+y, range(1, 101))\n",
    "print(suma)\n"
   ]
  },
  {
   "attachments": {},
   "cell_type": "markdown",
   "metadata": {},
   "source": [
    "## Ejercicio parejas 1"
   ]
  },
  {
   "cell_type": "code",
   "execution_count": 56,
   "metadata": {},
   "outputs": [
    {
     "name": "stdout",
     "output_type": "stream",
     "text": [
      "The number of total students is 6\n",
      "The number of total students is 4\n",
      "Scores of students with valid scores: \n",
      "[100, 90, 95]\n",
      "[90, 80, 70]\n",
      "[100, 75, 20]\n",
      "[30, 50, 90]\n"
     ]
    }
   ],
   "source": [
    "scores = [100, 90, 95, 90, 80, 70, 0, 80,\n",
    "          90, 90, 0, 90, 100, 75, 20, 30, 50, 90]\n",
    "\n",
    "\n",
    "total_alum = len(scores)//3\n",
    "\n",
    "valid_scores = list(filter(lambda s: 0 not in s, map(\n",
    "    lambda i: scores[i:i+3], range(0, len(scores), 3))))\n",
    "\n",
    "num_valid_students = len(valid_scores)\n",
    "\n",
    "print(\"The number of total students is\", total_alum)\n",
    "print(\"The number of total students is\", num_valid_students)\n",
    "print(\"Scores of students with valid scores: \")\n",
    "\n",
    "for student_scores in valid_scores:\n",
    "    print(student_scores)\n"
   ]
  }
 ],
 "metadata": {
  "kernelspec": {
   "display_name": "base",
   "language": "python",
   "name": "python3"
  },
  "language_info": {
   "codemirror_mode": {
    "name": "ipython",
    "version": 3
   },
   "file_extension": ".py",
   "mimetype": "text/x-python",
   "name": "python",
   "nbconvert_exporter": "python",
   "pygments_lexer": "ipython3",
   "version": "3.10.9"
  },
  "orig_nbformat": 4
 },
 "nbformat": 4,
 "nbformat_minor": 2
}
