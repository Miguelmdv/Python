{
 "cells": [
  {
   "attachments": {},
   "cell_type": "markdown",
   "metadata": {},
   "source": [
    "## Ejemplo"
   ]
  },
  {
   "cell_type": "code",
   "execution_count": 6,
   "metadata": {},
   "outputs": [
    {
     "name": "stdout",
     "output_type": "stream",
     "text": [
      "Bird is ready\n",
      "Penguin is ready\n",
      "Penguin\n",
      "Swim faster\n",
      "Run faster\n"
     ]
    }
   ],
   "source": [
    "class Bird:\n",
    "\n",
    "   def __init__(self):\n",
    "     print('Bird is ready')\n",
    "\n",
    "   def whoisThis(self):\n",
    "     print('Bird')\n",
    "\n",
    "   def swim(self):\n",
    "     print('Swim faster')\n",
    "\n",
    "# child class\n",
    "class Penguin(Bird):\n",
    "\n",
    "   def __init__(self):\n",
    "     # call super() function\n",
    "     super().__init__()\n",
    "     print('Penguin is ready')\n",
    "\n",
    "   def whoisThis(self):\n",
    "     print('Penguin')\n",
    "\n",
    "   def run(self):\n",
    "     print('Run faster')\n",
    "\n",
    "peggy = Penguin()\n",
    "peggy.whoisThis()\n",
    "peggy.swim()\n",
    "peggy.run()"
   ]
  },
  {
   "cell_type": "code",
   "execution_count": 20,
   "metadata": {},
   "outputs": [
    {
     "name": "stdout",
     "output_type": "stream",
     "text": [
      "Bird is ready\n",
      "Penguin is ready\n",
      "A penguin named Christopher who has the black color\n",
      "Swim faster\n",
      "Run faster\n"
     ]
    }
   ],
   "source": [
    "class Bird:\n",
    "\n",
    "    def __init__(self, name, color):\n",
    "        self.name = name\n",
    "        self.color = color\n",
    "        print('Bird is ready')\n",
    "\n",
    "    def whoisThis(self):\n",
    "        print('Bird')\n",
    "\n",
    "    def swim(self):\n",
    "        print('Swim faster')\n",
    "\n",
    "# child class\n",
    "\n",
    "\n",
    "class Penguin(Bird):\n",
    "\n",
    "    def __init__(self, name, color):\n",
    "        super().__init__(name, color)\n",
    "        print('Penguin is ready')\n",
    "\n",
    "    def get_name(self):\n",
    "        return self.name\n",
    "    def get_color(self):\n",
    "        return self.color\n",
    "\n",
    "    def whoisThis(self):\n",
    "        print(f'A penguin named {self.name} who has the {self.color.lower()} color')\n",
    "\n",
    "    def run(self):\n",
    "        print('Run faster')\n",
    "\n",
    "peggy = Penguin(\"Christopher\", \"Black\")\n",
    "peggy.whoisThis()\n",
    "peggy.swim()\n",
    "peggy.run()"
   ]
  }
 ],
 "metadata": {
  "kernelspec": {
   "display_name": "base",
   "language": "python",
   "name": "python3"
  },
  "language_info": {
   "codemirror_mode": {
    "name": "ipython",
    "version": 3
   },
   "file_extension": ".py",
   "mimetype": "text/x-python",
   "name": "python",
   "nbconvert_exporter": "python",
   "pygments_lexer": "ipython3",
   "version": "3.10.9"
  },
  "orig_nbformat": 4
 },
 "nbformat": 4,
 "nbformat_minor": 2
}
