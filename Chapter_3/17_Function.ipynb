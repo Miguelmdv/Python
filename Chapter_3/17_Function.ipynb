{
 "cells": [
  {
   "attachments": {},
   "cell_type": "markdown",
   "metadata": {},
   "source": [
    "Ejemplo"
   ]
  },
  {
   "cell_type": "code",
   "execution_count": 2,
   "metadata": {},
   "outputs": [
    {
     "name": "stdout",
     "output_type": "stream",
     "text": [
      "**********\n",
      "**********\n",
      "**********\n",
      "**********\n",
      "**********\n"
     ]
    }
   ],
   "source": [
    "def print_star(n, m):\n",
    "    for _ in range(n): # La barra baja es para no tener que usar una variable ya que no se va a usar\n",
    "        print(\"*\"*m)\n",
    "        \n",
    "print_star(5, 10)"
   ]
  },
  {
   "attachments": {},
   "cell_type": "markdown",
   "metadata": {},
   "source": [
    "## Ejercicio 2"
   ]
  },
  {
   "cell_type": "code",
   "execution_count": 3,
   "metadata": {},
   "outputs": [
    {
     "name": "stdout",
     "output_type": "stream",
     "text": [
      "the greater of 100 or 200 is : 200\n",
      "the greater of 100 or 200 is : 100\n"
     ]
    }
   ],
   "source": [
    "def max2(m,n):\n",
    "    return max(m,n)\n",
    "def min2(m,n):\n",
    "    return min(m,n)\n",
    "\n",
    "print(\"the greater of 100 or 200 is :\", max2(100,200))\n",
    "print(\"the greater of 100 or 200 is :\", min2(100,200))"
   ]
  },
  {
   "attachments": {},
   "cell_type": "markdown",
   "metadata": {},
   "source": [
    "## Ejercicio 3"
   ]
  },
  {
   "cell_type": "code",
   "execution_count": 7,
   "metadata": {},
   "outputs": [
    {
     "name": "stdout",
     "output_type": "stream",
     "text": [
      "1 mile = 1.61 kilometers\n",
      "2 mile = 3.22 kilometers\n",
      "3 mile = 4.83 kilometers\n",
      "4 mile = 6.44 kilometers\n",
      "5 mile = 8.05 kilometers\n"
     ]
    }
   ],
   "source": [
    "def mile2km(mi):\n",
    "    km = 1.61 * mi / 1\n",
    "    return km\n",
    "\n",
    "def print_km(times = 5):\n",
    "    for i in range(times):\n",
    "        m = i+1\n",
    "        print(f\"{m} mile = {mile2km(m)} kilometers\")\n",
    "        \n",
    "print_km()"
   ]
  },
  {
   "attachments": {},
   "cell_type": "markdown",
   "metadata": {},
   "source": [
    "## Ejercicio 4"
   ]
  },
  {
   "cell_type": "code",
   "execution_count": 19,
   "metadata": {},
   "outputs": [
    {
     "name": "stdout",
     "output_type": "stream",
     "text": [
      "10 degrees Celsious = 50.0 degrees Fahrenheit\n",
      "20 degrees Celsious = 68.0 degrees Fahrenheit\n",
      "30 degrees Celsious = 86.0 degrees Fahrenheit\n",
      "40 degrees Celsious = 104.0 degrees Fahrenheit\n",
      "50 degrees Celsious = 122.0 degrees Fahrenheit\n"
     ]
    }
   ],
   "source": [
    "def cel2fah(cel):\n",
    "    fah =  cel * 9/5 + 32\n",
    "    return fah\n",
    "\n",
    "def print_fah(times = 5):\n",
    "    for i in range(times):\n",
    "        m = (i+1)*10\n",
    "        print(f\"{m} degrees Celsious = {cel2fah(m)} degrees Fahrenheit\")\n",
    "        \n",
    "print_fah()"
   ]
  },
  {
   "attachments": {},
   "cell_type": "markdown",
   "metadata": {},
   "source": [
    "## Ejercicio parejas 1"
   ]
  },
  {
   "cell_type": "code",
   "execution_count": 31,
   "metadata": {},
   "outputs": [
    {
     "name": "stdout",
     "output_type": "stream",
     "text": [
      "The [5, 4, 8, 9, 6] value of 6.4 is average\n",
      "The [5, 4, 8, 9, 6] value of 9 is maximum\n",
      "The [5, 4, 8, 9, 6] value of 4 is minimum\n"
     ]
    }
   ],
   "source": [
    "import numpy as np\n",
    "\n",
    "def mean3(n):\n",
    "    return np.mean(n), \"average\"\n",
    "\n",
    "def min3(n):\n",
    "    return min(n), \"minimum\"\n",
    "\n",
    "def max3(n):\n",
    "    return max(n), \"maximum\"\n",
    "\n",
    "def print_ln(n):\n",
    "    maximo = max3(n)\n",
    "    minimo = min3(n)\n",
    "    media = mean3(n)\n",
    "    print(f\"The {n} value of {media[0]} is {media[1]}\")\n",
    "    print(f\"The {n} value of {maximo[0]} is {maximo[1]}\")\n",
    "    print(f\"The {n} value of {minimo[0]} is {minimo[1]}\")\n",
    "\n",
    "def str_list2int_list(lista):\n",
    "    n = []\n",
    "    for i in lista:\n",
    "        n.append(int(i))\n",
    "    return n\n",
    "\n",
    "    \n",
    "    \n",
    "nums = input(\"Entrer various numbers: \").split()\n",
    "nums = str_list2int_list(nums)\n",
    "print_ln(nums)\n",
    "\n"
   ]
  }
 ],
 "metadata": {
  "kernelspec": {
   "display_name": "base",
   "language": "python",
   "name": "python3"
  },
  "language_info": {
   "codemirror_mode": {
    "name": "ipython",
    "version": 3
   },
   "file_extension": ".py",
   "mimetype": "text/x-python",
   "name": "python",
   "nbconvert_exporter": "python",
   "pygments_lexer": "ipython3",
   "version": "3.10.9"
  },
  "orig_nbformat": 4
 },
 "nbformat": 4,
 "nbformat_minor": 2
}
