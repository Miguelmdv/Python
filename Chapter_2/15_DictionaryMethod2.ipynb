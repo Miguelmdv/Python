{
 "cells": [
  {
   "attachments": {},
   "cell_type": "markdown",
   "metadata": {},
   "source": [
    "## Ejemplo\n",
    "\n",
    "Cuenta cuantas letras hay repetidas"
   ]
  },
  {
   "cell_type": "code",
   "execution_count": 1,
   "metadata": {},
   "outputs": [
    {
     "data": {
      "text/plain": [
       "defaultdict(int, {'a': 4, 'b': 3, 'c': 2})"
      ]
     },
     "execution_count": 1,
     "metadata": {},
     "output_type": "execute_result"
    }
   ],
   "source": [
    "from collections import defaultdict\n",
    "\n",
    "word = \"abcbaabca\"\n",
    "counter = defaultdict(int)\n",
    "for letter in word:\n",
    "    counter[letter] += 1\n",
    "\n",
    "counter"
   ]
  },
  {
   "attachments": {},
   "cell_type": "markdown",
   "metadata": {},
   "source": [
    "## Ejercicio 1"
   ]
  },
  {
   "cell_type": "code",
   "execution_count": 7,
   "metadata": {},
   "outputs": [
    {
     "name": "stdout",
     "output_type": "stream",
     "text": [
      "{'211101': ['David Doe', '010-1234-4500'], '211102': ['John Smith', '010-2230-6540'], '211103': ['Jane Carter', '010-3232-7788']}\n"
     ]
    }
   ],
   "source": [
    "student_tup = ((\"211101\", \"David Doe\", \"010-1234-4500\"), (\"211102\", \"John Smith\", \"010-2230-6540\"),(\"211103\", \"Jane Carter\", \"010-3232-7788\"))\n",
    "dic_student = {}\n",
    "for item in student_tup:\n",
    "    dic_student.setdefault(item[0], [item[1], item[2]])\n",
    "print(dic_student)\n",
    "        "
   ]
  },
  {
   "attachments": {},
   "cell_type": "markdown",
   "metadata": {},
   "source": [
    "## Ejercicio 2"
   ]
  },
  {
   "cell_type": "code",
   "execution_count": 13,
   "metadata": {},
   "outputs": [
    {
     "name": "stdout",
     "output_type": "stream",
     "text": [
      "ID : 211103\n",
      "Name : Jane Carter\n",
      "Phone number : 010-3232-7788\n"
     ]
    }
   ],
   "source": [
    "student_tup = ((\"211101\", \"David Doe\", \"010-1234-4500\"), (\"211102\", \"John Smith\", \"010-2230-6540\"),(\"211103\", \"Jane Carter\", \"010-3232-7788\"))\n",
    "dic_students = {}\n",
    "for item in student_tup:\n",
    "    dic_students.setdefault(item[0], [item[1], item[2]])\n",
    "    \n",
    "num = input(\"Student number: \")\n",
    "if num in dic_students:\n",
    "    print(\"ID :\", num)\n",
    "    print(\"Name :\", dic_students[num][0])\n",
    "    print(\"Phone number :\", dic_students[num][1])\n",
    "else:\n",
    "    print(\"Not found\")"
   ]
  },
  {
   "attachments": {},
   "cell_type": "markdown",
   "metadata": {},
   "source": [
    "## Ejemplos"
   ]
  },
  {
   "cell_type": "code",
   "execution_count": 16,
   "metadata": {},
   "outputs": [
    {
     "data": {
      "text/plain": [
       "5"
      ]
     },
     "execution_count": 16,
     "metadata": {},
     "output_type": "execute_result"
    }
   ],
   "source": [
    "import datetime as dt\n",
    "now = dt.date.today()\n",
    "now.month"
   ]
  }
 ],
 "metadata": {
  "kernelspec": {
   "display_name": "base",
   "language": "python",
   "name": "python3"
  },
  "language_info": {
   "codemirror_mode": {
    "name": "ipython",
    "version": 3
   },
   "file_extension": ".py",
   "mimetype": "text/x-python",
   "name": "python",
   "nbconvert_exporter": "python",
   "pygments_lexer": "ipython3",
   "version": "3.10.9"
  },
  "orig_nbformat": 4
 },
 "nbformat": 4,
 "nbformat_minor": 2
}
