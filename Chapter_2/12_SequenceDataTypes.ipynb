{
 "cells": [
  {
   "attachments": {},
   "cell_type": "markdown",
   "metadata": {},
   "source": [
    "## Ejemplos"
   ]
  },
  {
   "cell_type": "code",
   "execution_count": 15,
   "metadata": {},
   "outputs": [
    {
     "name": "stdout",
     "output_type": "stream",
     "text": [
      "el yhn\n",
      "el yhn"
     ]
    }
   ],
   "source": [
    "s = \"hello python\"\n",
    "print(s[1::2])\n",
    "\n",
    "for i in range(1,len(s),2):\n",
    "    print(s[i], end =\"\")"
   ]
  },
  {
   "attachments": {},
   "cell_type": "markdown",
   "metadata": {},
   "source": [
    "## Ejercicio 1"
   ]
  },
  {
   "cell_type": "code",
   "execution_count": 18,
   "metadata": {},
   "outputs": [
    {
     "name": "stdout",
     "output_type": "stream",
     "text": [
      "True\n",
      "[('a', 'b', 'c', 'd', 'e')]\n"
     ]
    }
   ],
   "source": [
    "t1 = \"a\", \"b\", \"c\"\n",
    "t2 = (\"a\", \"b\", \"c\")\n",
    "t3 = (\"d\", \"e\")\n",
    "\n",
    "print(t1 == t2)\n",
    "print([t1 + t3])\n",
    "\n"
   ]
  },
  {
   "attachments": {},
   "cell_type": "markdown",
   "metadata": {},
   "source": [
    "## Ejercicio 2"
   ]
  },
  {
   "cell_type": "code",
   "execution_count": 12,
   "metadata": {},
   "outputs": [
    {
     "name": "stdout",
     "output_type": "stream",
     "text": [
      "Daily sales record: (100, 121, 120, 130, 140, 120, 122, 123, 190, 125)\n",
      "In the past 10 days, 3 days had reduced sales compared to the previous day.\n"
     ]
    }
   ],
   "source": [
    "sales = (100, 121, 120, 130, 140, 120, 122, 123, 190, 125)\n",
    "print(\"Daily sales record:\", sales)\n",
    "last_day = sales[0]\n",
    "reduced_sales = 0\n",
    "for new_day in sales:\n",
    "    if last_day > new_day:\n",
    "        reduced_sales+=1\n",
    "    last_day = new_day\n",
    "print(\"In the past {} days, {} days had reduced sales compared to the previous day.\".format(len(sales), reduced_sales))\n"
   ]
  },
  {
   "attachments": {},
   "cell_type": "markdown",
   "metadata": {},
   "source": [
    "## Ejercicio 3"
   ]
  },
  {
   "cell_type": "code",
   "execution_count": null,
   "metadata": {},
   "outputs": [],
   "source": [
    "tup = (1,2,5,4,3,2,1,4,7,8,9,9,3,7,3,9)\n",
    "tup_cont = {tup}\n",
    "for n in tup:\n",
    "    for n2 in tup:\n",
    "        tup_cont[n]\n",
    "        if n == n2:\n",
    "            tup_cont[n]+=1\n",
    "        else\n",
    "            "
   ]
  }
 ],
 "metadata": {
  "kernelspec": {
   "display_name": "base",
   "language": "python",
   "name": "python3"
  },
  "language_info": {
   "codemirror_mode": {
    "name": "ipython",
    "version": 3
   },
   "file_extension": ".py",
   "mimetype": "text/x-python",
   "name": "python",
   "nbconvert_exporter": "python",
   "pygments_lexer": "ipython3",
   "version": "3.10.9"
  },
  "orig_nbformat": 4
 },
 "nbformat": 4,
 "nbformat_minor": 2
}
