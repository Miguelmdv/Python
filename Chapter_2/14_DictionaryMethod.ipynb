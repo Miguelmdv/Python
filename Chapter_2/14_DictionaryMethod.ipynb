{
 "cells": [
  {
   "attachments": {},
   "cell_type": "markdown",
   "metadata": {},
   "source": [
    "## Tabla Metodos"
   ]
  },
  {
   "attachments": {},
   "cell_type": "markdown",
   "metadata": {},
   "source": [
    "![Dic_Methods](Img/Dic_Methods.png)"
   ]
  },
  {
   "attachments": {},
   "cell_type": "markdown",
   "metadata": {},
   "source": [
    "## Ejercicio 1"
   ]
  },
  {
   "cell_type": "code",
   "execution_count": 9,
   "metadata": {},
   "outputs": [
    {
     "name": "stdout",
     "output_type": "stream",
     "text": [
      "Last Name : Doe\n",
      "Fist Name : David\n",
      "Company : Samsung\n",
      "####################\n",
      "Last Name : Doe\n",
      "Fist Name : David\n",
      "Company : Samsung\n"
     ]
    }
   ],
   "source": [
    "dic = {\"Last Name\": \"Doe\", \"Fist Name\": \"David\", \"Company\": \"Samsung\"}\n",
    "\n",
    "for key, val in dic.items():\n",
    "    print(key, \":\", val)\n",
    "    \n",
    "print(\"#\"*20)\n",
    "\n",
    "for key in dic:\n",
    "    print(key, \":\", dic.get(key))"
   ]
  },
  {
   "attachments": {},
   "cell_type": "markdown",
   "metadata": {},
   "source": [
    "## Ejercicio 2"
   ]
  },
  {
   "cell_type": "code",
   "execution_count": 29,
   "metadata": {},
   "outputs": [
    {
     "name": "stdout",
     "output_type": "stream",
     "text": [
      "a\n",
      "Doesn't exist a on the inventory\n",
      "Pen\n",
      "3\n"
     ]
    }
   ],
   "source": [
    "items = {\"Coffee\": 7, \"Pen\": 3, \"Paper Cup\": 2, \"Milk\": 1, \"Coke\": 4, \"Book\": 5}\n",
    "\n",
    "while True:\n",
    "    n = input(\"Enter name of the item or say 'Exit':\")\n",
    "    if(n == \"Exit\" or n == \"exit\" or n == \"\\n\"):\n",
    "        break\n",
    "    elif(n not in items):\n",
    "        print(f\"Doesn't exist {n} on the inventory\")\n",
    "        continue\n",
    "    else:\n",
    "        print(items.get(n))\n",
    "        break"
   ]
  },
  {
   "attachments": {},
   "cell_type": "markdown",
   "metadata": {},
   "source": [
    "## Ejemplos"
   ]
  },
  {
   "cell_type": "code",
   "execution_count": 12,
   "metadata": {},
   "outputs": [
    {
     "name": "stdout",
     "output_type": "stream",
     "text": [
      "['2021', '8', '15']\n"
     ]
    }
   ],
   "source": [
    "s = \"2021.8.15\"\n",
    "print(s.split(\".\"))"
   ]
  },
  {
   "cell_type": "code",
   "execution_count": 14,
   "metadata": {},
   "outputs": [
    {
     "name": "stdout",
     "output_type": "stream",
     "text": [
      "['Welcome', ' to', '  Python', ' and ', '  bla', ' bla   ']\n",
      "['Welcome', 'to', 'Python', 'and', 'bla', 'bla']\n",
      "Hello World!\n",
      "Hello World! \n",
      " Hello World!\n"
     ]
    }
   ],
   "source": [
    "s = \"Welcome, to,  Python, and ,  bla, bla   \"\n",
    "print(s.split(\",\"))\n",
    "\n",
    "a = [x.strip() for x in s.split(\",\")]\n",
    "print(a)\n",
    "\n",
    "s = \" Hello World! \"\n",
    "print(s.strip())\n",
    "print(s.lstrip())\n",
    "print(s.rstrip())"
   ]
  },
  {
   "attachments": {},
   "cell_type": "markdown",
   "metadata": {},
   "source": [
    "## Ejercicio Parejas 1"
   ]
  },
  {
   "cell_type": "code",
   "execution_count": 5,
   "metadata": {},
   "outputs": [
    {
     "name": "stdout",
     "output_type": "stream",
     "text": [
      "Pen now is 5\n",
      "Exit\n"
     ]
    }
   ],
   "source": [
    "items = {\"Coffee\": 7, \"Pen\": 3, \"Paper Cup\": 2, \"Milk\": 1, \"Coke\": 4, \"Book\": 5}\n",
    "\n",
    "while True:\n",
    "    menu = input(\"Elige 1:check, 2:update o 3:exit\")\n",
    "    \n",
    "    if menu == \"1\":\n",
    "        n = input(\"Enter name of the item or say 'Exit':\")\n",
    "        if(n not in items):\n",
    "            print(f\"Doesn't exist {n} on the inventory\")\n",
    "        else:\n",
    "            print(items.get(n))\n",
    "    elif menu == \"2\":\n",
    "        x, y = input(\"What item and how many?: \").split()\n",
    "        if x in items.keys():\n",
    "            items[x] = int(y)\n",
    "            print(f\"{x} now is {items[x]}\")\n",
    "        else:\n",
    "            print(f\"Doesn't exist {x} on the inventory\")\n",
    "    else:\n",
    "        print(\"Exit\")\n",
    "        break"
   ]
  }
 ],
 "metadata": {
  "kernelspec": {
   "display_name": "base",
   "language": "python",
   "name": "python3"
  },
  "language_info": {
   "codemirror_mode": {
    "name": "ipython",
    "version": 3
   },
   "file_extension": ".py",
   "mimetype": "text/x-python",
   "name": "python",
   "nbconvert_exporter": "python",
   "pygments_lexer": "ipython3",
   "version": "3.10.9"
  },
  "orig_nbformat": 4
 },
 "nbformat": 4,
 "nbformat_minor": 2
}
