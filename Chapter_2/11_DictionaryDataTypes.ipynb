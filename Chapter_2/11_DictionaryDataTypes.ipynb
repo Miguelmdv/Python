{
 "cells": [
  {
   "attachments": {},
   "cell_type": "markdown",
   "metadata": {},
   "source": [
    "## Ejemplos"
   ]
  },
  {
   "cell_type": "code",
   "execution_count": 49,
   "metadata": {},
   "outputs": [
    {
     "name": "stdout",
     "output_type": "stream",
     "text": [
      "Americano        price : 3,000 KRW\n",
      "Ice Americano    price : 3,500 KRW\n",
      "Cappuccino       price : 4,000 KRW\n",
      "Cafe Latte       price : 4,500 KRW\n",
      "Espresso         price : 3,600 KRW\n",
      "Sorry, a is not in the menu.\n"
     ]
    }
   ],
   "source": [
    "menu = {\"Americano\": 3000, \"Ice Americano\": 3500, \"Cappuccino\": 4000, \"Cafe Latte\":4500, \"Espresso\": 3600}\n",
    "\n",
    "for key in menu:\n",
    "    print(\"{:16s} price : {:,} KRW\".format(key, menu[key]))\n",
    "    \n",
    "choice = input(\"Select one menu from the list: \")\n",
    "if choice in menu.keys():\n",
    "    print(\"{} is {:,} KRW. Please make a payment.\".format(choice, menu[choice]))\n",
    "else:\n",
    "    print(\"Sorry, {} is not in the menu.\".format(choice))"
   ]
  },
  {
   "cell_type": "code",
   "execution_count": null,
   "metadata": {},
   "outputs": [],
   "source": [
    "menu[\"Irlandes\"] = 6000\n",
    "print(menu)"
   ]
  },
  {
   "attachments": {},
   "cell_type": "markdown",
   "metadata": {},
   "source": [
    "## Ejemplo JSON"
   ]
  },
  {
   "cell_type": "code",
   "execution_count": 1,
   "metadata": {},
   "outputs": [],
   "source": [
    "import json\n",
    "\n",
    "data = {\"title\": \"The old man and the sea\", \"ISBN\": 1234, \"Author\": \"ER\"}\n",
    "\n",
    "#Code to create a json_data as bookx.isdisjoint\n",
    "with open(\"Unidad11_ArchivosExtra/book.json\", \"w\") as f:\n",
    "    json.dump(data, f, indent = \"\\t\")\n"
   ]
  },
  {
   "attachments": {},
   "cell_type": "markdown",
   "metadata": {},
   "source": [
    "## Ejercicio 1"
   ]
  },
  {
   "cell_type": "code",
   "execution_count": 47,
   "metadata": {},
   "outputs": [
    {
     "name": "stdout",
     "output_type": "stream",
     "text": [
      "Seoul\n"
     ]
    }
   ],
   "source": [
    "capital_dic = {\"korea\": \"Seoul\", \"China\": \"Beijing\", \"USA\": \"Washington DC\"}\n",
    "print(capital_dic[\"korea\"])"
   ]
  },
  {
   "attachments": {},
   "cell_type": "markdown",
   "metadata": {},
   "source": [
    "## Ejercicio 2"
   ]
  },
  {
   "cell_type": "code",
   "execution_count": 84,
   "metadata": {},
   "outputs": [
    {
     "name": "stdout",
     "output_type": "stream",
     "text": [
      "######\n",
      "The price of an apple        is: 5,000 KRW\n",
      "The price of a banana       is: 4,000 KRW\n",
      "The price of a grape        is: 5,300 KRW\n",
      "The price of a melon        is: 6,500 KRW\n",
      "######\n",
      "######\n",
      "The price of an apple        is: 5,000 KRW\n",
      "The price of a banana       is: 4,000 KRW\n",
      "The price of a grape        is: 5,300 KRW\n",
      "The price of a melon        is: 6,500 KRW\n",
      "The price of an ananas       is: 4,050 KRW\n",
      "######\n"
     ]
    }
   ],
   "source": [
    "def price_print(dic):\n",
    "    vowel =  [\"e\", \"a\", \"i\", \"o\", \"u\"]\n",
    "    print(\"#\"*6)\n",
    "    for key in dic:\n",
    "        if key[0] in vowel:\n",
    "            print(\"The price of an {:12s} is: {:,} KRW\".format(key, dic[key]))\n",
    "        else:\n",
    "            print(\"The price of a {:12s} is: {:,} KRW\".format(key, dic[key]))\n",
    "    print(\"#\"*6)\n",
    "    return\n",
    "\n",
    "fruits_dic = {\"apple\": 5000, \"banana\": 4000, \"grape\": 5300, \"melon\": 6500}\n",
    "price_print(fruits_dic)\n",
    "fruits_dic[\"ananas\"] = 4050\n",
    "price_print(fruits_dic)\n",
    "\n",
    "        "
   ]
  }
 ],
 "metadata": {
  "kernelspec": {
   "display_name": "base",
   "language": "python",
   "name": "python3"
  },
  "language_info": {
   "codemirror_mode": {
    "name": "ipython",
    "version": 3
   },
   "file_extension": ".py",
   "mimetype": "text/x-python",
   "name": "python",
   "nbconvert_exporter": "python",
   "pygments_lexer": "ipython3",
   "version": "3.10.9"
  },
  "orig_nbformat": 4
 },
 "nbformat": 4,
 "nbformat_minor": 2
}
